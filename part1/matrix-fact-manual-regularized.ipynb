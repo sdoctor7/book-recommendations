{
 "cells": [
  {
   "cell_type": "markdown",
   "metadata": {},
   "source": [
    "### Matrix Factorization with Regularization"
   ]
  },
  {
   "cell_type": "markdown",
   "metadata": {},
   "source": [
    "#### Import Libraries"
   ]
  },
  {
   "cell_type": "code",
   "execution_count": 2,
   "metadata": {
    "collapsed": true
   },
   "outputs": [],
   "source": [
    "import pandas as pd\n",
    "import numpy as np\n",
    "import matplotlib.pyplot as plt\n",
    "%matplotlib inline\n",
    "from sklearn.model_selection import train_test_split, KFold\n",
    "import time\n",
    "from scipy.stats import spearmanr\n",
    "import statsmodels.formula.api as sm"
   ]
  },
  {
   "cell_type": "markdown",
   "metadata": {},
   "source": [
    "#### Import Data"
   ]
  },
  {
   "cell_type": "code",
   "execution_count": 2,
   "metadata": {
    "collapsed": false
   },
   "outputs": [],
   "source": [
    "ratings = pd.read_csv('../../ratings.csv')"
   ]
  },
  {
   "cell_type": "markdown",
   "metadata": {},
   "source": [
    "#### Make Subsets of Data for Part I"
   ]
  },
  {
   "cell_type": "code",
   "execution_count": 3,
   "metadata": {
    "collapsed": false
   },
   "outputs": [],
   "source": [
    "def pick_users_books(df, num_users, num_books):\n",
    "    user_counts = pd.DataFrame(df.user_id.value_counts()).sort_values('user_id', ascending=False)\n",
    "    top_10K_users = list(user_counts[0:num_users].index)\n",
    "    user_filtered_df = df[df.user_id.isin(top_10K_users)]\n",
    "    filtered_book_counts = pd.DataFrame(user_filtered_df.book_id.value_counts()).sort_values('book_id', \n",
    "                                                                                             ascending = False)\n",
    "    top_100_filtered_books = list(filtered_book_counts[0:num_books].index)\n",
    "    filtered_df = user_filtered_df[user_filtered_df.book_id.isin(top_100_filtered_books)]\n",
    "    train, test = train_test_split(filtered_df, test_size = 0.2, random_state=42)\n",
    "    return train, test\n",
    "    \n",
    "def get_all_subsets(df):\n",
    "    train_500_20, test_500_20 = pick_users_books(df, 500, 20)\n",
    "    train_1000_35, test_1000_35 = pick_users_books(df, 1000, 35)\n",
    "    train_2000_50, test_2000_50 = pick_users_books(df, 2000, 50)\n",
    "    train_5000_70, test_5000_70 = pick_users_books(df, 5000, 70)\n",
    "    train_7500_85, test_7500_85 = pick_users_books(df, 7500, 85)\n",
    "    train_10000_100, test_10000_100 = pick_users_books(df, 10000, 100)\n",
    "    return train_500_20, test_500_20, train_1000_35, test_1000_35, train_2000_50, test_2000_50, \\\n",
    "        train_5000_70, test_5000_70, train_7500_85, test_7500_85, train_10000_100, test_10000_100"
   ]
  },
  {
   "cell_type": "code",
   "execution_count": 4,
   "metadata": {
    "collapsed": false
   },
   "outputs": [],
   "source": [
    "train_500_20, test_500_20, train_1000_35, test_1000_35, train_2000_50, test_2000_50, train_5000_70, test_5000_70, \\\n",
    "    train_7500_85, test_7500_85, train_10000_100, test_10000_100 = get_all_subsets(ratings)"
   ]
  },
  {
   "cell_type": "markdown",
   "metadata": {},
   "source": [
    "#### Implement Matrix Factorization"
   ]
  },
  {
   "cell_type": "markdown",
   "metadata": {},
   "source": [
    "In order to implement matrix factorization we need to get the data in a usable format. First, we create user-item matrices for the train and test data. As a bit of a workaround, we create fake data to add to the test set (a row for each user and a row for each book) to make sure that the test matrix is the same size as the train matrix. Then we drop the fake data. Finally, we subtract the mean of each user's ratings."
   ]
  },
  {
   "cell_type": "code",
   "execution_count": 5,
   "metadata": {
    "collapsed": true
   },
   "outputs": [],
   "source": [
    "def preprocess(X_train, X_test):\n",
    "    \n",
    "    # create user and book indices starting from 0\n",
    "    mappings_user = pd.DataFrame({'user_id': sorted(X_train.user_id.unique()), \n",
    "                              'user_idx': range(len(X_train.user_id.unique()))})\n",
    "    mappings_book = pd.DataFrame({'book_id': sorted(X_train.book_id.unique()), \n",
    "                              'book_idx': range(len(X_train.book_id.unique()))})\n",
    "    X_train = pd.merge(X_train, mappings_user, on='user_id')\n",
    "    X_train = pd.merge(X_train, mappings_book, on='book_id')\n",
    "    X_test = pd.merge(X_test, mappings_user, on='user_id')\n",
    "    X_test = pd.merge(X_test, mappings_book, on='book_id')\n",
    "    \n",
    "    # create user-item matrix for training data and find non-zero values\n",
    "    M = np.array(X_train.pivot_table(index = 'user_idx', columns='book_idx', values='rating', fill_value=0))\n",
    "    mask = M != 0\n",
    "    \n",
    "    # use fake data to make test matrix that matches the size of the train matrix\n",
    "    fake_book = pd.DataFrame({'user_id': sorted(X_train.user_id.unique()), 'rating': 0,\n",
    "                          'user_idx': range(len(X_train.user_id.unique())), 'book_id': 'XXX', 'book_idx': 100})\n",
    "    fake_user = pd.DataFrame({'book_id': sorted(X_train.book_id.unique()), 'rating': 0,\n",
    "                          'book_idx': range(len(X_train.book_id.unique())), 'user_id': 'XXX', 'user_idx': 10000000000})\n",
    "    X_test = pd.concat([X_test, fake_book, fake_user])\n",
    "    M_test = X_test.pivot_table(index = 'user_idx', columns='book_idx', values='rating', fill_value=0)\n",
    "    M_test.drop(100, axis=1, inplace=True)\n",
    "    M_test.drop(10000000000, axis=0, inplace=True)\n",
    "    \n",
    "    # subtract off user means\n",
    "    means_list = []\n",
    "    for row in range(M.shape[0]):\n",
    "        n_ratings = len(np.where(M[row,:] != 0)[0])\n",
    "        means_list.append(np.sum(M[row,:]) / n_ratings)\n",
    "    means = np.array(means_list).reshape(-1,1)\n",
    "    M_norm = (M - means) * mask\n",
    "    \n",
    "    return (M_norm, means, np.array(M_test))"
   ]
  },
  {
   "cell_type": "markdown",
   "metadata": {},
   "source": [
    "At each iteration, the learned matrices get updated according to the following equations:\n",
    "\n",
    "$U\\leftarrow U\\left ( 1 - \\alpha \\lambda  \\right ) + \\alpha EV$  \n",
    "$V\\leftarrow V\\left ( 1 - \\alpha \\lambda  \\right ) + \\alpha E^{T}U$"
   ]
  },
  {
   "cell_type": "code",
   "execution_count": 27,
   "metadata": {
    "collapsed": true
   },
   "outputs": [],
   "source": [
    "def update(R, mask, U, V, alpha, E, lamb): # performs one iteration of updating U and V matrices\n",
    "    U_new = (U * (1 - (alpha * lamb))) + (alpha * np.dot(E, V))\n",
    "    V_new = (V * (1 - (alpha * lamb))) + (alpha * np.dot(E.transpose(), U))\n",
    "    return (U_new, V_new)"
   ]
  },
  {
   "cell_type": "code",
   "execution_count": 7,
   "metadata": {
    "collapsed": true
   },
   "outputs": [],
   "source": [
    "def calc_error(R, mask, U, V): \n",
    "    # calculates error matrix - difference between prediction and true rating where true rating exists, 0 otherwise\n",
    "    E = (R - np.dot(U, V.transpose())) * mask\n",
    "    return E"
   ]
  },
  {
   "cell_type": "markdown",
   "metadata": {},
   "source": [
    "The objective function is minimized according to the following equation:\n",
    "\n",
    "$J = \\frac{1}{2} \\sum_{(i,j)\\in S} e_{ij}^{2} \\: + \\frac{\\lambda }{2} \\sum_{i=1}^{m} \\sum_{s=1}^{k} u_{is}^{2} \\: + \\frac{\\lambda }{2} \\sum_{j=1}^{n} \\sum_{s=1}^{k} v_{js}^{2}$\n",
    "\n",
    "where m is the number of users, n is the number of items, k is the rank, and $\\lambda$ is the regularization parameter. The first term minimizes squared error between the predictions and ratings, while the second and third terms penalize large values to prevent overfitting."
   ]
  },
  {
   "cell_type": "code",
   "execution_count": 8,
   "metadata": {
    "collapsed": true
   },
   "outputs": [],
   "source": [
    "def calc_loss(E, U, V, lamb): # calculate value of loss function based on error matrix\n",
    "    J = (0.5 * np.sum(np.square(E))) + ((lamb/2) * np.sum(np.square(U))) + ((lamb/2) * np.sum(np.square(V)))\n",
    "    return J"
   ]
  },
  {
   "cell_type": "code",
   "execution_count": 9,
   "metadata": {
    "collapsed": true
   },
   "outputs": [],
   "source": [
    "def mat_fact(R, d, alpha, lamb):\n",
    "    # initialize U and V\n",
    "    U = np.random.randn(R.shape[0], d)\n",
    "    V = np.random.randn(R.shape[1], d)\n",
    "    \n",
    "    # calculate error and loss\n",
    "    mask = R != 0\n",
    "    E = calc_error(R, mask, U, V)\n",
    "    J_prev = calc_loss(E, U, V, lamb)\n",
    "    J_ratio = 1\n",
    "    \n",
    "    # while not converged, update U and V and recalculate error and loss\n",
    "    count = 0\n",
    "    while np.abs(J_ratio) > .00001:\n",
    "        if count > 1000 and J_prev > 10000:\n",
    "            print('Did not converge!')\n",
    "            return (U, V)\n",
    "        else:\n",
    "            U, V = update(R, mask, U, V, alpha, E, lamb)\n",
    "            E = calc_error(R, mask, U, V)\n",
    "            J = calc_loss(E, U, V, lamb)\n",
    "            J_ratio = (J_prev - J) / J_prev\n",
    "            J_prev = J\n",
    "            count += 1\n",
    "            \n",
    "    return (U, V)"
   ]
  },
  {
   "cell_type": "code",
   "execution_count": 10,
   "metadata": {
    "collapsed": true
   },
   "outputs": [],
   "source": [
    "def calc_RMSE(M_test, preds): # calculate RMSE using only observed entries\n",
    "    mask_test = M_test != 0\n",
    "    preds_masked = mask_test * preds\n",
    "    rmse = np.sqrt(np.sum(np.sum(np.square(preds_masked - M_test))) / np.sum(np.sum(mask_test)))\n",
    "    return rmse"
   ]
  },
  {
   "cell_type": "markdown",
   "metadata": {},
   "source": [
    "#### Grid-Search Parameters"
   ]
  },
  {
   "cell_type": "markdown",
   "metadata": {},
   "source": [
    "We grid-searched three parameters:\n",
    "- rank d at values 5, 10, 15\n",
    "- learning rate $\\alpha$ at values 0.00005, 0.0001, 0.00015, 0.0002\n",
    "- regularization parameter $\\lambda$ at values 0.00001, 0.0001, 0.001, 0.01, 0.1, 1"
   ]
  },
  {
   "cell_type": "code",
   "execution_count": 11,
   "metadata": {
    "collapsed": true
   },
   "outputs": [],
   "source": [
    "# d_values = [5, 10, 15]\n",
    "# alpha_values = [0.00005, 0.0001, 0.00015, 0.0002]\n",
    "# lamb_values = [0.00001, 0.0001, 0.001, 0.01, 0.1, 1]"
   ]
  },
  {
   "cell_type": "code",
   "execution_count": 12,
   "metadata": {
    "collapsed": true
   },
   "outputs": [],
   "source": [
    "# def overall(data, d, alpha, lamb):\n",
    "#     k_fold = KFold(n_splits=3)\n",
    "#     rmses = []\n",
    "#     for train_indices, test_indices in k_fold.split(data):\n",
    "#         X_train = data.iloc[train_indices]\n",
    "#         X_test = data.iloc[test_indices]\n",
    "#         M_norm, means, X_test = preprocess(X_train, X_test)\n",
    "#         U, V = mat_fact(M_norm, d, alpha, lamb)\n",
    "#         preds = np.dot(U, V.transpose()) + means\n",
    "#         rmse = calc_RMSE(X_test, preds)\n",
    "#         rmses.append(rmse)\n",
    "#     return np.mean(rmses)"
   ]
  },
  {
   "cell_type": "code",
   "execution_count": 13,
   "metadata": {
    "collapsed": false
   },
   "outputs": [],
   "source": [
    "# grid_results_all = []\n",
    "# for d in d_values:\n",
    "#     print('Current d value: ', d)\n",
    "#     for alpha in alpha_values:\n",
    "#         print('Current alpha value: ', alpha)\n",
    "#         for lamb in lamb_values:\n",
    "#             print('Current lambda value: ', lamb)\n",
    "#             grid_results = {}\n",
    "#             rmse = overall(train_10000_100, d, alpha, lamb)\n",
    "#             grid_results['d'] = d\n",
    "#             grid_results['alpha'] = alpha\n",
    "#             grid_results['lambda'] = lamb\n",
    "#             grid_results['rmse'] = rmse\n",
    "#             grid_results_all.append(grid_results)"
   ]
  },
  {
   "cell_type": "code",
   "execution_count": 14,
   "metadata": {
    "collapsed": false,
    "scrolled": true
   },
   "outputs": [],
   "source": [
    "# grid_df = pd.DataFrame(grid_results_all)\n",
    "# grid_df\n",
    "# grid_results.to_csv('mat-fact-grid-results.csv')"
   ]
  },
  {
   "cell_type": "code",
   "execution_count": 15,
   "metadata": {
    "collapsed": false
   },
   "outputs": [],
   "source": [
    "# min_values = grid_df.iloc[grid_df['rmse'].idxmin()]\n",
    "# print('The best parameters were d = {}, alpha = {}, and lambda = {}, with an average RMSE of {}.'\n",
    "#       .format(min_values['d'], min_values['alpha'], min_values['lambda'], min_values['rmse']))"
   ]
  },
  {
   "cell_type": "markdown",
   "metadata": {},
   "source": [
    "The optimal parameters were d = 5.0, alpha = 0.0001, and lambda = 0.001, with an average RMSE of 0.9581215576515847."
   ]
  },
  {
   "cell_type": "code",
   "execution_count": 5,
   "metadata": {
    "collapsed": false,
    "scrolled": true
   },
   "outputs": [
    {
     "data": {
      "text/html": [
       "<div>\n",
       "<table border=\"1\" class=\"dataframe\">\n",
       "  <thead>\n",
       "    <tr style=\"text-align: right;\">\n",
       "      <th></th>\n",
       "      <th>Unnamed: 0</th>\n",
       "      <th>alpha</th>\n",
       "      <th>d</th>\n",
       "      <th>lambda</th>\n",
       "      <th>rmse</th>\n",
       "    </tr>\n",
       "  </thead>\n",
       "  <tbody>\n",
       "    <tr>\n",
       "      <th>8</th>\n",
       "      <td>8</td>\n",
       "      <td>0.00010</td>\n",
       "      <td>5</td>\n",
       "      <td>0.00100</td>\n",
       "      <td>0.958122</td>\n",
       "    </tr>\n",
       "    <tr>\n",
       "      <th>7</th>\n",
       "      <td>7</td>\n",
       "      <td>0.00010</td>\n",
       "      <td>5</td>\n",
       "      <td>0.00010</td>\n",
       "      <td>0.958401</td>\n",
       "    </tr>\n",
       "    <tr>\n",
       "      <th>0</th>\n",
       "      <td>0</td>\n",
       "      <td>0.00005</td>\n",
       "      <td>5</td>\n",
       "      <td>0.00001</td>\n",
       "      <td>0.958472</td>\n",
       "    </tr>\n",
       "    <tr>\n",
       "      <th>4</th>\n",
       "      <td>4</td>\n",
       "      <td>0.00005</td>\n",
       "      <td>5</td>\n",
       "      <td>0.10000</td>\n",
       "      <td>0.958490</td>\n",
       "    </tr>\n",
       "    <tr>\n",
       "      <th>20</th>\n",
       "      <td>20</td>\n",
       "      <td>0.00020</td>\n",
       "      <td>5</td>\n",
       "      <td>0.00100</td>\n",
       "      <td>0.958499</td>\n",
       "    </tr>\n",
       "    <tr>\n",
       "      <th>12</th>\n",
       "      <td>12</td>\n",
       "      <td>0.00015</td>\n",
       "      <td>5</td>\n",
       "      <td>0.00001</td>\n",
       "      <td>0.958538</td>\n",
       "    </tr>\n",
       "    <tr>\n",
       "      <th>16</th>\n",
       "      <td>16</td>\n",
       "      <td>0.00015</td>\n",
       "      <td>5</td>\n",
       "      <td>0.10000</td>\n",
       "      <td>0.958550</td>\n",
       "    </tr>\n",
       "    <tr>\n",
       "      <th>14</th>\n",
       "      <td>14</td>\n",
       "      <td>0.00015</td>\n",
       "      <td>5</td>\n",
       "      <td>0.00100</td>\n",
       "      <td>0.958565</td>\n",
       "    </tr>\n",
       "    <tr>\n",
       "      <th>21</th>\n",
       "      <td>21</td>\n",
       "      <td>0.00020</td>\n",
       "      <td>5</td>\n",
       "      <td>0.01000</td>\n",
       "      <td>0.958568</td>\n",
       "    </tr>\n",
       "    <tr>\n",
       "      <th>2</th>\n",
       "      <td>2</td>\n",
       "      <td>0.00005</td>\n",
       "      <td>5</td>\n",
       "      <td>0.00100</td>\n",
       "      <td>0.958571</td>\n",
       "    </tr>\n",
       "    <tr>\n",
       "      <th>9</th>\n",
       "      <td>9</td>\n",
       "      <td>0.00010</td>\n",
       "      <td>5</td>\n",
       "      <td>0.01000</td>\n",
       "      <td>0.958606</td>\n",
       "    </tr>\n",
       "    <tr>\n",
       "      <th>11</th>\n",
       "      <td>11</td>\n",
       "      <td>0.00010</td>\n",
       "      <td>5</td>\n",
       "      <td>1.00000</td>\n",
       "      <td>0.958608</td>\n",
       "    </tr>\n",
       "    <tr>\n",
       "      <th>1</th>\n",
       "      <td>1</td>\n",
       "      <td>0.00005</td>\n",
       "      <td>5</td>\n",
       "      <td>0.00010</td>\n",
       "      <td>0.958621</td>\n",
       "    </tr>\n",
       "    <tr>\n",
       "      <th>13</th>\n",
       "      <td>13</td>\n",
       "      <td>0.00015</td>\n",
       "      <td>5</td>\n",
       "      <td>0.00010</td>\n",
       "      <td>0.958625</td>\n",
       "    </tr>\n",
       "    <tr>\n",
       "      <th>6</th>\n",
       "      <td>6</td>\n",
       "      <td>0.00010</td>\n",
       "      <td>5</td>\n",
       "      <td>0.00001</td>\n",
       "      <td>0.958630</td>\n",
       "    </tr>\n",
       "    <tr>\n",
       "      <th>15</th>\n",
       "      <td>15</td>\n",
       "      <td>0.00015</td>\n",
       "      <td>5</td>\n",
       "      <td>0.01000</td>\n",
       "      <td>0.958653</td>\n",
       "    </tr>\n",
       "    <tr>\n",
       "      <th>19</th>\n",
       "      <td>19</td>\n",
       "      <td>0.00020</td>\n",
       "      <td>5</td>\n",
       "      <td>0.00010</td>\n",
       "      <td>0.958661</td>\n",
       "    </tr>\n",
       "    <tr>\n",
       "      <th>22</th>\n",
       "      <td>22</td>\n",
       "      <td>0.00020</td>\n",
       "      <td>5</td>\n",
       "      <td>0.10000</td>\n",
       "      <td>0.958701</td>\n",
       "    </tr>\n",
       "    <tr>\n",
       "      <th>18</th>\n",
       "      <td>18</td>\n",
       "      <td>0.00020</td>\n",
       "      <td>5</td>\n",
       "      <td>0.00001</td>\n",
       "      <td>0.958755</td>\n",
       "    </tr>\n",
       "    <tr>\n",
       "      <th>5</th>\n",
       "      <td>5</td>\n",
       "      <td>0.00005</td>\n",
       "      <td>5</td>\n",
       "      <td>1.00000</td>\n",
       "      <td>0.958771</td>\n",
       "    </tr>\n",
       "    <tr>\n",
       "      <th>10</th>\n",
       "      <td>10</td>\n",
       "      <td>0.00010</td>\n",
       "      <td>5</td>\n",
       "      <td>0.10000</td>\n",
       "      <td>0.958891</td>\n",
       "    </tr>\n",
       "    <tr>\n",
       "      <th>17</th>\n",
       "      <td>17</td>\n",
       "      <td>0.00015</td>\n",
       "      <td>5</td>\n",
       "      <td>1.00000</td>\n",
       "      <td>0.958917</td>\n",
       "    </tr>\n",
       "    <tr>\n",
       "      <th>3</th>\n",
       "      <td>3</td>\n",
       "      <td>0.00005</td>\n",
       "      <td>5</td>\n",
       "      <td>0.01000</td>\n",
       "      <td>0.958971</td>\n",
       "    </tr>\n",
       "    <tr>\n",
       "      <th>23</th>\n",
       "      <td>23</td>\n",
       "      <td>0.00020</td>\n",
       "      <td>5</td>\n",
       "      <td>1.00000</td>\n",
       "      <td>0.958999</td>\n",
       "    </tr>\n",
       "    <tr>\n",
       "      <th>31</th>\n",
       "      <td>31</td>\n",
       "      <td>0.00010</td>\n",
       "      <td>10</td>\n",
       "      <td>0.00010</td>\n",
       "      <td>0.959993</td>\n",
       "    </tr>\n",
       "    <tr>\n",
       "      <th>36</th>\n",
       "      <td>36</td>\n",
       "      <td>0.00015</td>\n",
       "      <td>10</td>\n",
       "      <td>0.00001</td>\n",
       "      <td>0.960020</td>\n",
       "    </tr>\n",
       "    <tr>\n",
       "      <th>46</th>\n",
       "      <td>46</td>\n",
       "      <td>0.00020</td>\n",
       "      <td>10</td>\n",
       "      <td>0.10000</td>\n",
       "      <td>0.960028</td>\n",
       "    </tr>\n",
       "    <tr>\n",
       "      <th>25</th>\n",
       "      <td>25</td>\n",
       "      <td>0.00005</td>\n",
       "      <td>10</td>\n",
       "      <td>0.00010</td>\n",
       "      <td>0.960034</td>\n",
       "    </tr>\n",
       "    <tr>\n",
       "      <th>45</th>\n",
       "      <td>45</td>\n",
       "      <td>0.00020</td>\n",
       "      <td>10</td>\n",
       "      <td>0.01000</td>\n",
       "      <td>0.960110</td>\n",
       "    </tr>\n",
       "    <tr>\n",
       "      <th>28</th>\n",
       "      <td>28</td>\n",
       "      <td>0.00005</td>\n",
       "      <td>10</td>\n",
       "      <td>0.10000</td>\n",
       "      <td>0.960114</td>\n",
       "    </tr>\n",
       "    <tr>\n",
       "      <th>...</th>\n",
       "      <td>...</td>\n",
       "      <td>...</td>\n",
       "      <td>...</td>\n",
       "      <td>...</td>\n",
       "      <td>...</td>\n",
       "    </tr>\n",
       "    <tr>\n",
       "      <th>30</th>\n",
       "      <td>30</td>\n",
       "      <td>0.00010</td>\n",
       "      <td>10</td>\n",
       "      <td>0.00001</td>\n",
       "      <td>0.960332</td>\n",
       "    </tr>\n",
       "    <tr>\n",
       "      <th>35</th>\n",
       "      <td>35</td>\n",
       "      <td>0.00010</td>\n",
       "      <td>10</td>\n",
       "      <td>1.00000</td>\n",
       "      <td>0.960429</td>\n",
       "    </tr>\n",
       "    <tr>\n",
       "      <th>29</th>\n",
       "      <td>29</td>\n",
       "      <td>0.00005</td>\n",
       "      <td>10</td>\n",
       "      <td>1.00000</td>\n",
       "      <td>0.960453</td>\n",
       "    </tr>\n",
       "    <tr>\n",
       "      <th>43</th>\n",
       "      <td>43</td>\n",
       "      <td>0.00020</td>\n",
       "      <td>10</td>\n",
       "      <td>0.00010</td>\n",
       "      <td>0.960455</td>\n",
       "    </tr>\n",
       "    <tr>\n",
       "      <th>41</th>\n",
       "      <td>41</td>\n",
       "      <td>0.00015</td>\n",
       "      <td>10</td>\n",
       "      <td>1.00000</td>\n",
       "      <td>0.960904</td>\n",
       "    </tr>\n",
       "    <tr>\n",
       "      <th>62</th>\n",
       "      <td>62</td>\n",
       "      <td>0.00015</td>\n",
       "      <td>15</td>\n",
       "      <td>0.00100</td>\n",
       "      <td>0.961454</td>\n",
       "    </tr>\n",
       "    <tr>\n",
       "      <th>49</th>\n",
       "      <td>49</td>\n",
       "      <td>0.00005</td>\n",
       "      <td>15</td>\n",
       "      <td>0.00010</td>\n",
       "      <td>0.961474</td>\n",
       "    </tr>\n",
       "    <tr>\n",
       "      <th>68</th>\n",
       "      <td>68</td>\n",
       "      <td>0.00020</td>\n",
       "      <td>15</td>\n",
       "      <td>0.00100</td>\n",
       "      <td>0.961511</td>\n",
       "    </tr>\n",
       "    <tr>\n",
       "      <th>69</th>\n",
       "      <td>69</td>\n",
       "      <td>0.00020</td>\n",
       "      <td>15</td>\n",
       "      <td>0.01000</td>\n",
       "      <td>0.961519</td>\n",
       "    </tr>\n",
       "    <tr>\n",
       "      <th>64</th>\n",
       "      <td>64</td>\n",
       "      <td>0.00015</td>\n",
       "      <td>15</td>\n",
       "      <td>0.10000</td>\n",
       "      <td>0.961539</td>\n",
       "    </tr>\n",
       "    <tr>\n",
       "      <th>54</th>\n",
       "      <td>54</td>\n",
       "      <td>0.00010</td>\n",
       "      <td>15</td>\n",
       "      <td>0.00001</td>\n",
       "      <td>0.961562</td>\n",
       "    </tr>\n",
       "    <tr>\n",
       "      <th>51</th>\n",
       "      <td>51</td>\n",
       "      <td>0.00005</td>\n",
       "      <td>15</td>\n",
       "      <td>0.01000</td>\n",
       "      <td>0.961605</td>\n",
       "    </tr>\n",
       "    <tr>\n",
       "      <th>47</th>\n",
       "      <td>47</td>\n",
       "      <td>0.00020</td>\n",
       "      <td>10</td>\n",
       "      <td>1.00000</td>\n",
       "      <td>0.961620</td>\n",
       "    </tr>\n",
       "    <tr>\n",
       "      <th>48</th>\n",
       "      <td>48</td>\n",
       "      <td>0.00005</td>\n",
       "      <td>15</td>\n",
       "      <td>0.00001</td>\n",
       "      <td>0.961628</td>\n",
       "    </tr>\n",
       "    <tr>\n",
       "      <th>53</th>\n",
       "      <td>53</td>\n",
       "      <td>0.00005</td>\n",
       "      <td>15</td>\n",
       "      <td>1.00000</td>\n",
       "      <td>0.961642</td>\n",
       "    </tr>\n",
       "    <tr>\n",
       "      <th>56</th>\n",
       "      <td>56</td>\n",
       "      <td>0.00010</td>\n",
       "      <td>15</td>\n",
       "      <td>0.00100</td>\n",
       "      <td>0.961668</td>\n",
       "    </tr>\n",
       "    <tr>\n",
       "      <th>57</th>\n",
       "      <td>57</td>\n",
       "      <td>0.00010</td>\n",
       "      <td>15</td>\n",
       "      <td>0.01000</td>\n",
       "      <td>0.961673</td>\n",
       "    </tr>\n",
       "    <tr>\n",
       "      <th>63</th>\n",
       "      <td>63</td>\n",
       "      <td>0.00015</td>\n",
       "      <td>15</td>\n",
       "      <td>0.01000</td>\n",
       "      <td>0.961682</td>\n",
       "    </tr>\n",
       "    <tr>\n",
       "      <th>66</th>\n",
       "      <td>66</td>\n",
       "      <td>0.00020</td>\n",
       "      <td>15</td>\n",
       "      <td>0.00001</td>\n",
       "      <td>0.961691</td>\n",
       "    </tr>\n",
       "    <tr>\n",
       "      <th>70</th>\n",
       "      <td>70</td>\n",
       "      <td>0.00020</td>\n",
       "      <td>15</td>\n",
       "      <td>0.10000</td>\n",
       "      <td>0.961718</td>\n",
       "    </tr>\n",
       "    <tr>\n",
       "      <th>55</th>\n",
       "      <td>55</td>\n",
       "      <td>0.00010</td>\n",
       "      <td>15</td>\n",
       "      <td>0.00010</td>\n",
       "      <td>0.961718</td>\n",
       "    </tr>\n",
       "    <tr>\n",
       "      <th>52</th>\n",
       "      <td>52</td>\n",
       "      <td>0.00005</td>\n",
       "      <td>15</td>\n",
       "      <td>0.10000</td>\n",
       "      <td>0.961732</td>\n",
       "    </tr>\n",
       "    <tr>\n",
       "      <th>50</th>\n",
       "      <td>50</td>\n",
       "      <td>0.00005</td>\n",
       "      <td>15</td>\n",
       "      <td>0.00100</td>\n",
       "      <td>0.961765</td>\n",
       "    </tr>\n",
       "    <tr>\n",
       "      <th>61</th>\n",
       "      <td>61</td>\n",
       "      <td>0.00015</td>\n",
       "      <td>15</td>\n",
       "      <td>0.00010</td>\n",
       "      <td>0.961767</td>\n",
       "    </tr>\n",
       "    <tr>\n",
       "      <th>58</th>\n",
       "      <td>58</td>\n",
       "      <td>0.00010</td>\n",
       "      <td>15</td>\n",
       "      <td>0.10000</td>\n",
       "      <td>0.961771</td>\n",
       "    </tr>\n",
       "    <tr>\n",
       "      <th>60</th>\n",
       "      <td>60</td>\n",
       "      <td>0.00015</td>\n",
       "      <td>15</td>\n",
       "      <td>0.00001</td>\n",
       "      <td>0.962093</td>\n",
       "    </tr>\n",
       "    <tr>\n",
       "      <th>67</th>\n",
       "      <td>67</td>\n",
       "      <td>0.00020</td>\n",
       "      <td>15</td>\n",
       "      <td>0.00010</td>\n",
       "      <td>0.962296</td>\n",
       "    </tr>\n",
       "    <tr>\n",
       "      <th>59</th>\n",
       "      <td>59</td>\n",
       "      <td>0.00010</td>\n",
       "      <td>15</td>\n",
       "      <td>1.00000</td>\n",
       "      <td>0.962413</td>\n",
       "    </tr>\n",
       "    <tr>\n",
       "      <th>65</th>\n",
       "      <td>65</td>\n",
       "      <td>0.00015</td>\n",
       "      <td>15</td>\n",
       "      <td>1.00000</td>\n",
       "      <td>0.963045</td>\n",
       "    </tr>\n",
       "    <tr>\n",
       "      <th>71</th>\n",
       "      <td>71</td>\n",
       "      <td>0.00020</td>\n",
       "      <td>15</td>\n",
       "      <td>1.00000</td>\n",
       "      <td>0.964156</td>\n",
       "    </tr>\n",
       "  </tbody>\n",
       "</table>\n",
       "<p>72 rows × 5 columns</p>\n",
       "</div>"
      ],
      "text/plain": [
       "    Unnamed: 0    alpha   d   lambda      rmse\n",
       "8            8  0.00010   5  0.00100  0.958122\n",
       "7            7  0.00010   5  0.00010  0.958401\n",
       "0            0  0.00005   5  0.00001  0.958472\n",
       "4            4  0.00005   5  0.10000  0.958490\n",
       "20          20  0.00020   5  0.00100  0.958499\n",
       "12          12  0.00015   5  0.00001  0.958538\n",
       "16          16  0.00015   5  0.10000  0.958550\n",
       "14          14  0.00015   5  0.00100  0.958565\n",
       "21          21  0.00020   5  0.01000  0.958568\n",
       "2            2  0.00005   5  0.00100  0.958571\n",
       "9            9  0.00010   5  0.01000  0.958606\n",
       "11          11  0.00010   5  1.00000  0.958608\n",
       "1            1  0.00005   5  0.00010  0.958621\n",
       "13          13  0.00015   5  0.00010  0.958625\n",
       "6            6  0.00010   5  0.00001  0.958630\n",
       "15          15  0.00015   5  0.01000  0.958653\n",
       "19          19  0.00020   5  0.00010  0.958661\n",
       "22          22  0.00020   5  0.10000  0.958701\n",
       "18          18  0.00020   5  0.00001  0.958755\n",
       "5            5  0.00005   5  1.00000  0.958771\n",
       "10          10  0.00010   5  0.10000  0.958891\n",
       "17          17  0.00015   5  1.00000  0.958917\n",
       "3            3  0.00005   5  0.01000  0.958971\n",
       "23          23  0.00020   5  1.00000  0.958999\n",
       "31          31  0.00010  10  0.00010  0.959993\n",
       "36          36  0.00015  10  0.00001  0.960020\n",
       "46          46  0.00020  10  0.10000  0.960028\n",
       "25          25  0.00005  10  0.00010  0.960034\n",
       "45          45  0.00020  10  0.01000  0.960110\n",
       "28          28  0.00005  10  0.10000  0.960114\n",
       "..         ...      ...  ..      ...       ...\n",
       "30          30  0.00010  10  0.00001  0.960332\n",
       "35          35  0.00010  10  1.00000  0.960429\n",
       "29          29  0.00005  10  1.00000  0.960453\n",
       "43          43  0.00020  10  0.00010  0.960455\n",
       "41          41  0.00015  10  1.00000  0.960904\n",
       "62          62  0.00015  15  0.00100  0.961454\n",
       "49          49  0.00005  15  0.00010  0.961474\n",
       "68          68  0.00020  15  0.00100  0.961511\n",
       "69          69  0.00020  15  0.01000  0.961519\n",
       "64          64  0.00015  15  0.10000  0.961539\n",
       "54          54  0.00010  15  0.00001  0.961562\n",
       "51          51  0.00005  15  0.01000  0.961605\n",
       "47          47  0.00020  10  1.00000  0.961620\n",
       "48          48  0.00005  15  0.00001  0.961628\n",
       "53          53  0.00005  15  1.00000  0.961642\n",
       "56          56  0.00010  15  0.00100  0.961668\n",
       "57          57  0.00010  15  0.01000  0.961673\n",
       "63          63  0.00015  15  0.01000  0.961682\n",
       "66          66  0.00020  15  0.00001  0.961691\n",
       "70          70  0.00020  15  0.10000  0.961718\n",
       "55          55  0.00010  15  0.00010  0.961718\n",
       "52          52  0.00005  15  0.10000  0.961732\n",
       "50          50  0.00005  15  0.00100  0.961765\n",
       "61          61  0.00015  15  0.00010  0.961767\n",
       "58          58  0.00010  15  0.10000  0.961771\n",
       "60          60  0.00015  15  0.00001  0.962093\n",
       "67          67  0.00020  15  0.00010  0.962296\n",
       "59          59  0.00010  15  1.00000  0.962413\n",
       "65          65  0.00015  15  1.00000  0.963045\n",
       "71          71  0.00020  15  1.00000  0.964156\n",
       "\n",
       "[72 rows x 5 columns]"
      ]
     },
     "execution_count": 5,
     "metadata": {},
     "output_type": "execute_result"
    }
   ],
   "source": [
    "grid_results = pd.read_csv('mat-fact-grid-results.csv')# grid search results\n",
    "\n",
    "grid_results.sort_values('rmse')"
   ]
  },
  {
   "cell_type": "markdown",
   "metadata": {},
   "source": [
    "#### Plot Grid-Search Results"
   ]
  },
  {
   "cell_type": "code",
   "execution_count": 17,
   "metadata": {
    "collapsed": false
   },
   "outputs": [
    {
     "data": {
      "image/png": "[encoded data removed]",
      "text/plain": [
       "<matplotlib.figure.Figure at 0x1152dc630>"
      ]
     },
     "metadata": {},
     "output_type": "display_data"
    }
   ],
   "source": [
    "fig, ax = plt.subplots(1,3, sharey=True, figsize=(15,5))\n",
    "ax[0].plot(grid_results.groupby('d')['rmse'].mean())\n",
    "ax[1].plot(grid_results.groupby('alpha')['rmse'].mean())\n",
    "ax[2].plot(grid_results.groupby('lambda')['rmse'].mean())\n",
    "ax[0].set_ylabel('RMSE')\n",
    "ax[0].set_xlabel('d')\n",
    "ax[1].set_xlabel('alpha')\n",
    "ax[2].set_xlabel('lambda')\n",
    "for tick in ax[1].get_xticklabels():\n",
    "    tick.set_rotation(45)\n",
    "    tick.set_horizontalalignment('right')\n",
    "plt.show()"
   ]
  },
  {
   "cell_type": "markdown",
   "metadata": {},
   "source": [
    "We can see that changnig d has the greatest effect on RMSE - differences in alpha and lambda were small relative to those in d. From now on, we will use the optimal parameters to train our models."
   ]
  },
  {
   "cell_type": "markdown",
   "metadata": {},
   "source": [
    "#### Train Six Subsets to Observe Scalability"
   ]
  },
  {
   "cell_type": "markdown",
   "metadata": {},
   "source": [
    "In order to see how our model would scale up to a bigger dataset, we see how it performs on different-sized subsets, from ~4300 ratings to ~270000."
   ]
  },
  {
   "cell_type": "code",
   "execution_count": 18,
   "metadata": {
    "collapsed": true
   },
   "outputs": [],
   "source": [
    "def calc_MAE(M_test, preds): # calculate MAE using only observed entries\n",
    "    mask_test = M_test != 0\n",
    "    preds_masked = mask_test * preds\n",
    "    mae = np.sum(np.sum(np.abs(preds_masked - M_test))) / np.sum(np.sum(mask_test))\n",
    "    return mae"
   ]
  },
  {
   "cell_type": "code",
   "execution_count": 19,
   "metadata": {
    "collapsed": true
   },
   "outputs": [],
   "source": [
    "def calc_spearman(M_test, preds): # calculate spearman coefficient using only observed entries\n",
    "    spearmans = []\n",
    "    dict_ratings = {}\n",
    "    # only include values that exist in test data\n",
    "    for i in range(M_test.shape[0]):\n",
    "        for j in range(M_test.shape[1]):\n",
    "            if M_test[i,j] != 0 and float(M_test[i,j]):\n",
    "                if i in dict_ratings.keys():\n",
    "                    dict_ratings[i][0].append(M_test[i,j])\n",
    "                    dict_ratings[i][1].append(preds[i,j])\n",
    "                else:\n",
    "                    dict_ratings[i] = [[M_test[i,j]], [preds[i,j]]]\n",
    "    for i in dict_ratings.keys():\n",
    "        if len(dict_ratings[i][0]) > 1:\n",
    "            spearman = spearmanr(dict_ratings[i][0], dict_ratings[i][1])[0]\n",
    "            if np.isnan(spearman) == False: # spearman is NaN if all true ratings are the same! exclude these\n",
    "                spearmans.append(spearman)\n",
    "    return np.mean(spearmans)"
   ]
  },
  {
   "cell_type": "code",
   "execution_count": 20,
   "metadata": {
    "collapsed": true
   },
   "outputs": [],
   "source": [
    "def calc_coverage(M_norm, preds, k): # calculate coverage for top k items\n",
    "    items_covered = []\n",
    "    mask = M_norm == 0 # don't include items that are already rated\n",
    "    preds_antitest = preds * mask\n",
    "    for i in range(preds.shape[0]): # for each user, get the top k predictions\n",
    "        row = preds[i,:]\n",
    "        top_idx = np.argsort(row)[::-1]\n",
    "        [items_covered.append(top_idx[j]) for j in range(k)]\n",
    "    n_unique_items = len(set(items_covered)) # get the number of unique items recommended\n",
    "    coverage = n_unique_items / preds.shape[1]\n",
    "    return coverage"
   ]
  },
  {
   "cell_type": "code",
   "execution_count": 21,
   "metadata": {
    "collapsed": true
   },
   "outputs": [],
   "source": [
    "def train_test(X_train, X_test, coverage=False):\n",
    "    M_norm, means, M_test = preprocess(X_train, X_test)\n",
    "    start_train = time.time()\n",
    "    U, V = mat_fact(M_norm, 5, 0.0001, 0.001)\n",
    "    end_train = time.time()\n",
    "    start_pred = time.time()\n",
    "    preds = np.dot(U, V.transpose()) + means\n",
    "    end_pred = time.time()\n",
    "    rmse = calc_RMSE(M_test, preds)\n",
    "    mae = calc_MAE(M_test, preds)\n",
    "    spearman = calc_spearman(M_test, preds)\n",
    "    if coverage:\n",
    "        coverages = []\n",
    "        for k in [5, 10, 20]:\n",
    "            coverage_k = calc_coverage(M_norm, preds, k)\n",
    "            coverages.append(coverage_k)\n",
    "    else:\n",
    "        coverages=None\n",
    "    train_time = end_train - start_train\n",
    "    pred_time = end_pred - start_pred\n",
    "    return (train_time, pred_time, rmse, mae, spearman, coverages)"
   ]
  },
  {
   "cell_type": "code",
   "execution_count": 22,
   "metadata": {
    "collapsed": true
   },
   "outputs": [],
   "source": [
    "subsets = [(train_500_20, test_500_20, 500, 20, False), (train_1000_35, test_1000_35, 1000, 35, False), \n",
    "           (train_2000_50, test_2000_50, 2000, 50, False), (train_5000_70, test_5000_70, 5000, 70, False),\n",
    "           (train_7500_85, test_7500_85, 7500, 85, False), (train_10000_100, test_10000_100, 10000, 100, True)]"
   ]
  },
  {
   "cell_type": "code",
   "execution_count": 23,
   "metadata": {
    "collapsed": false
   },
   "outputs": [],
   "source": [
    "scalability_all = []\n",
    "for (X_train, X_test, n_users, n_items, coverage) in subsets:\n",
    "    scalability = {}\n",
    "    train_time, pred_time, rmse, mae, spearman, coverages = train_test(X_train, X_test, coverage)\n",
    "    scalability['Number of Users'] = n_users\n",
    "    scalability['Number of Items'] = n_items\n",
    "    scalability['Time to Train'] = train_time\n",
    "    scalability['Time to Predict'] = pred_time\n",
    "    scalability['RMSE'] = rmse\n",
    "    scalability['MAE'] = mae\n",
    "    scalability['Spearman'] = spearman\n",
    "    if coverages:\n",
    "        scalability['Coverage-5'] = coverages[0]\n",
    "        scalability['Coverage-10'] = coverages[1]\n",
    "        scalability['Coverage-20'] = coverages[2]\n",
    "    scalability_all.append(scalability)"
   ]
  },
  {
   "cell_type": "code",
   "execution_count": 10,
   "metadata": {
    "collapsed": false,
    "scrolled": true
   },
   "outputs": [
    {
     "data": {
      "text/html": [
       "<div>\n",
       "<table border=\"1\" class=\"dataframe\">\n",
       "  <thead>\n",
       "    <tr style=\"text-align: right;\">\n",
       "      <th></th>\n",
       "      <th>Unnamed: 0</th>\n",
       "      <th>Coverage-10</th>\n",
       "      <th>Coverage-20</th>\n",
       "      <th>Coverage-5</th>\n",
       "      <th>MAE</th>\n",
       "      <th>Number of Items</th>\n",
       "      <th>Number of Users</th>\n",
       "      <th>RMSE</th>\n",
       "      <th>Spearman</th>\n",
       "      <th>Time to Predict</th>\n",
       "      <th>Time to Train</th>\n",
       "      <th>Number of Ratings</th>\n",
       "    </tr>\n",
       "  </thead>\n",
       "  <tbody>\n",
       "    <tr>\n",
       "      <th>0</th>\n",
       "      <td>0</td>\n",
       "      <td>NaN</td>\n",
       "      <td>NaN</td>\n",
       "      <td>NaN</td>\n",
       "      <td>0.730837</td>\n",
       "      <td>20</td>\n",
       "      <td>500</td>\n",
       "      <td>0.945365</td>\n",
       "      <td>-0.013541</td>\n",
       "      <td>0.000046</td>\n",
       "      <td>0.088244</td>\n",
       "      <td>4311</td>\n",
       "    </tr>\n",
       "    <tr>\n",
       "      <th>1</th>\n",
       "      <td>1</td>\n",
       "      <td>NaN</td>\n",
       "      <td>NaN</td>\n",
       "      <td>NaN</td>\n",
       "      <td>0.742816</td>\n",
       "      <td>35</td>\n",
       "      <td>1000</td>\n",
       "      <td>0.970255</td>\n",
       "      <td>-0.014656</td>\n",
       "      <td>0.000145</td>\n",
       "      <td>0.135607</td>\n",
       "      <td>13932</td>\n",
       "    </tr>\n",
       "    <tr>\n",
       "      <th>2</th>\n",
       "      <td>2</td>\n",
       "      <td>NaN</td>\n",
       "      <td>NaN</td>\n",
       "      <td>NaN</td>\n",
       "      <td>0.740222</td>\n",
       "      <td>50</td>\n",
       "      <td>2000</td>\n",
       "      <td>0.956669</td>\n",
       "      <td>-0.002961</td>\n",
       "      <td>0.000435</td>\n",
       "      <td>0.185009</td>\n",
       "      <td>37100</td>\n",
       "    </tr>\n",
       "    <tr>\n",
       "      <th>3</th>\n",
       "      <td>3</td>\n",
       "      <td>NaN</td>\n",
       "      <td>NaN</td>\n",
       "      <td>NaN</td>\n",
       "      <td>0.722442</td>\n",
       "      <td>70</td>\n",
       "      <td>5000</td>\n",
       "      <td>0.931543</td>\n",
       "      <td>-0.012970</td>\n",
       "      <td>0.002242</td>\n",
       "      <td>0.443478</td>\n",
       "      <td>112959</td>\n",
       "    </tr>\n",
       "    <tr>\n",
       "      <th>4</th>\n",
       "      <td>4</td>\n",
       "      <td>NaN</td>\n",
       "      <td>NaN</td>\n",
       "      <td>NaN</td>\n",
       "      <td>0.736918</td>\n",
       "      <td>85</td>\n",
       "      <td>7500</td>\n",
       "      <td>0.944203</td>\n",
       "      <td>0.008806</td>\n",
       "      <td>0.004868</td>\n",
       "      <td>0.937093</td>\n",
       "      <td>187770</td>\n",
       "    </tr>\n",
       "    <tr>\n",
       "      <th>5</th>\n",
       "      <td>5</td>\n",
       "      <td>0.88</td>\n",
       "      <td>0.99</td>\n",
       "      <td>0.77</td>\n",
       "      <td>0.739356</td>\n",
       "      <td>100</td>\n",
       "      <td>10000</td>\n",
       "      <td>0.949053</td>\n",
       "      <td>-0.003703</td>\n",
       "      <td>0.009279</td>\n",
       "      <td>1.130002</td>\n",
       "      <td>271422</td>\n",
       "    </tr>\n",
       "  </tbody>\n",
       "</table>\n",
       "</div>"
      ],
      "text/plain": [
       "   Unnamed: 0  Coverage-10  Coverage-20  Coverage-5       MAE  \\\n",
       "0           0          NaN          NaN         NaN  0.730837   \n",
       "1           1          NaN          NaN         NaN  0.742816   \n",
       "2           2          NaN          NaN         NaN  0.740222   \n",
       "3           3          NaN          NaN         NaN  0.722442   \n",
       "4           4          NaN          NaN         NaN  0.736918   \n",
       "5           5         0.88         0.99        0.77  0.739356   \n",
       "\n",
       "   Number of Items  Number of Users      RMSE  Spearman  Time to Predict  \\\n",
       "0               20              500  0.945365 -0.013541         0.000046   \n",
       "1               35             1000  0.970255 -0.014656         0.000145   \n",
       "2               50             2000  0.956669 -0.002961         0.000435   \n",
       "3               70             5000  0.931543 -0.012970         0.002242   \n",
       "4               85             7500  0.944203  0.008806         0.004868   \n",
       "5              100            10000  0.949053 -0.003703         0.009279   \n",
       "\n",
       "   Time to Train  Number of Ratings  \n",
       "0       0.088244               4311  \n",
       "1       0.135607              13932  \n",
       "2       0.185009              37100  \n",
       "3       0.443478             112959  \n",
       "4       0.937093             187770  \n",
       "5       1.130002             271422  "
      ]
     },
     "execution_count": 10,
     "metadata": {},
     "output_type": "execute_result"
    }
   ],
   "source": [
    "scalability_df = pd.DataFrame(scalability_all)\n",
    "scalability_df['Number of Ratings'] = [4311, 13932, 37100, 112959, 187770, 271422]\n",
    "scalability_df.to_csv('mat-fact-scalability.csv')\n",
    "scalability_df"
   ]
  },
  {
   "cell_type": "markdown",
   "metadata": {},
   "source": [
    "#### Plot Results"
   ]
  },
  {
   "cell_type": "code",
   "execution_count": 25,
   "metadata": {
    "collapsed": false
   },
   "outputs": [
    {
     "data": {
      "image/png": "[encoded data removed]",
      "text/plain": [
       "<matplotlib.figure.Figure at 0x11624f828>"
      ]
     },
     "metadata": {},
     "output_type": "display_data"
    }
   ],
   "source": [
    "fig, ax = plt.subplots(1,2, sharey=True, figsize=(10,5))\n",
    "ax[0].plot(scalability_df['Number of Ratings'], scalability_df['Time to Train'])\n",
    "ax[1].plot(scalability_df['Number of Ratings'], scalability_df['Time to Predict'])\n",
    "ax[0].set_ylabel('Time (s)')\n",
    "ax[0].set_xlabel('Number of Ratings')\n",
    "ax[1].set_xlabel('Number of Ratings')\n",
    "ax[0].set_title('Time to Train')\n",
    "ax[1].set_title('Time to Predict')\n",
    "plt.show()"
   ]
  },
  {
   "cell_type": "markdown",
   "metadata": {},
   "source": [
    "As we can see, while the time it takes to train scales roughly linearly with the number of ratings, the time to predict remains about the same. Based on these data, we can predict how long it would take to train a model with the full dataset. First, we calculate the parameters for a linear regression."
   ]
  },
  {
   "cell_type": "code",
   "execution_count": 49,
   "metadata": {
    "collapsed": false
   },
   "outputs": [
    {
     "name": "stdout",
     "output_type": "stream",
     "text": [
      "Intercept    0.057419\n",
      "ratings      0.000004\n",
      "dtype: float64\n"
     ]
    }
   ],
   "source": [
    "time_reg = scalability_df[['Time to Train', 'Number of Ratings']]\n",
    "time_reg.columns = ['time', 'ratings']\n",
    "\n",
    "result = sm.ols(formula=\"time ~ ratings\", data=time_reg).fit()\n",
    "print(result.params)"
   ]
  },
  {
   "cell_type": "markdown",
   "metadata": {},
   "source": [
    "The resulting equation is:\n",
    "$time = (0.057419 * #ratings) + 0.000004$"
   ]
  },
  {
   "cell_type": "code",
   "execution_count": 52,
   "metadata": {
    "collapsed": false
   },
   "outputs": [
    {
     "name": "stdout",
     "output_type": "stream",
     "text": [
      "The estimated time for the full dataset would be 343163.44770499994 seconds.\n"
     ]
    }
   ],
   "source": [
    "print('The estimated time for the full dataset would be {} seconds.'.format((0.057419*5976479) + 0.000004))"
   ]
  },
  {
   "cell_type": "code",
   "execution_count": 26,
   "metadata": {
    "collapsed": false
   },
   "outputs": [
    {
     "data": {
      "image/png": "[encoded data removed]",
      "text/plain": [
       "<matplotlib.figure.Figure at 0x115d978d0>"
      ]
     },
     "metadata": {},
     "output_type": "display_data"
    }
   ],
   "source": [
    "fig, ax = plt.subplots(1,3, figsize=(15,5))\n",
    "ax[0].plot(scalability_df['Number of Ratings'], scalability_df['RMSE'])\n",
    "ax[1].plot(scalability_df['Number of Ratings'], scalability_df['MAE'])\n",
    "ax[2].plot(scalability_df['Number of Ratings'], scalability_df['Spearman'])\n",
    "ax[0].set_xlabel('Number of Ratings')\n",
    "ax[1].set_xlabel('Number of Ratings')\n",
    "ax[2].set_xlabel('Number of Ratings')\n",
    "ax[0].set_title('RMSE')\n",
    "ax[1].set_title('MAE')\n",
    "ax[2].set_title('Spearman')\n",
    "plt.show()"
   ]
  },
  {
   "cell_type": "markdown",
   "metadata": {},
   "source": [
    "Both RMSE and MAE have minima on a medium-sized dataset (and have similar shapes otherwise). Both errors would be expected to increase monotonically as the data gets more sparse, so it is not clear what is causing this pattern, whether reproducible or simply a random artifact of the data itself."
   ]
  },
  {
   "cell_type": "markdown",
   "metadata": {},
   "source": [
    "#### Coverage"
   ]
  },
  {
   "cell_type": "markdown",
   "metadata": {},
   "source": [
    "Coverage measures the fraction of items that get recommended among the top k items for at least one user. For k=5,10,20 the coverage values were 0.77, 0.88, and 0.99. This model achieved very high coverage, and thus demonstrates an ability to recommend quite a wide array of products, although it is important to remember that the dataset we are dealing with is exclusively for popular items."
   ]
  }
 ],
 "metadata": {
  "anaconda-cloud": {},
  "kernelspec": {
   "display_name": "Python [conda env:py3k]",
   "language": "python",
   "name": "conda-env-py3k-py"
  },
  "language_info": {
   "codemirror_mode": {
    "name": "ipython",
    "version": 3
   },
   "file_extension": ".py",
   "mimetype": "text/x-python",
   "name": "python",
   "nbconvert_exporter": "python",
   "pygments_lexer": "ipython3",
   "version": "3.5.2"
  }
 },
 "nbformat": 4,
 "nbformat_minor": 1
}
