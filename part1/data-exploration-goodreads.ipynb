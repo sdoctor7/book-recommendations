{
 "cells": [
  {
   "cell_type": "markdown",
   "metadata": {},
   "source": [
    "# Goodreads Book Ratings - Initial Data Exploration"
   ]
  },
  {
   "cell_type": "markdown",
   "metadata": {},
   "source": [
    "#### Import Libraries"
   ]
  },
  {
   "cell_type": "code",
   "execution_count": 4,
   "metadata": {
    "collapsed": true
   },
   "outputs": [],
   "source": [
    "import pandas as pd\n",
    "import matplotlib.pyplot as plt\n",
    "%matplotlib inline\n",
    "from sklearn.model_selection import train_test_split\n",
    "import numpy as np"
   ]
  },
  {
   "cell_type": "markdown",
   "metadata": {},
   "source": [
    "#### Import Data"
   ]
  },
  {
   "cell_type": "code",
   "execution_count": 5,
   "metadata": {},
   "outputs": [],
   "source": [
    "ratings = pd.read_csv('../../ratings.csv')"
   ]
  },
  {
   "cell_type": "code",
   "execution_count": 6,
   "metadata": {
    "scrolled": true
   },
   "outputs": [
    {
     "data": {
      "text/html": [
       "<div>\n",
       "<style>\n",
       "    .dataframe thead tr:only-child th {\n",
       "        text-align: right;\n",
       "    }\n",
       "\n",
       "    .dataframe thead th {\n",
       "        text-align: left;\n",
       "    }\n",
       "\n",
       "    .dataframe tbody tr th {\n",
       "        vertical-align: top;\n",
       "    }\n",
       "</style>\n",
       "<table border=\"1\" class=\"dataframe\">\n",
       "  <thead>\n",
       "    <tr style=\"text-align: right;\">\n",
       "      <th></th>\n",
       "      <th>user_id</th>\n",
       "      <th>book_id</th>\n",
       "      <th>rating</th>\n",
       "    </tr>\n",
       "  </thead>\n",
       "  <tbody>\n",
       "    <tr>\n",
       "      <th>0</th>\n",
       "      <td>1</td>\n",
       "      <td>258</td>\n",
       "      <td>5</td>\n",
       "    </tr>\n",
       "    <tr>\n",
       "      <th>1</th>\n",
       "      <td>2</td>\n",
       "      <td>4081</td>\n",
       "      <td>4</td>\n",
       "    </tr>\n",
       "    <tr>\n",
       "      <th>2</th>\n",
       "      <td>2</td>\n",
       "      <td>260</td>\n",
       "      <td>5</td>\n",
       "    </tr>\n",
       "    <tr>\n",
       "      <th>3</th>\n",
       "      <td>2</td>\n",
       "      <td>9296</td>\n",
       "      <td>5</td>\n",
       "    </tr>\n",
       "    <tr>\n",
       "      <th>4</th>\n",
       "      <td>2</td>\n",
       "      <td>2318</td>\n",
       "      <td>3</td>\n",
       "    </tr>\n",
       "  </tbody>\n",
       "</table>\n",
       "</div>"
      ],
      "text/plain": [
       "   user_id  book_id  rating\n",
       "0        1      258       5\n",
       "1        2     4081       4\n",
       "2        2      260       5\n",
       "3        2     9296       5\n",
       "4        2     2318       3"
      ]
     },
     "execution_count": 6,
     "metadata": {},
     "output_type": "execute_result"
    }
   ],
   "source": [
    "ratings.head()"
   ]
  },
  {
   "cell_type": "code",
   "execution_count": 7,
   "metadata": {},
   "outputs": [
    {
     "name": "stdout",
     "output_type": "stream",
     "text": [
      "Number of ratings: 5976479\n"
     ]
    }
   ],
   "source": [
    "n_ratings = len(ratings)\n",
    "print('Number of ratings: {}'.format(n_ratings))"
   ]
  },
  {
   "cell_type": "markdown",
   "metadata": {},
   "source": [
    "#### How many different users are there, and how many ratings have they given?"
   ]
  },
  {
   "cell_type": "code",
   "execution_count": 8,
   "metadata": {},
   "outputs": [
    {
     "name": "stdout",
     "output_type": "stream",
     "text": [
      "Number of unique users: 53424\n"
     ]
    }
   ],
   "source": [
    "n_users = len(ratings.user_id.unique())\n",
    "print('Number of unique users: {}'.format(n_users))"
   ]
  },
  {
   "cell_type": "code",
   "execution_count": 9,
   "metadata": {},
   "outputs": [
    {
<<<<<<< HEAD
     "data": {
      "text/plain": [
       "30944    200\n",
       "12874    200\n",
       "52036    199\n",
       "28158    199\n",
       "12381    199\n",
       "Name: user_id, dtype: int64"
      ]
     },
     "execution_count": 9,
     "metadata": {},
     "output_type": "execute_result"
=======
     "name": "stdout",
     "output_type": "stream",
     "text": [
      "Minimum number of ratings per user:  19\n",
      "Maximum number of ratings per user:  200\n",
      "Median number of ratings per user:  111.0\n"
     ]
>>>>>>> origin/master
    }
   ],
   "source": [
    "user_freq = ratings.user_id.value_counts() # number of ratings for each user_id\n",
    "print('Minimum number of ratings per user: ', min(user_freq))\n",
    "print('Maximum number of ratings per user: ', max(user_freq))\n",
    "print('Median number of ratings per user: ', np.median(user_freq))"
   ]
  },
  {
   "cell_type": "code",
   "execution_count": 10,
   "metadata": {},
   "outputs": [
    {
     "data": {
      "image/png": "iVBORw0KGgoAAAANSUhEUgAAAYgAAAD5CAYAAAA9SqL2AAAABHNCSVQICAgIfAhkiAAAAAlwSFlz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\nkCSVMiAkSaUMCElSKQNCklTq/wNXLHdTg+pY7AAAAABJRU5ErkJggg==\n",
      "text/plain": [
<<<<<<< HEAD
       "<matplotlib.figure.Figure at 0x19050fe75f8>"
=======
       "<matplotlib.figure.Figure at 0x115096f60>"
>>>>>>> origin/master
      ]
     },
     "metadata": {},
     "output_type": "display_data"
    }
   ],
   "source": [
    "plt.scatter(range(len(user_freq)), user_freq)\n",
    "plt.xlabel('User')\n",
    "plt.ylabel('Number of Ratings')\n",
    "plt.xticks([])\n",
    "plt.show()"
   ]
  },
  {
   "cell_type": "markdown",
   "metadata": {},
   "source": [
    "#### How many different items are there, and how many ratings do they have?"
   ]
  },
  {
   "cell_type": "code",
   "execution_count": 11,
   "metadata": {},
   "outputs": [
    {
     "name": "stdout",
     "output_type": "stream",
     "text": [
      "Number of unique items: 10000\n"
     ]
    }
   ],
   "source": [
    "n_products = len(ratings.book_id.unique())\n",
    "print('Number of unique items: {}'.format(n_products))"
   ]
  },
  {
   "cell_type": "code",
   "execution_count": 12,
   "metadata": {},
   "outputs": [
    {
<<<<<<< HEAD
     "data": {
      "text/plain": [
       "1    22806\n",
       "2    21850\n",
       "4    19088\n",
       "3    16931\n",
       "5    16604\n",
       "Name: book_id, dtype: int64"
      ]
     },
     "execution_count": 12,
     "metadata": {},
     "output_type": "execute_result"
=======
     "name": "stdout",
     "output_type": "stream",
     "text": [
      "Minimum number of ratings per item:  8\n",
      "Maximum number of ratings per item:  22806\n",
      "Median number of ratings per item:  248.0\n"
     ]
>>>>>>> origin/master
    }
   ],
   "source": [
    "product_freq = ratings.book_id.value_counts()\n",
    "print('Minimum number of ratings per item: ', min(product_freq))\n",
    "print('Maximum number of ratings per item: ', max(product_freq))\n",
    "print('Median number of ratings per item: ', np.median(product_freq))"
   ]
  },
  {
   "cell_type": "code",
   "execution_count": 13,
   "metadata": {},
   "outputs": [
    {
     "data": {
      "image/png": "iVBORw0KGgoAAAANSUhEUgAAAZUAAAD5CAYAAADvGqiuAAAABHNCSVQICAgIfAhkiAAAAAlwSFlz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\nGUNFklQZQ0WSVBlDRZJUGUNFklSZ/w/OQ04TnIYj7QAAAABJRU5ErkJggg==\n",
      "text/plain": [
<<<<<<< HEAD
       "<matplotlib.figure.Figure at 0x190512be320>"
=======
       "<matplotlib.figure.Figure at 0x104afd400>"
>>>>>>> origin/master
      ]
     },
     "metadata": {},
     "output_type": "display_data"
    }
   ],
   "source": [
    "plt.scatter(range(len(product_freq)), product_freq)\n",
    "plt.xlabel('Item')\n",
    "plt.ylabel('Number of Ratings')\n",
    "plt.xticks([])\n",
    "plt.show()"
   ]
  },
  {
   "cell_type": "markdown",
   "metadata": {},
   "source": [
    "#### How sparse is the data?"
   ]
  },
  {
   "cell_type": "code",
   "execution_count": 14,
   "metadata": {},
   "outputs": [
    {
     "name": "stdout",
     "output_type": "stream",
     "text": [
      "Sparsity of ratings data: 0.011187%\n"
     ]
    }
   ],
   "source": [
    "sparsity = (float(n_ratings) / (n_users * n_products))\n",
    "print('Sparsity of ratings data: {0:.6f}%'.format(sparsity))"
   ]
  },
  {
   "cell_type": "markdown",
   "metadata": {},
   "source": [
    "#### What are the ratings like? "
   ]
  },
  {
   "cell_type": "code",
   "execution_count": 25,
   "metadata": {},
   "outputs": [
    {
     "data": {
      "text/plain": [
       "[<matplotlib.text.Text at 0x190515fd668>,\n",
       " <matplotlib.text.Text at 0x19051319470>]"
      ]
     },
     "execution_count": 25,
     "metadata": {},
     "output_type": "execute_result"
    },
    {
     "data": {
      "image/png": "iVBORw0KGgoAAAANSUhEUgAAAaIAAAELCAYAAACbGIJJAAAABHNCSVQICAgIfAhkiAAAAAlwSFlz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\nZmZZuRCZmVlWLkRmZpaVC5GZmWX1/wFnULheCjyFAgAAAABJRU5ErkJggg==\n",
      "text/plain": [
       "<matplotlib.figure.Figure at 0x19051363780>"
      ]
     },
     "metadata": {},
     "output_type": "display_data"
    }
   ],
   "source": [
    "ratings.rating.hist(bins = 5).set(xlabel=\"Number of Ratings\", ylabel=\"Rating\")"
   ]
  },
  {
   "cell_type": "markdown",
   "metadata": {},
   "source": [
    "It looks like there were more ratings of 4 or 5 than 1, 2 or 3. It looks like users were very reluctant to write a book a 1. This, however, may have to do with the fact that we are dealing with the most popular books on Goodreads, which are unlikely to be rated low."
   ]
  },
  {
   "cell_type": "markdown",
   "metadata": {},
   "source": [
    "##### Average user ratings"
   ]
  },
  {
   "cell_type": "code",
   "execution_count": 41,
   "metadata": {},
   "outputs": [
    {
     "data": {
      "text/plain": [
       "[<matplotlib.text.Text at 0x190517cb048>,\n",
       " <matplotlib.text.Text at 0x190519138d0>]"
      ]
     },
     "execution_count": 41,
     "metadata": {},
     "output_type": "execute_result"
    },
    {
     "data": {
      "image/png": "iVBORw0KGgoAAAANSUhEUgAAAZUAAAEWCAYAAACufwpNAAAABHNCSVQICAgIfAhkiAAAAAlwSFlz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\nqZiZWW6cVMzMLDdOKmZmlpv/Dxfhi2WH57vdAAAAAElFTkSuQmCC\n",
      "text/plain": [
       "<matplotlib.figure.Figure at 0x19051c8c710>"
      ]
     },
     "metadata": {},
     "output_type": "display_data"
    }
   ],
   "source": [
    "df_user = pd.DataFrame(ratings[['user_id','rating']].groupby('user_id').mean())\n",
    "ax = df_user.hist(bins = 5)\n",
    "ax[0][0].set(xlabel=\"Average User Rating\", ylabel=\"Number of Users\")"
   ]
  },
  {
   "cell_type": "markdown",
   "metadata": {},
   "source": [
    "##### Average book ratings"
   ]
  },
  {
   "cell_type": "code",
   "execution_count": 42,
   "metadata": {},
   "outputs": [
    {
     "data": {
      "text/plain": [
       "[<matplotlib.text.Text at 0x190516a6e48>,\n",
       " <matplotlib.text.Text at 0x19051a491d0>]"
      ]
     },
     "execution_count": 42,
     "metadata": {},
     "output_type": "execute_result"
    },
    {
     "data": {
      "image/png": "iVBORw0KGgoAAAANSUhEUgAAAY8AAAEWCAYAAACe8xtsAAAABHNCSVQICAgIfAhkiAAAAAlwSFlz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\nHmZmlpuDh5mZ5fb/AUmpVsUDJfgLAAAAAElFTkSuQmCC\n",
      "text/plain": [
       "<matplotlib.figure.Figure at 0x190517c53c8>"
      ]
     },
     "metadata": {},
     "output_type": "display_data"
    }
   ],
   "source": [
    "df_book = pd.DataFrame(ratings[['book_id','rating']].groupby('book_id').mean())\n",
    "ax = df_book.hist(bins = 5)\n",
    "ax[0][0].set(xlabel=\"Average Book Rating\", ylabel=\"Number of Books\")"
   ]
  },
  {
   "cell_type": "markdown",
   "metadata": {},
   "source": [
    "Looking at the average ratings of each user, it looks like most are skewed towards 'positive' ratings, having a mean rating of about 4. Very few have a mean ranking below 3, and almost none below 2. Similarly, most books are rated between 3.5 - 4.5 on average, which makes sense when dealing with the most popular books on Goodreads."
   ]
  }
 ],
 "metadata": {
  "anaconda-cloud": {},
  "kernelspec": {
   "display_name": "Python [conda env:py3k]",
   "language": "python",
   "name": "conda-env-py3k-py"
  },
  "language_info": {
   "codemirror_mode": {
    "name": "ipython",
    "version": 3
   },
   "file_extension": ".py",
   "mimetype": "text/x-python",
   "name": "python",
   "nbconvert_exporter": "python",
   "pygments_lexer": "ipython3",
   "version": "3.5.3"
  }
 },
 "nbformat": 4,
 "nbformat_minor": 1
}
