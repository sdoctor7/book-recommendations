{
 "cells": [
  {
   "cell_type": "markdown",
   "metadata": {},
   "source": [
    "# Getting the Baseline Model\n",
    "## Normal Predictor and Baseline Estimators using ALS and SGD\n",
    "\n",
    "The following notebook holds the code for how we selected, tuned, and evaluated the baseline algorithm for predicting a user's book ratings."
   ]
  },
  {
   "cell_type": "markdown",
   "metadata": {},
   "source": [
    "#### Setting up functions and importing packages"
   ]
  },
  {
   "cell_type": "code",
   "execution_count": 1,
   "metadata": {
    "collapsed": true
   },
   "outputs": [],
   "source": [
    "#import math modules\n",
    "import pandas as pd\n",
    "import numpy as np\n",
    "import matplotlib.pyplot as plt\n",
    "\n",
    "#import surprise modules\n",
    "from surprise.prediction_algorithms.random_pred import NormalPredictor\n",
    "from surprise.prediction_algorithms.baseline_only import BaselineOnly\n",
    "from surprise import Dataset\n",
    "from surprise import Reader\n",
    "from surprise import evaluate, print_perf\n",
    "from surprise import GridSearch\n",
    "from surprise import accuracy\n",
    "\n",
    "#import modules for calculating metrics\n",
    "from collections import defaultdict\n",
    "from scipy.stats import spearmanr\n",
    "import time\n",
    "\n",
    "#Graphing\n",
    "%matplotlib inline"
   ]
  },
  {
   "cell_type": "code",
   "execution_count": 2,
   "metadata": {
    "collapsed": true
   },
   "outputs": [],
   "source": [
    "#Setup functions to split data for testing and training\n",
    "from sklearn.model_selection import train_test_split\n",
    "\n",
    "def pick_users_books(df, num_users, num_books):\n",
    "    #Get the top num_users most prolific users\n",
    "    user_counts = pd.DataFrame(df.user_id.value_counts()).sort_values('user_id', ascending=False)\n",
    "    top_10K_users = list(user_counts[0:num_users].index)\n",
    "    user_filtered_df = df[df.user_id.isin(top_10K_users)]\n",
    "    #Get the top num_books most reviewed books by the selected users\n",
    "    filtered_book_counts = pd.DataFrame(user_filtered_df.book_id.value_counts()).sort_values('book_id', ascending = False)\n",
    "    top_100_filtered_books = list(filtered_book_counts[0:num_books].index)\n",
    "    #Generate new filtered dataframe\n",
    "    filtered_df = user_filtered_df[user_filtered_df.book_id.isin(top_100_filtered_books)]\n",
    "    print(\"New dataframe has {} users, {} items, and a sparsity of {}\".format(len(filtered_df.user_id.unique()),len(filtered_df.book_id.unique()),len(filtered_df)/(len(filtered_df.user_id.unique())*len(filtered_df.book_id.unique()))))\n",
    "    #Split dataframe into training and test sets\n",
    "    train, test = train_test_split(filtered_df, test_size = 0.2, random_state=42)\n",
    "    return train, test\n",
    "\n",
    "def get_all_subsets(df):\n",
    "    #Generate different subsets for scaling purposes\n",
    "    train_500_20, test_500_20 = pick_users_books(df, 500, 20)\n",
    "    train_2000_50, test_2000_50 = pick_users_books(df, 2000, 50)\n",
    "    train_10000_100, test_10000_100 = pick_users_books(df, 10000, 100)\n",
    "\n",
    "    return train_500_20, test_500_20, train_2000_50, test_2000_50, train_10000_100, test_10000_100"
   ]
  },
  {
   "cell_type": "code",
   "execution_count": 3,
   "metadata": {
    "collapsed": true
   },
   "outputs": [],
   "source": [
    "#Set up functions to nicely display gridsearch data in a table\n",
    "#Need to do results_df = pd.DataFrame.from_dict(grid_search.cv_results)\n",
    "\n",
    "#Function for alternating least squares\n",
    "def convert_grid_results_als(df):\n",
    "\n",
    "    my_dict = df.to_dict('list')\n",
    "    method = []\n",
    "    reg_i = []\n",
    "    reg_u = []\n",
    "    n_epochs = []\n",
    "    \n",
    "    for x in range(len(my_dict['bsl_options'])):\n",
    "        y = my_dict['bsl_options'][x]\n",
    "        method.append(y['method'])\n",
    "        reg_i.append(y['reg_i'])    \n",
    "        reg_u.append(y['reg_u'])\n",
    "        n_epochs.append(y['n_epochs'])\n",
    "\n",
    "    del my_dict['params']\n",
    "    del my_dict['scores']\n",
    "    del my_dict['bsl_options']\n",
    "\n",
    "    my_dict['method'] = method\n",
    "    my_dict['reg_i'] = reg_i\n",
    "    my_dict['reg_u'] = reg_u\n",
    "    my_dict['n_epochs'] = n_epochs\n",
    "    my_df = pd.DataFrame.from_dict(my_dict).sort_values('RMSE')\n",
    "\n",
    "    return my_df\n",
    "\n",
    "#Function for gradient descent\n",
    "def convert_grid_results_sgd(df):\n",
    "\n",
    "    my_dict = df.to_dict('list')\n",
    "    method = []\n",
    "    reg = []\n",
    "    learning_rate = [] \n",
    "    n_epochs = []\n",
    "\n",
    "    for x in range(len(my_dict['bsl_options'])):\n",
    "        y = my_dict['bsl_options'][x]\n",
    "        method.append(y['method'])\n",
    "        reg.append(y['reg'])        \n",
    "        learning_rate.append(y['learning_rate'])\n",
    "        n_epochs.append(y['n_epochs'])\n",
    "\n",
    "    del my_dict['params']\n",
    "    del my_dict['scores']\n",
    "    del my_dict['bsl_options']\n",
    "\n",
    "    my_dict['method'] = method\n",
    "    my_dict['reg'] = reg    \n",
    "    my_dict['learning_rate'] = learning_rate\n",
    "    my_dict['n_epochs'] = n_epochs\n",
    "    my_df = pd.DataFrame.from_dict(my_dict).sort_values('RMSE')\n",
    "\n",
    "    return my_df"
   ]
  },
  {
   "cell_type": "code",
   "execution_count": 4,
   "metadata": {
    "collapsed": true
   },
   "outputs": [],
   "source": [
    "# Function to calculate spearman coefficient from surPRISE predictions\n",
    "def spearman(predictions):\n",
    "    dict_ratings = {}\n",
    "    spearmans = []\n",
    "    for uid, iid, true_r, est, _ in predictions:\n",
    "        if float(true_r) and float(est) and not np.isnan(true_r) and not np.isnan(est):\n",
    "            if uid in dict_ratings.keys():\n",
    "                dict_ratings[uid][0].append(true_r)\n",
    "                dict_ratings[uid][1].append(est)\n",
    "            else:\n",
    "                dict_ratings[uid]=[[true_r],[est]]\n",
    "    for uid in dict_ratings.keys():\n",
    "        if len(dict_ratings[uid][0])>1:\n",
    "            spearman = spearmanr(dict_ratings[uid][0], dict_ratings[uid][1])[0]\n",
    "            if np.isnan(spearman) == False: # spearman is NaN if all true ratings are the same! exclude these\n",
    "                spearmans.append(spearman)\n",
    "    return np.mean(spearmans)\n",
    "\n",
    "def get_top_n(predictions, n=10):\n",
    "    # First map the predictions to each user.\n",
    "    top_n = defaultdict(list)\n",
    "    for uid, iid, true_r, est, _ in predictions:\n",
    "        top_n[uid].append((iid, est))\n",
    "\n",
    "    # Then sort the predictions for each user and retrieve the k highest ones.\n",
    "    for uid, user_ratings in top_n.items():\n",
    "        user_ratings.sort(key=lambda x: x[1], reverse=True)\n",
    "        top_n[uid] = user_ratings[:n]\n",
    "\n",
    "    return top_n\n",
    "\n",
    "def calc_item_coverage(top_n, num_books):\n",
    "    bookset = set()\n",
    "    for book in top_n.keys():\n",
    "        for pair in top_n[book]:\n",
    "            bookset.add(pair[0])\n",
    "    return float(len(bookset))/num_books"
   ]
  },
  {
   "cell_type": "markdown",
   "metadata": {},
   "source": [
    "#### Loading and splitting data"
   ]
  },
  {
   "cell_type": "code",
   "execution_count": 5,
   "metadata": {
    "collapsed": true
   },
   "outputs": [],
   "source": [
    "#load ratings data\n",
    "ratings = pd.read_csv('../../ratings.csv')"
   ]
  },
  {
   "cell_type": "code",
   "execution_count": 6,
   "metadata": {},
   "outputs": [
    {
     "name": "stdout",
     "output_type": "stream",
     "text": [
      "New dataframe has 487 users, 20 items, and a sparsity of 0.44260780287474333\n",
      "New dataframe has 1981 users, 50 items, and a sparsity of 0.3745583038869258\n",
      "New dataframe has 9980 users, 100 items, and a sparsity of 0.2719659318637275\n",
      "New dataframe has 985 users, 35 items, and a sparsity of 0.4041189267585207\n",
      "New dataframe has 4980 users, 70 items, and a sparsity of 0.32403614457831326\n",
      "New dataframe has 7479 users, 85 items, and a sparsity of 0.2953682074514523\n"
     ]
    }
   ],
   "source": [
    "#Split data into trainint and test sets of different sizes\n",
    "train_500_20, test_500_20, train_2000_50, test_2000_50, train_10000_100, test_10000_100 = get_all_subsets(ratings)\n",
    "\n",
    "#More datasets\n",
    "tr1, t1 = pick_users_books(ratings, 1000, 35)\n",
    "all_1000_35 = tr1.append(t1)\n",
    "tr2, t2 = pick_users_books(ratings, 5000, 70)\n",
    "all_5000_70 = tr2.append(t2)\n",
    "tr4, t4 = pick_users_books(ratings, 7500, 85)\n",
    "all_7500_85 = tr4.append(t4)"
   ]
  },
  {
   "cell_type": "markdown",
   "metadata": {},
   "source": [
    "#### Normal Predictor\n",
    "This algorithm used Maximum Likelihood Estimation to get the mean and standard deviation of the entire dataset. It then generates random ratings from a Normal distribution with the estimated parameters."
   ]
  },
  {
   "cell_type": "code",
   "execution_count": 7,
   "metadata": {},
   "outputs": [
    {
     "name": "stdout",
     "output_type": "stream",
     "text": [
      "Evaluating RMSE, MAE of algorithm NormalPredictor.\n",
      "\n",
      "------------\n",
      "Fold 1\n",
      "RMSE: 1.3540\n",
      "MAE:  1.0662\n",
      "------------\n",
      "Fold 2\n",
      "RMSE: 1.3612\n",
      "MAE:  1.0731\n",
      "------------\n",
      "Fold 3\n",
      "RMSE: 1.3506\n",
      "MAE:  1.0660\n",
      "------------\n",
      "------------\n",
      "Mean RMSE: 1.3553\n",
      "Mean MAE : 1.0684\n",
      "------------\n",
      "------------\n"
     ]
    }
   ],
   "source": [
    "#Run the Normal predictor - no gridsearch needed\n",
    "algo = NormalPredictor()\n",
    "reader = Reader(rating_scale=(1,5))\n",
    "train = Dataset.load_from_df(train_10000_100, reader)\n",
    "test = Dataset.load_from_df(test_10000_100, reader)\n",
    "train.split(n_folds=3)\n",
    "perf = evaluate(algo, train, measures=['RMSE', 'MAE'])"
   ]
  },
  {
   "cell_type": "markdown",
   "metadata": {},
   "source": [
    "The Normal predictor method is not the best since it does not learn anything about the characteristics of individual users or items."
   ]
  },
  {
   "cell_type": "markdown",
   "metadata": {},
   "source": [
    "#### Baseline Estimation\n",
    "\n",
    "Typically, both items and users have systematic biases, meaning that some users tend to give higher or lower ratings than others, and some items receive higher ratings than others. If $\\mu$ is the overall average rating within the dataset, then a baseline estimate for an unknown rating is calculated by\n",
    "\n",
    "$\\hat{r}_{ui} = \\mu + b_{i} + b_{u}$\n",
    "\n",
    "where $b_i$ is the observed deviations of item i from the average and $b_u$ is the observed deviation of user u. In order to estimate $b_u$ and $b_i$ for each user and item, one can solve the following least squares problem:\n",
    "\n",
    "$min_{b_i, b_u} \\sum_{(u,i) \\in K} (r_{ui} - \\mu - b_u - b_i)^2 + \\lambda(\\sum_u b^2_u + \\sum_i b^2_i)$\n",
    "\n",
    "The first part of the equation tries to minimize the error between the estimated and actual error, while the second regularizing term aims to avoid overfitting  by penalizing the magnitudes of the parameters. This estimation can be also done faster via alternating least squares or standard gradient descent by alternatively calculating bi and bu. Since these alternating methods sacrifice accuracy, we used grid search to reduce the errors in both.\n",
    "\n",
    "##### Standard Gradient Descent\n",
    "\n",
    "In the interest of time, and since this is only to establish a basic baseline, we only tested three different valyes for each hyperparameter. If this method were to be productionalized, we would need to do a more granual search for both SGD and ALS hyperparameters."
   ]
  },
  {
   "cell_type": "code",
   "execution_count": 8,
   "metadata": {
    "collapsed": true
   },
   "outputs": [],
   "source": [
    "## UNCOMMENT BELOW TO RUN GRID SEARCH ON SGD\n",
    "\n",
    "# #Grid search for baseline - gradient descent\n",
    "# param_grid = {'bsl_options':{'method': ['sgd'], 'reg':[.02,.01,.05], 'learning_rate':[.005,.001, .01], 'n_epochs':[10,20,40]}}\n",
    "# gridsearch = GridSearch(BaselineOnly, param_grid, measures=['RMSE'], verbose=0)\n",
    "# reader = Reader(rating_scale=(1,5))\n",
    "# train = Dataset.load_from_df(train_10000_100, reader)\n",
    "# test = Dataset.load_from_df(test_10000_100, reader)\n",
    "# train.split(n_folds=3)\n",
    "# gridsearch.evaluate(train)\n",
    "# sgd_df = convert_grid_results_sgd(pd.DataFrame.from_dict(gridsearch.cv_results))\n",
    "# sgd_df.to_csv(\"Grid Search Results/baseline_sgd_grid_results.csv\")"
   ]
  },
  {
   "cell_type": "markdown",
   "metadata": {},
   "source": [
    "##### SGD GridSearch Hyperparameter Tuning Results"
   ]
  },
  {
   "cell_type": "code",
   "execution_count": 9,
   "metadata": {},
   "outputs": [
    {
     "data": {
      "text/html": [
       "<div>\n",
       "<style>\n",
       "    .dataframe thead tr:only-child th {\n",
       "        text-align: right;\n",
       "    }\n",
       "\n",
       "    .dataframe thead th {\n",
       "        text-align: left;\n",
       "    }\n",
       "\n",
       "    .dataframe tbody tr th {\n",
       "        vertical-align: top;\n",
       "    }\n",
       "</style>\n",
       "<table border=\"1\" class=\"dataframe\">\n",
       "  <thead>\n",
       "    <tr style=\"text-align: right;\">\n",
       "      <th></th>\n",
       "      <th>Unnamed: 0</th>\n",
       "      <th>RMSE</th>\n",
       "      <th>learning_rate</th>\n",
       "      <th>method</th>\n",
       "      <th>n_epochs</th>\n",
       "      <th>reg</th>\n",
       "    </tr>\n",
       "  </thead>\n",
       "  <tbody>\n",
       "    <tr>\n",
       "      <th>0</th>\n",
       "      <td>4</td>\n",
       "      <td>0.895837</td>\n",
       "      <td>0.005</td>\n",
       "      <td>sgd</td>\n",
       "      <td>20</td>\n",
       "      <td>0.01</td>\n",
       "    </tr>\n",
       "    <tr>\n",
       "      <th>1</th>\n",
       "      <td>1</td>\n",
       "      <td>0.895893</td>\n",
       "      <td>0.005</td>\n",
       "      <td>sgd</td>\n",
       "      <td>20</td>\n",
       "      <td>0.02</td>\n",
       "    </tr>\n",
       "    <tr>\n",
       "      <th>2</th>\n",
       "      <td>8</td>\n",
       "      <td>0.896002</td>\n",
       "      <td>0.005</td>\n",
       "      <td>sgd</td>\n",
       "      <td>40</td>\n",
       "      <td>0.05</td>\n",
       "    </tr>\n",
       "    <tr>\n",
       "      <th>3</th>\n",
       "      <td>7</td>\n",
       "      <td>0.896152</td>\n",
       "      <td>0.005</td>\n",
       "      <td>sgd</td>\n",
       "      <td>20</td>\n",
       "      <td>0.05</td>\n",
       "    </tr>\n",
       "    <tr>\n",
       "      <th>4</th>\n",
       "      <td>2</td>\n",
       "      <td>0.896354</td>\n",
       "      <td>0.005</td>\n",
       "      <td>sgd</td>\n",
       "      <td>40</td>\n",
       "      <td>0.02</td>\n",
       "    </tr>\n",
       "    <tr>\n",
       "      <th>5</th>\n",
       "      <td>5</td>\n",
       "      <td>0.896522</td>\n",
       "      <td>0.005</td>\n",
       "      <td>sgd</td>\n",
       "      <td>40</td>\n",
       "      <td>0.01</td>\n",
       "    </tr>\n",
       "    <tr>\n",
       "      <th>6</th>\n",
       "      <td>21</td>\n",
       "      <td>0.897209</td>\n",
       "      <td>0.010</td>\n",
       "      <td>sgd</td>\n",
       "      <td>10</td>\n",
       "      <td>0.01</td>\n",
       "    </tr>\n",
       "    <tr>\n",
       "      <th>7</th>\n",
       "      <td>18</td>\n",
       "      <td>0.897265</td>\n",
       "      <td>0.010</td>\n",
       "      <td>sgd</td>\n",
       "      <td>10</td>\n",
       "      <td>0.02</td>\n",
       "    </tr>\n",
       "    <tr>\n",
       "      <th>8</th>\n",
       "      <td>25</td>\n",
       "      <td>0.897342</td>\n",
       "      <td>0.010</td>\n",
       "      <td>sgd</td>\n",
       "      <td>20</td>\n",
       "      <td>0.05</td>\n",
       "    </tr>\n",
       "    <tr>\n",
       "      <th>9</th>\n",
       "      <td>24</td>\n",
       "      <td>0.897525</td>\n",
       "      <td>0.010</td>\n",
       "      <td>sgd</td>\n",
       "      <td>10</td>\n",
       "      <td>0.05</td>\n",
       "    </tr>\n",
       "    <tr>\n",
       "      <th>10</th>\n",
       "      <td>19</td>\n",
       "      <td>0.897700</td>\n",
       "      <td>0.010</td>\n",
       "      <td>sgd</td>\n",
       "      <td>20</td>\n",
       "      <td>0.02</td>\n",
       "    </tr>\n",
       "    <tr>\n",
       "      <th>11</th>\n",
       "      <td>22</td>\n",
       "      <td>0.897870</td>\n",
       "      <td>0.010</td>\n",
       "      <td>sgd</td>\n",
       "      <td>20</td>\n",
       "      <td>0.01</td>\n",
       "    </tr>\n",
       "    <tr>\n",
       "      <th>12</th>\n",
       "      <td>26</td>\n",
       "      <td>0.899177</td>\n",
       "      <td>0.010</td>\n",
       "      <td>sgd</td>\n",
       "      <td>40</td>\n",
       "      <td>0.05</td>\n",
       "    </tr>\n",
       "    <tr>\n",
       "      <th>13</th>\n",
       "      <td>20</td>\n",
       "      <td>0.899989</td>\n",
       "      <td>0.010</td>\n",
       "      <td>sgd</td>\n",
       "      <td>40</td>\n",
       "      <td>0.02</td>\n",
       "    </tr>\n",
       "    <tr>\n",
       "      <th>14</th>\n",
       "      <td>23</td>\n",
       "      <td>0.900329</td>\n",
       "      <td>0.010</td>\n",
       "      <td>sgd</td>\n",
       "      <td>40</td>\n",
       "      <td>0.01</td>\n",
       "    </tr>\n",
       "    <tr>\n",
       "      <th>15</th>\n",
       "      <td>3</td>\n",
       "      <td>0.904737</td>\n",
       "      <td>0.005</td>\n",
       "      <td>sgd</td>\n",
       "      <td>10</td>\n",
       "      <td>0.01</td>\n",
       "    </tr>\n",
       "    <tr>\n",
       "      <th>16</th>\n",
       "      <td>0</td>\n",
       "      <td>0.904889</td>\n",
       "      <td>0.005</td>\n",
       "      <td>sgd</td>\n",
       "      <td>10</td>\n",
       "      <td>0.02</td>\n",
       "    </tr>\n",
       "    <tr>\n",
       "      <th>17</th>\n",
       "      <td>6</td>\n",
       "      <td>0.905404</td>\n",
       "      <td>0.005</td>\n",
       "      <td>sgd</td>\n",
       "      <td>10</td>\n",
       "      <td>0.05</td>\n",
       "    </tr>\n",
       "    <tr>\n",
       "      <th>18</th>\n",
       "      <td>14</td>\n",
       "      <td>0.909198</td>\n",
       "      <td>0.001</td>\n",
       "      <td>sgd</td>\n",
       "      <td>40</td>\n",
       "      <td>0.01</td>\n",
       "    </tr>\n",
       "    <tr>\n",
       "      <th>19</th>\n",
       "      <td>11</td>\n",
       "      <td>0.909332</td>\n",
       "      <td>0.001</td>\n",
       "      <td>sgd</td>\n",
       "      <td>40</td>\n",
       "      <td>0.02</td>\n",
       "    </tr>\n",
       "    <tr>\n",
       "      <th>20</th>\n",
       "      <td>17</td>\n",
       "      <td>0.909791</td>\n",
       "      <td>0.001</td>\n",
       "      <td>sgd</td>\n",
       "      <td>40</td>\n",
       "      <td>0.05</td>\n",
       "    </tr>\n",
       "    <tr>\n",
       "      <th>21</th>\n",
       "      <td>13</td>\n",
       "      <td>0.929294</td>\n",
       "      <td>0.001</td>\n",
       "      <td>sgd</td>\n",
       "      <td>20</td>\n",
       "      <td>0.01</td>\n",
       "    </tr>\n",
       "    <tr>\n",
       "      <th>22</th>\n",
       "      <td>10</td>\n",
       "      <td>0.929377</td>\n",
       "      <td>0.001</td>\n",
       "      <td>sgd</td>\n",
       "      <td>20</td>\n",
       "      <td>0.02</td>\n",
       "    </tr>\n",
       "    <tr>\n",
       "      <th>23</th>\n",
       "      <td>16</td>\n",
       "      <td>0.929678</td>\n",
       "      <td>0.001</td>\n",
       "      <td>sgd</td>\n",
       "      <td>20</td>\n",
       "      <td>0.05</td>\n",
       "    </tr>\n",
       "    <tr>\n",
       "      <th>24</th>\n",
       "      <td>12</td>\n",
       "      <td>0.947496</td>\n",
       "      <td>0.001</td>\n",
       "      <td>sgd</td>\n",
       "      <td>10</td>\n",
       "      <td>0.01</td>\n",
       "    </tr>\n",
       "    <tr>\n",
       "      <th>25</th>\n",
       "      <td>9</td>\n",
       "      <td>0.947538</td>\n",
       "      <td>0.001</td>\n",
       "      <td>sgd</td>\n",
       "      <td>10</td>\n",
       "      <td>0.02</td>\n",
       "    </tr>\n",
       "    <tr>\n",
       "      <th>26</th>\n",
       "      <td>15</td>\n",
       "      <td>0.947716</td>\n",
       "      <td>0.001</td>\n",
       "      <td>sgd</td>\n",
       "      <td>10</td>\n",
       "      <td>0.05</td>\n",
       "    </tr>\n",
       "  </tbody>\n",
       "</table>\n",
       "</div>"
      ],
      "text/plain": [
       "    Unnamed: 0      RMSE  learning_rate method  n_epochs   reg\n",
       "0            4  0.895837          0.005    sgd        20  0.01\n",
       "1            1  0.895893          0.005    sgd        20  0.02\n",
       "2            8  0.896002          0.005    sgd        40  0.05\n",
       "3            7  0.896152          0.005    sgd        20  0.05\n",
       "4            2  0.896354          0.005    sgd        40  0.02\n",
       "5            5  0.896522          0.005    sgd        40  0.01\n",
       "6           21  0.897209          0.010    sgd        10  0.01\n",
       "7           18  0.897265          0.010    sgd        10  0.02\n",
       "8           25  0.897342          0.010    sgd        20  0.05\n",
       "9           24  0.897525          0.010    sgd        10  0.05\n",
       "10          19  0.897700          0.010    sgd        20  0.02\n",
       "11          22  0.897870          0.010    sgd        20  0.01\n",
       "12          26  0.899177          0.010    sgd        40  0.05\n",
       "13          20  0.899989          0.010    sgd        40  0.02\n",
       "14          23  0.900329          0.010    sgd        40  0.01\n",
       "15           3  0.904737          0.005    sgd        10  0.01\n",
       "16           0  0.904889          0.005    sgd        10  0.02\n",
       "17           6  0.905404          0.005    sgd        10  0.05\n",
       "18          14  0.909198          0.001    sgd        40  0.01\n",
       "19          11  0.909332          0.001    sgd        40  0.02\n",
       "20          17  0.909791          0.001    sgd        40  0.05\n",
       "21          13  0.929294          0.001    sgd        20  0.01\n",
       "22          10  0.929377          0.001    sgd        20  0.02\n",
       "23          16  0.929678          0.001    sgd        20  0.05\n",
       "24          12  0.947496          0.001    sgd        10  0.01\n",
       "25           9  0.947538          0.001    sgd        10  0.02\n",
       "26          15  0.947716          0.001    sgd        10  0.05"
      ]
     },
     "execution_count": 9,
     "metadata": {},
     "output_type": "execute_result"
    }
   ],
   "source": [
    "sgd_df = pd.read_csv(\"Grid Search Results/baseline_sgd_grid_results.csv\")\n",
    "sgd_df"
   ]
  },
  {
   "cell_type": "markdown",
   "metadata": {},
   "source": [
    "#### Number of Epochs"
   ]
  },
  {
   "cell_type": "code",
   "execution_count": 10,
   "metadata": {},
   "outputs": [
    {
     "data": {
      "text/plain": [
       "<matplotlib.axes._subplots.AxesSubplot at 0x14d3b07d4a8>"
      ]
     },
     "execution_count": 10,
     "metadata": {},
     "output_type": "execute_result"
    },
    {
     "data": {
      "image/png": "[encoded data removed]",
      "text/plain": [
       "<matplotlib.figure.Figure at 0x14d3b297b00>"
      ]
     },
     "metadata": {},
     "output_type": "display_data"
    }
   ],
   "source": [
    "sgd_df.groupby('n_epochs').mean()['RMSE'].plot()"
   ]
  },
  {
   "cell_type": "markdown",
   "metadata": {},
   "source": [
    "The RMSE decreases as the number of epochs increases. This could be an indication of overfitting, as typically the number of epochs suggested is less than 30. \n",
    "\n",
    "#### Regularization Parameter"
   ]
  },
  {
   "cell_type": "code",
   "execution_count": 11,
   "metadata": {},
   "outputs": [
    {
     "data": {
      "text/plain": [
       "<matplotlib.axes._subplots.AxesSubplot at 0x14d44c31908>"
      ]
     },
     "execution_count": 11,
     "metadata": {},
     "output_type": "execute_result"
    },
    {
     "data": {
      "image/png": "[encoded data removed]",
      "text/plain": [
       "<matplotlib.figure.Figure at 0x14d466636a0>"
      ]
     },
     "metadata": {},
     "output_type": "display_data"
    }
   ],
   "source": [
    "sgd_df.groupby('reg').mean()['RMSE'].plot()"
   ]
  },
  {
   "cell_type": "markdown",
   "metadata": {},
   "source": [
    "The RMSE seems to be lowest at a regularization parameter of .02.\n",
    "\n",
    "#### Learning Rate"
   ]
  },
  {
   "cell_type": "code",
   "execution_count": 12,
   "metadata": {},
   "outputs": [
    {
     "data": {
      "text/plain": [
       "<matplotlib.axes._subplots.AxesSubplot at 0x14d46f766d8>"
      ]
     },
     "execution_count": 12,
     "metadata": {},
     "output_type": "execute_result"
    },
    {
     "data": {
      "image/png": "[encoded data removed]",
      "text/plain": [
       "<matplotlib.figure.Figure at 0x14d46b82320>"
      ]
     },
     "metadata": {},
     "output_type": "display_data"
    }
   ],
   "source": [
    "sgd_df.groupby('learning_rate').mean()['RMSE'].plot()"
   ]
  },
  {
   "cell_type": "markdown",
   "metadata": {},
   "source": [
    "##### Alternating Least Squares"
   ]
  },
  {
   "cell_type": "code",
   "execution_count": 13,
   "metadata": {
    "collapsed": true
   },
   "outputs": [],
   "source": [
    "## UNCOMMENT THIS SECTION TO RUN GRIDSEARCH FOR ALS.\n",
    "\n",
    "# #Grid search for baseline - alternating least squares\n",
    "# param_grid = {'bsl_options':{'method': ['als'], 'reg_i':[5,10,20], 'reg_u':[10,15,20], 'n_epochs':[5,10,20]}}\n",
    "# gridsearch = GridSearch(BaselineOnly, param_grid, measures=['RMSE'], verbose=0)\n",
    "# reader = Reader(rating_scale=(1,5))\n",
    "# train = Dataset.load_from_df(train_500_20, reader)\n",
    "# test = Dataset.load_from_df(test_500_20, reader)\n",
    "# train.split(n_folds=3)\n",
    "# gridsearch.evaluate(train)\n",
    "# als_df = convert_grid_results_als(pd.DataFrame.from_dict(gridsearch.cv_results))\n",
    "# als_df.to_csv(\"Grid Search Results/baseline_als_grid_results.csv\")"
   ]
  },
  {
   "cell_type": "markdown",
   "metadata": {},
   "source": [
    "##### ALS GridSearch Hyperparameter Tuning Results"
   ]
  },
  {
   "cell_type": "code",
   "execution_count": 14,
   "metadata": {},
   "outputs": [
    {
     "data": {
      "text/html": [
       "<div>\n",
       "<style>\n",
       "    .dataframe thead tr:only-child th {\n",
       "        text-align: right;\n",
       "    }\n",
       "\n",
       "    .dataframe thead th {\n",
       "        text-align: left;\n",
       "    }\n",
       "\n",
       "    .dataframe tbody tr th {\n",
       "        vertical-align: top;\n",
       "    }\n",
       "</style>\n",
       "<table border=\"1\" class=\"dataframe\">\n",
       "  <thead>\n",
       "    <tr style=\"text-align: right;\">\n",
       "      <th></th>\n",
       "      <th>Unnamed: 0</th>\n",
       "      <th>RMSE</th>\n",
       "      <th>method</th>\n",
       "      <th>n_epochs</th>\n",
       "      <th>reg_i</th>\n",
       "      <th>reg_u</th>\n",
       "    </tr>\n",
       "  </thead>\n",
       "  <tbody>\n",
       "    <tr>\n",
       "      <th>0</th>\n",
       "      <td>6</td>\n",
       "      <td>0.944568</td>\n",
       "      <td>als</td>\n",
       "      <td>5</td>\n",
       "      <td>20</td>\n",
       "      <td>10</td>\n",
       "    </tr>\n",
       "    <tr>\n",
       "      <th>1</th>\n",
       "      <td>15</td>\n",
       "      <td>0.944568</td>\n",
       "      <td>als</td>\n",
       "      <td>10</td>\n",
       "      <td>20</td>\n",
       "      <td>10</td>\n",
       "    </tr>\n",
       "    <tr>\n",
       "      <th>2</th>\n",
       "      <td>24</td>\n",
       "      <td>0.944568</td>\n",
       "      <td>als</td>\n",
       "      <td>20</td>\n",
       "      <td>20</td>\n",
       "      <td>10</td>\n",
       "    </tr>\n",
       "    <tr>\n",
       "      <th>3</th>\n",
       "      <td>3</td>\n",
       "      <td>0.944772</td>\n",
       "      <td>als</td>\n",
       "      <td>5</td>\n",
       "      <td>10</td>\n",
       "      <td>10</td>\n",
       "    </tr>\n",
       "    <tr>\n",
       "      <th>4</th>\n",
       "      <td>12</td>\n",
       "      <td>0.944772</td>\n",
       "      <td>als</td>\n",
       "      <td>10</td>\n",
       "      <td>10</td>\n",
       "      <td>10</td>\n",
       "    </tr>\n",
       "    <tr>\n",
       "      <th>5</th>\n",
       "      <td>21</td>\n",
       "      <td>0.944772</td>\n",
       "      <td>als</td>\n",
       "      <td>20</td>\n",
       "      <td>10</td>\n",
       "      <td>10</td>\n",
       "    </tr>\n",
       "    <tr>\n",
       "      <th>6</th>\n",
       "      <td>0</td>\n",
       "      <td>0.945057</td>\n",
       "      <td>als</td>\n",
       "      <td>5</td>\n",
       "      <td>5</td>\n",
       "      <td>10</td>\n",
       "    </tr>\n",
       "    <tr>\n",
       "      <th>7</th>\n",
       "      <td>9</td>\n",
       "      <td>0.945057</td>\n",
       "      <td>als</td>\n",
       "      <td>10</td>\n",
       "      <td>5</td>\n",
       "      <td>10</td>\n",
       "    </tr>\n",
       "    <tr>\n",
       "      <th>8</th>\n",
       "      <td>18</td>\n",
       "      <td>0.945057</td>\n",
       "      <td>als</td>\n",
       "      <td>20</td>\n",
       "      <td>5</td>\n",
       "      <td>10</td>\n",
       "    </tr>\n",
       "    <tr>\n",
       "      <th>9</th>\n",
       "      <td>7</td>\n",
       "      <td>0.955590</td>\n",
       "      <td>als</td>\n",
       "      <td>5</td>\n",
       "      <td>20</td>\n",
       "      <td>15</td>\n",
       "    </tr>\n",
       "    <tr>\n",
       "      <th>10</th>\n",
       "      <td>16</td>\n",
       "      <td>0.955590</td>\n",
       "      <td>als</td>\n",
       "      <td>10</td>\n",
       "      <td>20</td>\n",
       "      <td>15</td>\n",
       "    </tr>\n",
       "    <tr>\n",
       "      <th>11</th>\n",
       "      <td>25</td>\n",
       "      <td>0.955590</td>\n",
       "      <td>als</td>\n",
       "      <td>20</td>\n",
       "      <td>20</td>\n",
       "      <td>15</td>\n",
       "    </tr>\n",
       "    <tr>\n",
       "      <th>12</th>\n",
       "      <td>4</td>\n",
       "      <td>0.955807</td>\n",
       "      <td>als</td>\n",
       "      <td>5</td>\n",
       "      <td>10</td>\n",
       "      <td>15</td>\n",
       "    </tr>\n",
       "    <tr>\n",
       "      <th>13</th>\n",
       "      <td>13</td>\n",
       "      <td>0.955807</td>\n",
       "      <td>als</td>\n",
       "      <td>10</td>\n",
       "      <td>10</td>\n",
       "      <td>15</td>\n",
       "    </tr>\n",
       "    <tr>\n",
       "      <th>14</th>\n",
       "      <td>22</td>\n",
       "      <td>0.955807</td>\n",
       "      <td>als</td>\n",
       "      <td>20</td>\n",
       "      <td>10</td>\n",
       "      <td>15</td>\n",
       "    </tr>\n",
       "    <tr>\n",
       "      <th>15</th>\n",
       "      <td>1</td>\n",
       "      <td>0.956093</td>\n",
       "      <td>als</td>\n",
       "      <td>5</td>\n",
       "      <td>5</td>\n",
       "      <td>15</td>\n",
       "    </tr>\n",
       "    <tr>\n",
       "      <th>16</th>\n",
       "      <td>10</td>\n",
       "      <td>0.956093</td>\n",
       "      <td>als</td>\n",
       "      <td>10</td>\n",
       "      <td>5</td>\n",
       "      <td>15</td>\n",
       "    </tr>\n",
       "    <tr>\n",
       "      <th>17</th>\n",
       "      <td>19</td>\n",
       "      <td>0.956093</td>\n",
       "      <td>als</td>\n",
       "      <td>20</td>\n",
       "      <td>5</td>\n",
       "      <td>15</td>\n",
       "    </tr>\n",
       "    <tr>\n",
       "      <th>18</th>\n",
       "      <td>8</td>\n",
       "      <td>0.963474</td>\n",
       "      <td>als</td>\n",
       "      <td>5</td>\n",
       "      <td>20</td>\n",
       "      <td>20</td>\n",
       "    </tr>\n",
       "    <tr>\n",
       "      <th>19</th>\n",
       "      <td>17</td>\n",
       "      <td>0.963474</td>\n",
       "      <td>als</td>\n",
       "      <td>10</td>\n",
       "      <td>20</td>\n",
       "      <td>20</td>\n",
       "    </tr>\n",
       "    <tr>\n",
       "      <th>20</th>\n",
       "      <td>26</td>\n",
       "      <td>0.963474</td>\n",
       "      <td>als</td>\n",
       "      <td>20</td>\n",
       "      <td>20</td>\n",
       "      <td>20</td>\n",
       "    </tr>\n",
       "    <tr>\n",
       "      <th>21</th>\n",
       "      <td>5</td>\n",
       "      <td>0.963697</td>\n",
       "      <td>als</td>\n",
       "      <td>5</td>\n",
       "      <td>10</td>\n",
       "      <td>20</td>\n",
       "    </tr>\n",
       "    <tr>\n",
       "      <th>22</th>\n",
       "      <td>14</td>\n",
       "      <td>0.963697</td>\n",
       "      <td>als</td>\n",
       "      <td>10</td>\n",
       "      <td>10</td>\n",
       "      <td>20</td>\n",
       "    </tr>\n",
       "    <tr>\n",
       "      <th>23</th>\n",
       "      <td>23</td>\n",
       "      <td>0.963697</td>\n",
       "      <td>als</td>\n",
       "      <td>20</td>\n",
       "      <td>10</td>\n",
       "      <td>20</td>\n",
       "    </tr>\n",
       "    <tr>\n",
       "      <th>24</th>\n",
       "      <td>2</td>\n",
       "      <td>0.963983</td>\n",
       "      <td>als</td>\n",
       "      <td>5</td>\n",
       "      <td>5</td>\n",
       "      <td>20</td>\n",
       "    </tr>\n",
       "    <tr>\n",
       "      <th>25</th>\n",
       "      <td>11</td>\n",
       "      <td>0.963983</td>\n",
       "      <td>als</td>\n",
       "      <td>10</td>\n",
       "      <td>5</td>\n",
       "      <td>20</td>\n",
       "    </tr>\n",
       "    <tr>\n",
       "      <th>26</th>\n",
       "      <td>20</td>\n",
       "      <td>0.963983</td>\n",
       "      <td>als</td>\n",
       "      <td>20</td>\n",
       "      <td>5</td>\n",
       "      <td>20</td>\n",
       "    </tr>\n",
       "  </tbody>\n",
       "</table>\n",
       "</div>"
      ],
      "text/plain": [
       "    Unnamed: 0      RMSE method  n_epochs  reg_i  reg_u\n",
       "0            6  0.944568    als         5     20     10\n",
       "1           15  0.944568    als        10     20     10\n",
       "2           24  0.944568    als        20     20     10\n",
       "3            3  0.944772    als         5     10     10\n",
       "4           12  0.944772    als        10     10     10\n",
       "5           21  0.944772    als        20     10     10\n",
       "6            0  0.945057    als         5      5     10\n",
       "7            9  0.945057    als        10      5     10\n",
       "8           18  0.945057    als        20      5     10\n",
       "9            7  0.955590    als         5     20     15\n",
       "10          16  0.955590    als        10     20     15\n",
       "11          25  0.955590    als        20     20     15\n",
       "12           4  0.955807    als         5     10     15\n",
       "13          13  0.955807    als        10     10     15\n",
       "14          22  0.955807    als        20     10     15\n",
       "15           1  0.956093    als         5      5     15\n",
       "16          10  0.956093    als        10      5     15\n",
       "17          19  0.956093    als        20      5     15\n",
       "18           8  0.963474    als         5     20     20\n",
       "19          17  0.963474    als        10     20     20\n",
       "20          26  0.963474    als        20     20     20\n",
       "21           5  0.963697    als         5     10     20\n",
       "22          14  0.963697    als        10     10     20\n",
       "23          23  0.963697    als        20     10     20\n",
       "24           2  0.963983    als         5      5     20\n",
       "25          11  0.963983    als        10      5     20\n",
       "26          20  0.963983    als        20      5     20"
      ]
     },
     "execution_count": 14,
     "metadata": {},
     "output_type": "execute_result"
    }
   ],
   "source": [
    "als_df = pd.read_csv(\"Grid Search Results/baseline_als_grid_results.csv\")\n",
    "als_df"
   ]
  },
  {
   "cell_type": "markdown",
   "metadata": {},
   "source": [
    "#### Number of Epochs"
   ]
  },
  {
   "cell_type": "code",
   "execution_count": 15,
   "metadata": {},
   "outputs": [
    {
     "data": {
      "text/plain": [
       "<matplotlib.axes._subplots.AxesSubplot at 0x14d46fad3c8>"
      ]
     },
     "execution_count": 15,
     "metadata": {},
     "output_type": "execute_result"
    },
    {
     "data": {
      "image/png": "[encoded data removed]",
      "text/plain": [
       "<matplotlib.figure.Figure at 0x14d470c3ef0>"
      ]
     },
     "metadata": {},
     "output_type": "display_data"
    }
   ],
   "source": [
    "als_df.groupby('n_epochs').mean()['RMSE'].plot()"
   ]
  },
  {
   "cell_type": "markdown",
   "metadata": {},
   "source": [
    "The RMSE seems to stop decreasing after 10 epochs.\n",
    "\n",
    "#### Regularization Parameter for Items\n",
    "The ideal parameter to minimize RMSE is around 10."
   ]
  },
  {
   "cell_type": "code",
   "execution_count": 16,
   "metadata": {},
   "outputs": [
    {
     "data": {
      "text/plain": [
       "<matplotlib.axes._subplots.AxesSubplot at 0x14d4788a860>"
      ]
     },
     "execution_count": 16,
     "metadata": {},
     "output_type": "execute_result"
    },
    {
     "data": {
      "image/png": "[encoded data removed]",
      "text/plain": [
       "<matplotlib.figure.Figure at 0x14d47d3a080>"
      ]
     },
     "metadata": {},
     "output_type": "display_data"
    }
   ],
   "source": [
    "als_df.groupby('reg_i').mean()['RMSE'].plot()"
   ]
  },
  {
   "cell_type": "markdown",
   "metadata": {},
   "source": [
    "#### Regularization Parameter for Users\n",
    "A smaller reg_u seems to lead to better results"
   ]
  },
  {
   "cell_type": "code",
   "execution_count": 17,
   "metadata": {},
   "outputs": [
    {
     "data": {
      "text/plain": [
       "<matplotlib.axes._subplots.AxesSubplot at 0x14d47d6b668>"
      ]
     },
     "execution_count": 17,
     "metadata": {},
     "output_type": "execute_result"
    },
    {
     "data": {
      "image/png": "[encoded data removed]",
      "text/plain": [
       "<matplotlib.figure.Figure at 0x14d438bae48>"
      ]
     },
     "metadata": {},
     "output_type": "display_data"
    }
   ],
   "source": [
    "als_df.groupby('reg_u').mean()['RMSE'].plot()"
   ]
  },
  {
   "cell_type": "markdown",
   "metadata": {},
   "source": [
    "### Choosing a Baseline Model\n",
    "Using Standard Gradient Descent to estimate the bias parameters for each user and item outperforms ALS by looking at RMSE by about .05 (there is some variance in outperformance depending on the run). We therefore chose the baseline model with SGD with the following parameters \n",
    "* learning rate: .005\n",
    "* regularization parameter $\\lambda$: .01\n",
    "* number of epochs: 20\n",
    "\n",
    "The above model will be used to compare against our proposed neighborhood-based and model-based models. It will also be evaluated on how it scales in terms of runtime and accuracy."
   ]
  },
  {
   "cell_type": "code",
   "execution_count": 18,
   "metadata": {},
   "outputs": [
    {
     "data": {
      "text/plain": [
       "<matplotlib.text.Text at 0x14d43618cc0>"
      ]
     },
     "execution_count": 18,
     "metadata": {},
     "output_type": "execute_result"
    },
    {
     "data": {
      "image/png": "[encoded data removed]",
      "text/plain": [
       "<matplotlib.figure.Figure at 0x14d47670438>"
      ]
     },
     "metadata": {},
     "output_type": "display_data"
    }
   ],
   "source": [
    "full_df = als_df.append(sgd_df)\n",
    "full_df['run'] = full_df.index\n",
    "grouped_df = full_df.groupby('method')\n",
    "fig, ax = plt.subplots(1, 1, figsize=(10, 5), sharey=True)\n",
    "grouped_df.plot('run', 'RMSE', ax=ax)\n",
    "ax.legend(['ALS','SGD'])\n",
    "ax.set_ylabel('RMSE')\n",
    "ax.set_title('Baseline RMSE with ALS vs. SGD')"
   ]
  },
  {
   "cell_type": "markdown",
   "metadata": {},
   "source": [
    "### Scaling & Accuracy\n",
    "In order to better understand how the algorithm scales with more ratings in terms of runtime and accuracy, we ran the best performing evaluation algorithm (SGD) on six different subsets of data, starting from the most prolific users and most reviewed books, and growing that set in size. "
   ]
  },
  {
   "cell_type": "code",
   "execution_count": 19,
   "metadata": {
    "collapsed": true
   },
   "outputs": [],
   "source": [
    "#Function to run the Baseline evaluation using standard gradient descent on all data subsets for scaling\n",
    "def runBaselineSGD(dataframe):\n",
    "    n_ratings = len(dataframe)\n",
    "    num_users = len(dataframe.user_id.unique())\n",
    "    num_books = len(dataframe.book_id.unique())\n",
    "    print(\"\\nEvaluating for {} users and {} books; number of ratings: {}\".format(num_users, num_books, n_ratings))\n",
    "    \n",
    "    #set up reader and get data from dataframe\n",
    "    reader = Reader(rating_scale=(1, 5))\n",
    "    data = Dataset.load_from_df(dataframe[['user_id', 'book_id', 'rating']], reader)\n",
    "\n",
    "    #Split data into training set, testing set, and the anti-test set (all the items neither in test nor train)\n",
    "    trainset = data.build_full_trainset()\n",
    "    testset = trainset.build_testset()\n",
    "    antitestset = trainset.build_anti_testset()\n",
    "\n",
    "    #Set up algorithm\n",
    "    bsl_options = {'method': 'sgd', 'learning_rate':.005, 'n_epochs':20, 'reg':.01}\n",
    "    algo = BaselineOnly(bsl_options = bsl_options)\n",
    "    \n",
    "    #Capture start time\n",
    "    start_time = time.time()\n",
    "\n",
    "    #Train algorithm\n",
    "    algo.train(trainset)\n",
    "    \n",
    "    train_time = time.time() - start_time\n",
    "    \n",
    "    #Print training algorithm time\n",
    "    print(\"---Training: %s seconds ---\" % (train_time))\n",
    "\n",
    "    #Capture start time - test\n",
    "    start_time = time.time()\n",
    "    \n",
    "    #Get predictions\n",
    "    predictions = algo.test(testset)\n",
    "    \n",
    "    test_time = time.time() - start_time\n",
    "    \n",
    "    #Print training algorithm time\n",
    "    print(\"---Testing: %s seconds ---\" % (test_time))\n",
    "\n",
    "    #Evaluate accuracy measures\n",
    "    rmse = accuracy.rmse(predictions, verbose=True)\n",
    "    mae = accuracy.mae(predictions, verbose=True)\n",
    "    accuracy.fcp(predictions, verbose=True)\n",
    "    spman = spearman(predictions)\n",
    "    print(\"SPEARMAN:  {}\".format(spman))\n",
    "    \n",
    "    true_predictions = algo.test(antitestset)\n",
    "    top_n = get_top_n(true_predictions, n=10)\n",
    "    \n",
    "    print(\"COVERAGE: {}\".format(calc_item_coverage(top_n, num_books)))\n",
    "    \n",
    "    \n",
    "    return [n_ratings, rmse, mae, spman, test_time, train_time]"
   ]
  },
  {
   "cell_type": "code",
   "execution_count": 20,
   "metadata": {},
   "outputs": [
    {
     "name": "stdout",
     "output_type": "stream",
     "text": [
      "\n",
      "Evaluating for 487 users and 20 books; number of ratings: 4311\n",
      "Estimating biases using sgd...\n",
      "---Training: 0.0 seconds ---\n",
      "---Testing: 0.031920671463012695 seconds ---\n",
      "RMSE: 0.8418\n",
      "MAE:  0.6653\n",
      "FCP:  0.6223\n"
     ]
    },
    {
     "name": "stderr",
     "output_type": "stream",
     "text": [
      "C:\\Users\\lohmu\\Anaconda3\\lib\\site-packages\\numpy\\lib\\function_base.py:3162: RuntimeWarning: invalid value encountered in true_divide\n",
      "  c /= stddev[:, None]\n",
      "C:\\Users\\lohmu\\Anaconda3\\lib\\site-packages\\numpy\\lib\\function_base.py:3163: RuntimeWarning: invalid value encountered in true_divide\n",
      "  c /= stddev[None, :]\n",
      "C:\\Users\\lohmu\\Anaconda3\\lib\\site-packages\\scipy\\stats\\_distn_infrastructure.py:879: RuntimeWarning: invalid value encountered in greater\n",
      "  return (self.a < x) & (x < self.b)\n",
      "C:\\Users\\lohmu\\Anaconda3\\lib\\site-packages\\scipy\\stats\\_distn_infrastructure.py:879: RuntimeWarning: invalid value encountered in less\n",
      "  return (self.a < x) & (x < self.b)\n",
      "C:\\Users\\lohmu\\Anaconda3\\lib\\site-packages\\scipy\\stats\\_distn_infrastructure.py:1818: RuntimeWarning: invalid value encountered in less_equal\n",
      "  cond2 = cond0 & (x <= self.a)\n"
     ]
    },
    {
     "name": "stdout",
     "output_type": "stream",
     "text": [
      "SPEARMAN:  0.26246319425252296\n",
      "COVERAGE: 1.0\n",
      "\n",
      "Evaluating for 985 users and 35 books; number of ratings: 13932\n",
      "Estimating biases using sgd...\n",
      "---Training: 0.028217554092407227 seconds ---\n",
      "---Testing: 0.0812530517578125 seconds ---\n",
      "RMSE: 0.8421\n",
      "MAE:  0.6590\n",
      "FCP:  0.6415\n",
      "SPEARMAN:  0.2909718275843386\n",
      "COVERAGE: 1.0\n",
      "\n",
      "Evaluating for 1981 users and 50 books; number of ratings: 37100\n",
      "Estimating biases using sgd...\n",
      "---Training: 0.19455242156982422 seconds ---\n",
      "---Testing: 0.18405365943908691 seconds ---\n",
      "RMSE: 0.8432\n",
      "MAE:  0.6586\n",
      "FCP:  0.6421\n",
      "SPEARMAN:  0.2833207893730011\n",
      "COVERAGE: 1.0\n",
      "\n",
      "Evaluating for 4980 users and 70 books; number of ratings: 112959\n",
      "Estimating biases using sgd...\n",
      "---Training: 0.7223689556121826 seconds ---\n",
      "---Testing: 0.7411463260650635 seconds ---\n",
      "RMSE: 0.8463\n",
      "MAE:  0.6607\n",
      "FCP:  0.6425\n",
      "SPEARMAN:  0.28544749851890855\n",
      "COVERAGE: 0.8285714285714286\n",
      "\n",
      "Evaluating for 7479 users and 85 books; number of ratings: 187770\n",
      "Estimating biases using sgd...\n",
      "---Training: 1.2289199829101562 seconds ---\n",
      "---Testing: 1.1204593181610107 seconds ---\n",
      "RMSE: 0.8570\n",
      "MAE:  0.6719\n",
      "FCP:  0.6475\n",
      "SPEARMAN:  0.29062668466756547\n",
      "COVERAGE: 0.6352941176470588\n",
      "\n",
      "Evaluating for 9980 users and 100 books; number of ratings: 271422\n",
      "Estimating biases using sgd...\n",
      "---Training: 1.7817223072052002 seconds ---\n",
      "---Testing: 1.8355960845947266 seconds ---\n",
      "RMSE: 0.8582\n",
      "MAE:  0.6711\n",
      "FCP:  0.6517\n",
      "SPEARMAN:  0.29717301706476096\n",
      "COVERAGE: 0.54\n"
     ]
    }
   ],
   "source": [
    "#Combine train and test sets\n",
    "all_10000_100 = train_10000_100.append(test_10000_100)\n",
    "all_500_20 = train_500_20.append(test_500_20)\n",
    "all_2000_50 = train_2000_50.append(test_2000_50)\n",
    "\n",
    "running_tuples=[(all_500_20,500,20),(all_1000_35,1000,35),(all_2000_50,2000,50),(all_5000_70,5000,70),(all_7500_85,7500,85),(all_10000_100,10000,100)]\n",
    "\n",
    "#Run SGD baseline on all subsets\n",
    "results_df = [[]]\n",
    "for i in running_tuples:\n",
    "    results_vector = runBaselineSGD(i[0])\n",
    "    results_df.append(results_vector)"
   ]
  },
  {
   "cell_type": "code",
   "execution_count": 21,
   "metadata": {
    "collapsed": true
   },
   "outputs": [],
   "source": [
    "results_df = pd.DataFrame(results_df[1:][:], columns=['n_ratings','rmse','mae','spearman','test_time','train_time'])"
   ]
  },
  {
   "cell_type": "markdown",
   "metadata": {},
   "source": [
    "### Scaling Results\n",
    "The below table shows the results of accuracy and runtime as a function of the number of ratings that were trained and evaluated on. "
   ]
  },
  {
   "cell_type": "code",
   "execution_count": 22,
   "metadata": {},
   "outputs": [
    {
     "data": {
      "text/html": [
       "<div>\n",
       "<style>\n",
       "    .dataframe thead tr:only-child th {\n",
       "        text-align: right;\n",
       "    }\n",
       "\n",
       "    .dataframe thead th {\n",
       "        text-align: left;\n",
       "    }\n",
       "\n",
       "    .dataframe tbody tr th {\n",
       "        vertical-align: top;\n",
       "    }\n",
       "</style>\n",
       "<table border=\"1\" class=\"dataframe\">\n",
       "  <thead>\n",
       "    <tr style=\"text-align: right;\">\n",
       "      <th></th>\n",
       "      <th>n_ratings</th>\n",
       "      <th>rmse</th>\n",
       "      <th>mae</th>\n",
       "      <th>spearman</th>\n",
       "      <th>test_time</th>\n",
       "      <th>train_time</th>\n",
       "    </tr>\n",
       "  </thead>\n",
       "  <tbody>\n",
       "    <tr>\n",
       "      <th>0</th>\n",
       "      <td>4311</td>\n",
       "      <td>0.841757</td>\n",
       "      <td>0.665276</td>\n",
       "      <td>0.262463</td>\n",
       "      <td>0.031921</td>\n",
       "      <td>0.000000</td>\n",
       "    </tr>\n",
       "    <tr>\n",
       "      <th>1</th>\n",
       "      <td>13932</td>\n",
       "      <td>0.842125</td>\n",
       "      <td>0.658996</td>\n",
       "      <td>0.290972</td>\n",
       "      <td>0.081253</td>\n",
       "      <td>0.028218</td>\n",
       "    </tr>\n",
       "    <tr>\n",
       "      <th>2</th>\n",
       "      <td>37100</td>\n",
       "      <td>0.843171</td>\n",
       "      <td>0.658559</td>\n",
       "      <td>0.283321</td>\n",
       "      <td>0.184054</td>\n",
       "      <td>0.194552</td>\n",
       "    </tr>\n",
       "    <tr>\n",
       "      <th>3</th>\n",
       "      <td>112959</td>\n",
       "      <td>0.846305</td>\n",
       "      <td>0.660739</td>\n",
       "      <td>0.285447</td>\n",
       "      <td>0.741146</td>\n",
       "      <td>0.722369</td>\n",
       "    </tr>\n",
       "    <tr>\n",
       "      <th>4</th>\n",
       "      <td>187770</td>\n",
       "      <td>0.856970</td>\n",
       "      <td>0.671885</td>\n",
       "      <td>0.290627</td>\n",
       "      <td>1.120459</td>\n",
       "      <td>1.228920</td>\n",
       "    </tr>\n",
       "    <tr>\n",
       "      <th>5</th>\n",
       "      <td>271422</td>\n",
       "      <td>0.858159</td>\n",
       "      <td>0.671075</td>\n",
       "      <td>0.297173</td>\n",
       "      <td>1.835596</td>\n",
       "      <td>1.781722</td>\n",
       "    </tr>\n",
       "  </tbody>\n",
       "</table>\n",
       "</div>"
      ],
      "text/plain": [
       "   n_ratings      rmse       mae  spearman  test_time  train_time\n",
       "0       4311  0.841757  0.665276  0.262463   0.031921    0.000000\n",
       "1      13932  0.842125  0.658996  0.290972   0.081253    0.028218\n",
       "2      37100  0.843171  0.658559  0.283321   0.184054    0.194552\n",
       "3     112959  0.846305  0.660739  0.285447   0.741146    0.722369\n",
       "4     187770  0.856970  0.671885  0.290627   1.120459    1.228920\n",
       "5     271422  0.858159  0.671075  0.297173   1.835596    1.781722"
      ]
     },
     "execution_count": 22,
     "metadata": {},
     "output_type": "execute_result"
    }
   ],
   "source": [
    "results_df"
   ]
  },
  {
   "cell_type": "markdown",
   "metadata": {},
   "source": [
    "### Graphing Results\n",
    "\n",
    "**RMSE**\n",
    "\n",
    "The RMSE graph shows how the root mean squared error increases as the number of ratings in the dataset increases. Intuitively, this makes sense. As the data is getting more sparse, there is less information to accurately calculate the biases of each user and item."
   ]
  },
  {
   "cell_type": "code",
   "execution_count": 23,
   "metadata": {},
   "outputs": [
    {
     "data": {
      "text/plain": [
       "<matplotlib.axes._subplots.AxesSubplot at 0x14d43f2c860>"
      ]
     },
     "execution_count": 23,
     "metadata": {},
     "output_type": "execute_result"
    },
    {
     "data": {
      "image/png": "[encoded data removed]",
      "text/plain": [
       "<matplotlib.figure.Figure at 0x14d43f3f6a0>"
      ]
     },
     "metadata": {},
     "output_type": "display_data"
    }
   ],
   "source": [
    "results_df[['n_ratings','rmse']].plot(x='n_ratings',y='rmse')"
   ]
  },
  {
   "cell_type": "markdown",
   "metadata": {},
   "source": [
    "**MAE**\n",
    "\n",
    "The Mean Absolute Error is interesting as it first decreases and then increases again with the number of ratings. Since MAE doesn't penalize large errors as much as RMSE, it could be that there are less errors in those datasets between 25000 and 75000 ratings, but that those errors are of larger magnitude."
   ]
  },
  {
   "cell_type": "code",
   "execution_count": 24,
   "metadata": {},
   "outputs": [
    {
     "data": {
      "text/plain": [
       "<matplotlib.axes._subplots.AxesSubplot at 0x14d47d3a5c0>"
      ]
     },
     "execution_count": 24,
     "metadata": {},
     "output_type": "execute_result"
    },
    {
     "data": {
      "image/png": "[encoded data removed]",
      "text/plain": [
       "<matplotlib.figure.Figure at 0x14d4381a128>"
      ]
     },
     "metadata": {},
     "output_type": "display_data"
    }
   ],
   "source": [
    "results_df[['n_ratings','mae']].plot(x='n_ratings',y='mae')"
   ]
  },
  {
   "cell_type": "markdown",
   "metadata": {},
   "source": [
    "** Spearman Rank Correlation Coefficient **\n",
    "\n",
    "The Spearman Coefficient mostly seems to increase with an increasing number of ratings (with one exception). This is actually a positive result for us, meaning that the algorithm is getting more accurate in ordering the suggested books for users. Even if the magnitude of the rating is becoming more errorenous, the relative order seems to be improving. "
   ]
  },
  {
   "cell_type": "code",
   "execution_count": 25,
   "metadata": {},
   "outputs": [
    {
     "data": {
      "text/plain": [
       "<matplotlib.axes._subplots.AxesSubplot at 0x14d4924d6a0>"
      ]
     },
     "execution_count": 25,
     "metadata": {},
     "output_type": "execute_result"
    },
    {
     "data": {
      "image/png": "[encoded data removed]",
      "text/plain": [
       "<matplotlib.figure.Figure at 0x14d472367f0>"
      ]
     },
     "metadata": {},
     "output_type": "display_data"
    }
   ],
   "source": [
    "results_df[['n_ratings','spearman']].plot(x='n_ratings',y='spearman')"
   ]
  },
  {
   "cell_type": "markdown",
   "metadata": {},
   "source": [
    "** Training and Testing Runtime **\n",
    "\n",
    "The time it takes to test and train the datasets seems to have a linear relationship with the number of ratings. This is an encouraging result which means that we can easily extrapolate how long it would take to run the baseline algorithm for the full dataset. "
   ]
  },
  {
   "cell_type": "code",
   "execution_count": 26,
   "metadata": {},
   "outputs": [
    {
     "data": {
      "text/plain": [
       "<matplotlib.axes._subplots.AxesSubplot at 0x14d4de2be80>"
      ]
     },
     "execution_count": 26,
     "metadata": {},
     "output_type": "execute_result"
    },
    {
     "data": {
      "image/png": "[encoded data removed]",
      "text/plain": [
       "<matplotlib.figure.Figure at 0x14d4de3d748>"
      ]
     },
     "metadata": {},
     "output_type": "display_data"
    }
   ],
   "source": [
    "results_df[['n_ratings','test_time', 'train_time']].plot(x='n_ratings',y=['test_time','train_time'])"
   ]
  },
  {
   "cell_type": "markdown",
   "metadata": {},
   "source": [
    "We can use the statsmodel class to calculate the intercept and coefficient for this linear relationship. We an estimate of the following:\n",
    "$Time = .000007(NumRatings) - .021993$"
   ]
  },
  {
   "cell_type": "code",
   "execution_count": 27,
   "metadata": {},
   "outputs": [
    {
     "name": "stdout",
     "output_type": "stream",
     "text": [
      "Intercept   -0.047921\n",
      "n_ratings    0.000007\n",
      "dtype: float64\n"
     ]
    }
   ],
   "source": [
    "import statsmodels.formula.api as sm\n",
    "\n",
    "result = sm.ols(formula=\"train_time ~ n_ratings\", data=results_df).fit()\n",
    "print(result.params)"
   ]
  },
  {
   "cell_type": "code",
   "execution_count": 28,
   "metadata": {},
   "outputs": [
    {
     "data": {
      "text/plain": [
       "41.813359999999996"
      ]
     },
     "execution_count": 28,
     "metadata": {},
     "output_type": "execute_result"
    }
   ],
   "source": [
    "(5976479)*.000007-0.021993"
   ]
  },
  {
   "cell_type": "markdown",
   "metadata": {},
   "source": [
    "We can thus estimate that the whole dataset with 5,976,479 ratings would take about 41 to 42 seconds to train. If this were a feasible and accurate offline-calculated model, this scalability would be promising. However, the speed of the algorithm does not make up for the accuracy."
   ]
  },
  {
   "cell_type": "markdown",
   "metadata": {},
   "source": [
    "### Coverage\n",
    "What percentage of books out of the total set of books does this algorithm suggest to at least one user? We used the 10K user, 100 item subset to calculate the item coverage for top-k ratings for k=5, 10, 15 and 20. "
   ]
  },
  {
   "cell_type": "code",
   "execution_count": 29,
   "metadata": {},
   "outputs": [
    {
     "name": "stdout",
     "output_type": "stream",
     "text": [
      "Estimating biases using sgd...\n",
      "COVERAGE FOR TOP 5: 0.47\n",
      "COVERAGE FOR TOP 10: 0.54\n",
      "COVERAGE FOR TOP 15: 0.71\n",
      "COVERAGE FOR TOP 20: 0.9\n"
     ]
    }
   ],
   "source": [
    "#Get coverage for different values of n on the largest subset\n",
    "\n",
    "n_ratings = len(all_10000_100)\n",
    "num_users = len(all_10000_100.user_id.unique())\n",
    "num_books = len(all_10000_100.book_id.unique())\n",
    "    \n",
    "#set up reader and get data from dataframe\n",
    "reader = Reader(rating_scale=(1, 5))\n",
    "data = Dataset.load_from_df(all_10000_100[['user_id', 'book_id', 'rating']], reader)\n",
    "\n",
    "#Split data into training set, testing set, and the anti-test set (all the items neither in test nor train)\n",
    "trainset = data.build_full_trainset()\n",
    "antitestset = trainset.build_anti_testset()\n",
    "\n",
    "#Set up algorithm\n",
    "bsl_options = {'method': 'sgd', 'learning_rate':.005, 'n_epochs':20, 'reg':.01}\n",
    "algo = BaselineOnly(bsl_options = bsl_options)\n",
    "\n",
    "#Train algorithm\n",
    "algo.train(trainset)\n",
    "\n",
    "#Estimate unknown ratings\n",
    "true_predictions = algo.test(antitestset)\n",
    "\n",
    "#Get top n recommendations\n",
    "ns=[5,10,15,20]\n",
    "\n",
    "for n in ns:\n",
    "    top_n = get_top_n(true_predictions, n)\n",
    "    print(\"COVERAGE FOR TOP {}: {}\".format(n,calc_item_coverage(top_n, num_books)))"
   ]
  },
  {
   "cell_type": "markdown",
   "metadata": {},
   "source": [
    "As expected, the coverage increased as the number of items recommended for each user increased. However, this value never reaches 1 meaning that there will be items which are not recommended to anyone. This is indicative that this algorithm may not provide great diversity or serendipity for our users."
   ]
  }
 ],
 "metadata": {
  "kernelspec": {
   "display_name": "Python [conda root]",
   "language": "python",
   "name": "conda-root-py"
  },
  "language_info": {
   "codemirror_mode": {
    "name": "ipython",
    "version": 3
   },
   "file_extension": ".py",
   "mimetype": "text/x-python",
   "name": "python",
   "nbconvert_exporter": "python",
   "pygments_lexer": "ipython3",
   "version": "3.5.3"
  }
 },
 "nbformat": 4,
 "nbformat_minor": 2
}
