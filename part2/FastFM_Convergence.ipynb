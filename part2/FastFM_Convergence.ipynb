{
 "cells": [
  {
   "cell_type": "code",
   "execution_count": 1,
   "metadata": {
    "collapsed": false
   },
   "outputs": [
    {
     "name": "stderr",
     "output_type": "stream",
     "text": [
      "/Users/adamcoviensky/anaconda/lib/python2.7/site-packages/sklearn/cross_validation.py:44: DeprecationWarning: This module was deprecated in version 0.18 in favor of the model_selection module into which all the refactored classes and functions are moved. Also note that the interface of the new CV iterators are different from that of this module. This module will be removed in 0.20.\n",
      "  \"This module will be removed in 0.20.\", DeprecationWarning)\n"
     ]
    }
   ],
   "source": [
    "import numpy as np\n",
    "import pandas as pd\n",
    "import matplotlib.pyplot as plt\n",
    "%matplotlib inline\n",
    "from sklearn.cross_validation import train_test_split\n",
    "from sklearn.model_selection import GridSearchCV\n",
    "import scipy\n",
    "from fastFM import sgd\n",
    "from fastFM import als\n",
    "from fastFM import mcmc\n",
    "from sklearn.model_selection import KFold\n",
    "from sklearn.metrics import mean_squared_error\n",
    "import time"
   ]
  },
  {
   "cell_type": "markdown",
   "metadata": {
    "collapsed": true
   },
   "source": [
    "### Importing Genres"
   ]
  },
  {
   "cell_type": "code",
   "execution_count": 2,
   "metadata": {
    "collapsed": true
   },
   "outputs": [],
   "source": [
    "#Matrix with just users, books and genres for ratings\n",
    "sparse_matrix = scipy.sparse.load_npz('ratings_genres.npz')"
   ]
  },
  {
   "cell_type": "code",
   "execution_count": 14,
   "metadata": {
    "collapsed": true
   },
   "outputs": [],
   "source": [
    "#loading in our actual rating values for each row in ratings matrix\n",
    "y = np.loadtxt('y.csv')"
   ]
  },
  {
   "cell_type": "code",
   "execution_count": 15,
   "metadata": {
    "collapsed": false
   },
   "outputs": [],
   "source": [
    "X_train_sparse, X_test_sparse, y_train, y_test = train_test_split(sparse_matrix, y, random_state = 42, test_size=0.2)"
   ]
  },
  {
   "cell_type": "code",
   "execution_count": 12,
   "metadata": {
    "collapsed": false
   },
   "outputs": [],
   "source": [
    "def calc_RMSE(y_pred, y_test):\n",
    "    square_error = np.square(y_pred - y_test)\n",
    "    return np.sqrt(np.sum(square_error)/len(y_pred))"
   ]
  },
  {
   "cell_type": "markdown",
   "metadata": {},
   "source": [
    "### ALS warmstart"
   ]
  },
  {
   "cell_type": "code",
   "execution_count": 16,
   "metadata": {
    "collapsed": false
   },
   "outputs": [
    {
     "name": "stdout",
     "output_type": "stream",
     "text": [
      "1\n",
      "2\n",
      "3\n",
      "4\n",
      "5\n",
      "6\n",
      "7\n",
      "8\n",
      "9\n",
      "10\n",
      "11\n",
      "12\n",
      "13\n",
      "14\n",
      "15\n",
      "16\n",
      "17\n",
      "18\n",
      "19\n",
      "20\n",
      "21\n",
      "22\n",
      "23\n",
      "24\n",
      "25\n",
      "26\n",
      "27\n",
      "28\n",
      "29\n",
      "30\n",
      "31\n",
      "32\n",
      "33\n",
      "34\n",
      "35\n",
      "36\n",
      "37\n",
      "38\n",
      "39\n"
     ]
    },
    {
     "data": {
      "image/png": "[encoded data removed]",
      "text/plain": [
       "<matplotlib.figure.Figure at 0x103aaffd0>"
      ]
     },
     "metadata": {},
     "output_type": "display_data"
    }
   ],
   "source": [
    "n_iter = 40\n",
    "rank = 17\n",
    "seed = 42\n",
    "step_size = 1\n",
    "l2_reg_w = 0.1\n",
    "l2_reg_V = 0.1\n",
    "std=0.1\n",
    "l2reg=0.1\n",
    "fm = als.FMRegression(n_iter=0, l2_reg_w=l2_reg_w,\n",
    "        l2_reg_V=l2_reg_V, rank=rank, random_state=seed, init_stdev=std, l2_reg=l2reg)\n",
    "# initalize coefs\n",
    "fm.fit(X_train_sparse, y_train)\n",
    "\n",
    "rmse_train = []\n",
    "rmse_test = []\n",
    "for i in range(1, n_iter):\n",
    "    print(i)\n",
    "    fm.fit(X_train_sparse, y_train, n_more_iter=step_size)\n",
    "    y_pred = fm.predict(X_test_sparse)\n",
    "    rmse_train.append(np.sqrt(mean_squared_error(fm.predict(X_train_sparse), y_train)))\n",
    "    rmse_test.append(np.sqrt(mean_squared_error(fm.predict(X_test_sparse), y_test)))\n",
    "\n",
    "# print '------- restart ----------'\n",
    "# values = np.arange(1, n_iter)\n",
    "# rmse_test_re = []\n",
    "# rmse_train_re = []\n",
    "# for i in values:\n",
    "#     fm = als.FMRegression(n_iter=i, l2_reg_w=l2_reg_w,\n",
    "#             l2_reg_V=l2_reg_V, rank=rank, random_state=seed, init_stdev=std, l2_reg=l2reg)\n",
    "#     fm.fit(X_train_sparse, y_train)\n",
    "#     rmse_test_re.append(np.sqrt(mean_squared_error(fm.predict(X_test_sparse), y_test)))\n",
    "#     rmse_train_re.append(np.sqrt(mean_squared_error(fm.predict(X_train_sparse), y_train)))\n",
    "\n",
    "# from matplotlib import pyplot as plt\n",
    "\n",
    "x = np.arange(1, n_iter) * step_size\n",
    "\n",
    "\n",
    "plt.plot(x, rmse_train, label='train')\n",
    "plt.plot(x, rmse_test, label='test')\n",
    "plt.title('FastFM RMSE Performance Using Genre Features')\n",
    "plt.xlabel('Iteration')\n",
    "plt.ylabel('RMSE')\n",
    "#     plt.plot(values, rmse_train_re, label='train re', linestyle='--')\n",
    "#     plt.plot(values, rmse_test_re, label='test re', ls='--')\n",
    "plt.legend()\n",
    "plt.show()"
   ]
  }
 ],
 "metadata": {
  "anaconda-cloud": {},
  "kernelspec": {
   "display_name": "Python [Root]",
   "language": "python",
   "name": "Python [Root]"
  },
  "language_info": {
   "codemirror_mode": {
    "name": "ipython",
    "version": 2
   },
   "file_extension": ".py",
   "mimetype": "text/x-python",
   "name": "python",
   "nbconvert_exporter": "python",
   "pygments_lexer": "ipython2",
   "version": "2.7.12"
  }
 },
 "nbformat": 4,
 "nbformat_minor": 0
}
