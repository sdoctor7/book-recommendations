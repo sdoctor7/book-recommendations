{
 "cells": [
  {
   "cell_type": "code",
   "execution_count": null,
   "metadata": {
    "collapsed": true
   },
   "outputs": [],
   "source": [
    "#53424 users 53425 book is 2757 or 2756\n",
    "#22 final genres"
   ]
  },
  {
   "cell_type": "code",
   "execution_count": 1,
   "metadata": {
    "collapsed": true
   },
   "outputs": [],
   "source": [
    "import pandas as pd\n",
    "import numpy as np\n",
    "from scipy import sparse\n",
    "import time"
   ]
  },
  {
   "cell_type": "code",
   "execution_count": 63,
   "metadata": {
    "collapsed": true
   },
   "outputs": [],
   "source": [
    "books = pd.read_csv('books.csv')"
   ]
  },
  {
   "cell_type": "code",
   "execution_count": 68,
   "metadata": {
    "collapsed": false
   },
   "outputs": [],
   "source": [
    "# books.book_id = pd.to_numeric(books.book_id)"
   ]
  },
  {
   "cell_type": "code",
   "execution_count": 102,
   "metadata": {
    "collapsed": false
   },
   "outputs": [
    {
     "data": {
      "text/plain": [
       "18      The Fellowship of the Ring (The Lord of the Ri...\n",
       "99                                   The Poisonwood Bible\n",
       "108                                        Les Misérables\n",
       "142                           All the Light We Cannot See\n",
       "143     Unbroken: A World War II Story of Survival, Re...\n",
       "149                                          The Red Tent\n",
       "668                              The House of the Spirits\n",
       "1360                                The House at Riverton\n",
       "Name: title, dtype: object"
      ]
     },
     "execution_count": 102,
     "metadata": {},
     "output_type": "execute_result"
    }
   ],
   "source": [
    "# books[books.book_id.isin([144,  150, 1361,  100,   19,  669,  109,  143])]['title']"
   ]
  },
  {
   "cell_type": "code",
   "execution_count": 97,
   "metadata": {
    "collapsed": false
   },
   "outputs": [
    {
     "data": {
      "text/plain": [
       "Index([u'book_id', u'goodreads_book_id', u'best_book_id', u'work_id',\n",
       "       u'books_count', u'isbn', u'isbn13', u'authors',\n",
       "       u'original_publication_year', u'original_title', u'title',\n",
       "       u'language_code', u'average_rating', u'ratings_count',\n",
       "       u'work_ratings_count', u'work_text_reviews_count', u'ratings_1',\n",
       "       u'ratings_2', u'ratings_3', u'ratings_4', u'ratings_5', u'image_url',\n",
       "       u'small_image_url'],\n",
       "      dtype='object')"
      ]
     },
     "execution_count": 97,
     "metadata": {},
     "output_type": "execute_result"
    }
   ],
   "source": [
    "# books.columns"
   ]
  },
  {
   "cell_type": "code",
   "execution_count": 2,
   "metadata": {
    "collapsed": true
   },
   "outputs": [],
   "source": [
    "#Parses the LibFM output model, returns w0, wj, and vj,f.\n",
    "#w0 is a single number, wj is an array of floats, vj,f is an array of array of floats\n",
    "def parse_output_file(filename):\n",
    "    w0_spot=False\n",
    "    wj_spot=False\n",
    "    vj_spot=False\n",
    "    w0=0\n",
    "    wj=[]\n",
    "    vj=[]\n",
    "    f = open(filename, 'r')\n",
    "    for line in f:\n",
    "        if 'global bias' in line:\n",
    "            w0_spot=True\n",
    "        elif w0_spot:\n",
    "            w0=float(line)\n",
    "            w0_spot=False\n",
    "        elif 'unary interactions' in line:\n",
    "            wj_spot=True\n",
    "        elif 'pairwise interactions' in line:\n",
    "            wj_spot=False\n",
    "            vj_spot=True\n",
    "        elif wj_spot:\n",
    "            wj.append(float(line))\n",
    "        elif vj_spot:\n",
    "            line_split=line.split(' ')\n",
    "            line_numbers = [float(i) for i in line_split]\n",
    "            vj.append(line_numbers)\n",
    "    return w0,wj,vj"
   ]
  },
  {
   "cell_type": "code",
   "execution_count": 3,
   "metadata": {
    "collapsed": false
   },
   "outputs": [],
   "source": [
    "w0, wj, vj = parse_output_file('../libfm_writes/model1.libfm')"
   ]
  },
  {
   "cell_type": "code",
   "execution_count": 4,
   "metadata": {
    "collapsed": true
   },
   "outputs": [],
   "source": [
    "num_col=len(wj)"
   ]
  },
  {
   "cell_type": "code",
   "execution_count": 37,
   "metadata": {
    "collapsed": false
   },
   "outputs": [],
   "source": [
    "#Given a string (line from the libfm testing set), outputs an input vector\n",
    "def create_input_vector(sample, num_col): \n",
    "    input_vector=[0]*num_col\n",
    "    sample_split = sample.split(' ')\n",
    "    sample_split = sample_split[1:]\n",
    "    for s in sample_split:\n",
    "        col_val = int(s[:s.index(':')])\n",
    "        item_val = float(s[s.index(':')+1:])\n",
    "        input_vector[col_val]=item_val\n",
    "    return input_vector\n"
   ]
  },
  {
   "cell_type": "code",
   "execution_count": 38,
   "metadata": {
    "collapsed": false
   },
   "outputs": [],
   "source": [
    "sample = '3 42562:1 56182:1 63432:0.01118210862619808 63434:0.02396166134185303 63439:0.2220447284345048 63442:0.7092651757188498 63443:0.007987220447284345 63456:0.0255591054313099'\n",
    "input_vector = create_input_vector(sample, num_col)\n",
    "#4.61783"
   ]
  },
  {
   "cell_type": "code",
   "execution_count": 39,
   "metadata": {
    "collapsed": false
   },
   "outputs": [],
   "source": [
    "input_vector = np.array(input_vector)\n",
    "wj = np.array(wj)\n",
    "vj = np.array(vj)"
   ]
  },
  {
   "cell_type": "markdown",
   "metadata": {},
   "source": [
    "### Testing with 10k books and given user"
   ]
  },
  {
   "cell_type": "code",
   "execution_count": 5,
   "metadata": {
    "collapsed": true
   },
   "outputs": [],
   "source": [
    "books_genres = sparse.load_npz('books_genres.npz')"
   ]
  },
  {
   "cell_type": "code",
   "execution_count": 11,
   "metadata": {
    "collapsed": false
   },
   "outputs": [
    {
     "data": {
      "text/plain": [
       "(array([0, 0, 0, 0, 0, 0, 0], dtype=int32),\n",
       " array([ 2757, 10007, 10009, 10014, 10017, 10018, 10031], dtype=int32),\n",
       " array([ 1.        ,  0.01118211,  0.02396166,  0.22204473,  0.70926518,\n",
       "         0.00798722,  0.02555911]))"
      ]
     },
     "execution_count": 11,
     "metadata": {},
     "output_type": "execute_result"
    }
   ],
   "source": [
    "# sparse.find(books_genres[2756])"
   ]
  },
  {
   "cell_type": "code",
   "execution_count": 16,
   "metadata": {
    "collapsed": false
   },
   "outputs": [
    {
     "data": {
      "text/plain": [
       "(10000, 10041)"
      ]
     },
     "execution_count": 16,
     "metadata": {},
     "output_type": "execute_result"
    }
   ],
   "source": [
    "books_genres.shape"
   ]
  },
  {
   "cell_type": "markdown",
   "metadata": {},
   "source": [
    "### Setting test user to be 42562\n",
    "I'll put this in the function where we can call the user id"
   ]
  },
  {
   "cell_type": "code",
   "execution_count": 14,
   "metadata": {
    "collapsed": false
   },
   "outputs": [],
   "source": [
    "users = sparse.csr_matrix((10000, 53425), dtype=int)"
   ]
  },
  {
   "cell_type": "code",
   "execution_count": 17,
   "metadata": {
    "collapsed": false
   },
   "outputs": [
    {
     "name": "stderr",
     "output_type": "stream",
     "text": [
      "/Users/adamcoviensky/anaconda/lib/python2.7/site-packages/scipy/sparse/compressed.py:742: SparseEfficiencyWarning: Changing the sparsity structure of a csr_matrix is expensive. lil_matrix is more efficient.\n",
      "  SparseEfficiencyWarning)\n"
     ]
    }
   ],
   "source": [
    "users[:,42562] = 1"
   ]
  },
  {
   "cell_type": "code",
   "execution_count": 23,
   "metadata": {
    "collapsed": false
   },
   "outputs": [],
   "source": [
    "def concatenate_csc_matrices_by_columns(matrix1, matrix2):\n",
    "    new_data = np.concatenate((matrix1.data, matrix2.data))\n",
    "    new_indices = np.concatenate((matrix1.indices, matrix2.indices))\n",
    "    new_ind_ptr = matrix2.indptr + len(matrix1.data)\n",
    "    new_ind_ptr = new_ind_ptr[1:]\n",
    "    new_ind_ptr = np.concatenate((matrix1.indptr, new_ind_ptr))\n",
    "\n",
    "    return sparse.csc_matrix((new_data, new_indices, new_ind_ptr))"
   ]
  },
  {
   "cell_type": "code",
   "execution_count": 25,
   "metadata": {
    "collapsed": false
   },
   "outputs": [],
   "source": [
    "X = concatenate_csc_matrices_by_columns(users.tocsc(), books_genres.tocsc())"
   ]
  },
  {
   "cell_type": "code",
   "execution_count": 28,
   "metadata": {
    "collapsed": false
   },
   "outputs": [],
   "source": [
    "X = X.tocsr()"
   ]
  },
  {
   "cell_type": "code",
   "execution_count": 32,
   "metadata": {
    "collapsed": false
   },
   "outputs": [
    {
     "data": {
      "text/plain": [
       "<1x63466 sparse matrix of type '<type 'numpy.float64'>'\n",
       "\twith 11 stored elements in Compressed Sparse Row format>"
      ]
     },
     "execution_count": 32,
     "metadata": {},
     "output_type": "execute_result"
    }
   ],
   "source": [
    "X[0,:]"
   ]
  },
  {
   "cell_type": "markdown",
   "metadata": {},
   "source": [
    "### Own Sparse Creation"
   ]
  },
  {
   "cell_type": "code",
   "execution_count": 10,
   "metadata": {
    "collapsed": true
   },
   "outputs": [],
   "source": [
    "def make_prediction(x, V, w, w0):\n",
    "    \"\"\"Function to create predictions\n",
    "    Input:\n",
    "    x: feature vector\n",
    "    V: interaction term matrix\n",
    "    w: linear feature biases (array)\n",
    "    w0: global bias (float)\n",
    "    Returns:\n",
    "    predicted rating (float)\"\"\"\n",
    "    x = sparse.csr_matrix(x)\n",
    "    x2 = (x.T).dot(x)\n",
    "    x_upper = sparse.triu(x2, k=1)\n",
    "    pred_inter = 0\n",
    "    my_tup_upper = sparse.find(x_upper)\n",
    "    for entry in range(my_tup_upper[0].shape[0]):\n",
    "    #    print(entry)\n",
    "        i = my_tup_upper[0][entry]\n",
    "        j = my_tup_upper[1][entry]\n",
    "        value = my_tup_upper[2][entry]\n",
    "        pred_inter += value*((vj[i,:]).dot(vj[j,:]))\n",
    "    pred_linear = x.dot(w)\n",
    "    return w0 + pred_linear + pred_inter"
   ]
  },
  {
   "cell_type": "code",
   "execution_count": 35,
   "metadata": {
    "collapsed": true
   },
   "outputs": [],
   "source": [
    "def make_prediction_2(x, V, w, w0):\n",
    "    \"\"\"Function to create predictions\n",
    "    Input:\n",
    "    x: feature vector\n",
    "    V: interaction term matrix\n",
    "    w: linear feature biases (array)\n",
    "    w0: global bias (float)\n",
    "    Returns:\n",
    "    predicted rating (float)\"\"\"\n",
    "    start_time = time.time()\n",
    "    for i in range(10000):\n",
    "#        print(i)\n",
    "        x = sparse.csr_matrix(x)\n",
    "        x2 = (x.T).dot(x)\n",
    "        x_upper = sparse.triu(x2, k=1)\n",
    "        pred_inter = 0\n",
    "        my_tup_upper = sparse.find(x_upper)\n",
    "        for entry in range(my_tup_upper[0].shape[0]):\n",
    "        #    print(entry)\n",
    "            i = my_tup_upper[0][entry]\n",
    "            j = my_tup_upper[1][entry]\n",
    "            value = my_tup_upper[2][entry]\n",
    "            pred_inter += value*((vj[i,:]).dot(vj[j,:]))\n",
    "        pred_linear = x.dot(w)\n",
    "    print(time.time() - start_time)\n",
    "    return w0 + pred_linear + pred_inter"
   ]
  },
  {
   "cell_type": "code",
   "execution_count": 99,
   "metadata": {
    "collapsed": true
   },
   "outputs": [],
   "source": [
    "def output_top_k(x_mat, V, w, w0, k):\n",
    "    \"\"\"Function to create predictions\n",
    "    Input:\n",
    "    x: matrix with 10k books for one specific user (around 63k by 10k)\n",
    "    V: interaction term matrix\n",
    "    w: linear feature biases (array)\n",
    "    w0: global bias (float)\n",
    "    Returns:\n",
    "    predicted rating (float)\"\"\"\n",
    "    start_time = time.time()\n",
    "    pred_mat = np.zeros(10000)\n",
    "    for i in range(10000):\n",
    "        x = x_mat[i,:]\n",
    "        x2 = (x.T).dot(x)\n",
    "        x_upper = sparse.triu(x2, k=1)\n",
    "        pred_inter = 0\n",
    "        my_tup_upper = sparse.find(x_upper)\n",
    "        for entry in range(my_tup_upper[0].shape[0]):\n",
    "            row = my_tup_upper[0][entry]\n",
    "            col = my_tup_upper[1][entry]\n",
    "            value = my_tup_upper[2][entry]\n",
    "            pred_inter += value*((vj[row,:]).dot(vj[col,:]))\n",
    "        pred_linear = x.dot(w)\n",
    "        pred_mat[i] = w0 + pred_linear + pred_inter\n",
    "    \n",
    "    # returning top k\n",
    "    top_ids = np.argsort(-pred_mat)[:k]\n",
    "    top_books = []\n",
    "    for i in top_ids:\n",
    "        top_books.append(books.loc())\n",
    "    top_books = books[books.book_id.isin(top_ids)]['title']\n",
    "    print(time.time() - start_time)\n",
    "    return top_books"
   ]
  },
  {
   "cell_type": "code",
   "execution_count": 100,
   "metadata": {
    "collapsed": false
   },
   "outputs": [
    {
     "name": "stdout",
     "output_type": "stream",
     "text": [
      "13.6168551445\n"
     ]
    }
   ],
   "source": [
    "my_preds = output_top_k(X,vj,wj,w0, 5)"
   ]
  },
  {
   "cell_type": "code",
   "execution_count": 101,
   "metadata": {
    "collapsed": false
   },
   "outputs": [
    {
     "data": {
      "text/plain": [
       "1008                                     The Interestings\n",
       "6588                              Iceberg (Dirk Pitt, #3)\n",
       "6918                                 Napalm & Silly Putty\n",
       "8976    Drop Dead Healthy: One Man's Humble Quest for ...\n",
       "9564                            Winter Stroll (Winter #2)\n",
       "Name: title, dtype: object"
      ]
     },
     "execution_count": 101,
     "metadata": {},
     "output_type": "execute_result"
    }
   ],
   "source": [
    "my_preds"
   ]
  },
  {
   "cell_type": "markdown",
   "metadata": {},
   "source": [
    "### Testing shit"
   ]
  },
  {
   "cell_type": "code",
   "execution_count": 37,
   "metadata": {
    "collapsed": false
   },
   "outputs": [
    {
     "data": {
      "text/plain": [
       "0.61170599452520003"
      ]
     },
     "execution_count": 37,
     "metadata": {},
     "output_type": "execute_result"
    }
   ],
   "source": [
    "vj[2].dot(vj[4])"
   ]
  },
  {
   "cell_type": "code",
   "execution_count": 38,
   "metadata": {
    "collapsed": false
   },
   "outputs": [
    {
     "data": {
      "text/plain": [
       "0.034829011896823088"
      ]
     },
     "execution_count": 38,
     "metadata": {},
     "output_type": "execute_result"
    }
   ],
   "source": [
    "wj.dot(input_vector)"
   ]
  },
  {
   "cell_type": "code",
   "execution_count": 39,
   "metadata": {
    "collapsed": false
   },
   "outputs": [
    {
     "data": {
      "text/plain": [
       "(63466,)"
      ]
     },
     "execution_count": 39,
     "metadata": {},
     "output_type": "execute_result"
    }
   ],
   "source": [
    "input_vector.shape"
   ]
  },
  {
   "cell_type": "code",
   "execution_count": 41,
   "metadata": {
    "collapsed": false
   },
   "outputs": [],
   "source": [
    "x2 = (x.T).dot(x)"
   ]
  },
  {
   "cell_type": "code",
   "execution_count": 42,
   "metadata": {
    "collapsed": false
   },
   "outputs": [
    {
     "data": {
      "text/plain": [
       "(63466, 63466)"
      ]
     },
     "execution_count": 42,
     "metadata": {},
     "output_type": "execute_result"
    }
   ],
   "source": [
    "x2.shape"
   ]
  },
  {
   "cell_type": "code",
   "execution_count": 43,
   "metadata": {
    "collapsed": false
   },
   "outputs": [],
   "source": [
    "my_tup = sparse.find(x2)"
   ]
  },
  {
   "cell_type": "code",
   "execution_count": 44,
   "metadata": {
    "collapsed": false
   },
   "outputs": [
    {
     "data": {
      "text/plain": [
       "(array([10714, 60589, 63429, 63437, 63438, 63439, 63442, 63444, 63449,\n",
       "        63451, 63456, 63458, 63465, 10714, 60589, 63429, 63437, 63438,\n",
       "        63439, 63442, 63444, 63449, 63451, 63456, 63458, 63465, 10714,\n",
       "        60589, 63429, 63437, 63438, 63439, 63442, 63444, 63449, 63451,\n",
       "        63456, 63458, 63465, 10714, 60589, 63429, 63437, 63438, 63439,\n",
       "        63442, 63444, 63449, 63451, 63456, 63458, 63465, 10714, 60589,\n",
       "        63429, 63437, 63438, 63439, 63442, 63444, 63449, 63451, 63456,\n",
       "        63458, 63465, 10714, 60589, 63429, 63437, 63438, 63439, 63442,\n",
       "        63444, 63449, 63451, 63456, 63458, 63465, 10714, 60589, 63429,\n",
       "        63437, 63438, 63439, 63442, 63444, 63449, 63451, 63456, 63458,\n",
       "        63465, 10714, 60589, 63429, 63437, 63438, 63439, 63442, 63444,\n",
       "        63449, 63451, 63456, 63458, 63465, 10714, 60589, 63429, 63437,\n",
       "        63438, 63439, 63442, 63444, 63449, 63451, 63456, 63458, 63465,\n",
       "        10714, 60589, 63429, 63437, 63438, 63439, 63442, 63444, 63449,\n",
       "        63451, 63456, 63458, 63465, 10714, 60589, 63429, 63437, 63438,\n",
       "        63439, 63442, 63444, 63449, 63451, 63456, 63458, 63465, 10714,\n",
       "        60589, 63429, 63437, 63438, 63439, 63442, 63444, 63449, 63451,\n",
       "        63456, 63458, 63465, 10714, 60589, 63429, 63437, 63438, 63439,\n",
       "        63442, 63444, 63449, 63451, 63456, 63458, 63465], dtype=int32),\n",
       " array([10714, 10714, 10714, 10714, 10714, 10714, 10714, 10714, 10714,\n",
       "        10714, 10714, 10714, 10714, 60589, 60589, 60589, 60589, 60589,\n",
       "        60589, 60589, 60589, 60589, 60589, 60589, 60589, 60589, 63429,\n",
       "        63429, 63429, 63429, 63429, 63429, 63429, 63429, 63429, 63429,\n",
       "        63429, 63429, 63429, 63437, 63437, 63437, 63437, 63437, 63437,\n",
       "        63437, 63437, 63437, 63437, 63437, 63437, 63437, 63438, 63438,\n",
       "        63438, 63438, 63438, 63438, 63438, 63438, 63438, 63438, 63438,\n",
       "        63438, 63438, 63439, 63439, 63439, 63439, 63439, 63439, 63439,\n",
       "        63439, 63439, 63439, 63439, 63439, 63439, 63442, 63442, 63442,\n",
       "        63442, 63442, 63442, 63442, 63442, 63442, 63442, 63442, 63442,\n",
       "        63442, 63444, 63444, 63444, 63444, 63444, 63444, 63444, 63444,\n",
       "        63444, 63444, 63444, 63444, 63444, 63449, 63449, 63449, 63449,\n",
       "        63449, 63449, 63449, 63449, 63449, 63449, 63449, 63449, 63449,\n",
       "        63451, 63451, 63451, 63451, 63451, 63451, 63451, 63451, 63451,\n",
       "        63451, 63451, 63451, 63451, 63456, 63456, 63456, 63456, 63456,\n",
       "        63456, 63456, 63456, 63456, 63456, 63456, 63456, 63456, 63458,\n",
       "        63458, 63458, 63458, 63458, 63458, 63458, 63458, 63458, 63458,\n",
       "        63458, 63458, 63458, 63465, 63465, 63465, 63465, 63465, 63465,\n",
       "        63465, 63465, 63465, 63465, 63465, 63465, 63465], dtype=int32),\n",
       " array([  1.00000000e+00,   1.00000000e+00,   6.41212474e-03,\n",
       "          1.39900904e-02,   3.67239872e-01,   1.00262314e-01,\n",
       "          8.39405421e-02,   4.95482367e-03,   6.32468668e-02,\n",
       "          1.83911396e-01,   1.30574177e-01,   3.41008452e-02,\n",
       "          1.13669484e-02,   1.00000000e+00,   1.00000000e+00,\n",
       "          6.41212474e-03,   1.39900904e-02,   3.67239872e-01,\n",
       "          1.00262314e-01,   8.39405421e-02,   4.95482367e-03,\n",
       "          6.32468668e-02,   1.83911396e-01,   1.30574177e-01,\n",
       "          3.41008452e-02,   1.13669484e-02,   6.41212474e-03,\n",
       "          6.41212474e-03,   4.11153437e-05,   8.97062045e-05,\n",
       "          2.35478787e-03,   6.42894466e-04,   5.38237227e-04,\n",
       "          3.17709474e-05,   4.05546800e-04,   1.17926281e-03,\n",
       "          8.37257909e-04,   2.18658874e-04,   7.28862912e-05,\n",
       "          1.39900904e-02,   1.39900904e-02,   8.97062045e-05,\n",
       "          1.95722628e-04,   5.13771899e-03,   1.40267883e-03,\n",
       "          1.17433577e-03,   6.93184308e-05,   8.84829381e-04,\n",
       "          2.57293705e-03,   1.82674453e-03,   4.77073906e-04,\n",
       "          1.59024635e-04,   3.67239872e-01,   3.67239872e-01,\n",
       "          2.35478787e-03,   5.13771899e-03,   1.34865123e-01,\n",
       "          3.68203194e-02,   3.08263139e-02,   1.81960881e-03,\n",
       "          2.32267713e-02,   6.75395975e-02,   4.79520439e-02,\n",
       "          1.25231900e-02,   4.17439668e-03,   1.00262314e-01,\n",
       "          1.00262314e-01,   6.42894466e-04,   1.40267883e-03,\n",
       "          3.68203194e-02,   1.00525316e-02,   8.41607301e-03,\n",
       "          4.96782087e-04,   6.34127723e-03,   1.84393822e-02,\n",
       "          1.30916691e-02,   3.41902966e-03,   1.13967655e-03,\n",
       "          8.39405421e-02,   8.39405421e-02,   5.38237227e-04,\n",
       "          1.17433577e-03,   3.08263139e-02,   8.41607301e-03,\n",
       "          7.04601461e-03,   4.15910585e-04,   5.30897629e-03,\n",
       "          1.54376223e-02,   1.09604672e-02,   2.86244344e-03,\n",
       "          9.54147812e-04,   4.95482367e-03,   4.95482367e-03,\n",
       "          3.17709474e-05,   6.93184308e-05,   1.81960881e-03,\n",
       "          4.96782087e-04,   4.15910585e-04,   2.45502776e-05,\n",
       "          3.13377072e-04,   9.11248538e-04,   6.46972021e-04,\n",
       "          1.68963675e-04,   5.63212250e-05,   6.32468668e-02,\n",
       "          6.32468668e-02,   4.05546800e-04,   8.84829381e-04,\n",
       "          2.32267713e-02,   6.34127723e-03,   5.30897629e-03,\n",
       "          3.13377072e-04,   4.00016616e-03,   1.16318196e-02,\n",
       "          8.25840756e-03,   2.15677162e-03,   7.18923872e-04,\n",
       "          1.83911396e-01,   1.83911396e-01,   1.17926281e-03,\n",
       "          2.57293705e-03,   6.75395975e-02,   1.84393822e-02,\n",
       "          1.54376223e-02,   9.11248538e-04,   1.16318196e-02,\n",
       "          3.38234016e-02,   2.40140791e-02,   6.27153406e-03,\n",
       "          2.09051135e-03,   1.30574177e-01,   1.30574177e-01,\n",
       "          8.37257909e-04,   1.82674453e-03,   4.79520439e-02,\n",
       "          1.30916691e-02,   1.09604672e-02,   6.46972021e-04,\n",
       "          8.25840756e-03,   2.40140791e-02,   1.70496156e-02,\n",
       "          4.45268979e-03,   1.48422993e-03,   3.41008452e-02,\n",
       "          3.41008452e-02,   2.18658874e-04,   4.77073906e-04,\n",
       "          1.25231900e-02,   3.41902966e-03,   2.86244344e-03,\n",
       "          1.68963675e-04,   2.15677162e-03,   6.27153406e-03,\n",
       "          4.45268979e-03,   1.16286765e-03,   3.87622549e-04,\n",
       "          1.13669484e-02,   1.13669484e-02,   7.28862912e-05,\n",
       "          1.59024635e-04,   4.17439668e-03,   1.13967655e-03,\n",
       "          9.54147812e-04,   5.63212250e-05,   7.18923872e-04,\n",
       "          2.09051135e-03,   1.48422993e-03,   3.87622549e-04,\n",
       "          1.29207516e-04]))"
      ]
     },
     "execution_count": 44,
     "metadata": {},
     "output_type": "execute_result"
    }
   ],
   "source": [
    "my_tup"
   ]
  },
  {
   "cell_type": "code",
   "execution_count": 45,
   "metadata": {
    "collapsed": true
   },
   "outputs": [],
   "source": [
    "x_upper = sparse.triu(x2, k=1)"
   ]
  },
  {
   "cell_type": "code",
   "execution_count": 46,
   "metadata": {
    "collapsed": false
   },
   "outputs": [],
   "source": [
    "my_tup_upper = sparse.find(x_upper)"
   ]
  },
  {
   "cell_type": "code",
   "execution_count": 47,
   "metadata": {
    "collapsed": false
   },
   "outputs": [
    {
     "data": {
      "text/plain": [
       "78"
      ]
     },
     "execution_count": 47,
     "metadata": {},
     "output_type": "execute_result"
    }
   ],
   "source": [
    "my_tup_upper[0].shape[0]"
   ]
  },
  {
   "cell_type": "code",
   "execution_count": 48,
   "metadata": {
    "collapsed": false
   },
   "outputs": [
    {
     "name": "stdout",
     "output_type": "stream",
     "text": [
      "10714\n",
      "63437\n",
      "0.0139900903527\n"
     ]
    }
   ],
   "source": [
    "print(my_tup_upper[0][3])\n",
    "print(my_tup_upper[1][3])\n",
    "print(my_tup_upper[2][3])"
   ]
  },
  {
   "cell_type": "code",
   "execution_count": 49,
   "metadata": {
    "collapsed": false
   },
   "outputs": [
    {
     "data": {
      "text/plain": [
       "0.00010348149048362307"
      ]
     },
     "execution_count": 49,
     "metadata": {},
     "output_type": "execute_result"
    }
   ],
   "source": [
    "vj[10714].dot(vj[63437])*0.01399"
   ]
  },
  {
   "cell_type": "code",
   "execution_count": 50,
   "metadata": {
    "collapsed": false
   },
   "outputs": [
    {
     "data": {
      "text/plain": [
       "169"
      ]
     },
     "execution_count": 50,
     "metadata": {},
     "output_type": "execute_result"
    }
   ],
   "source": [
    "my_tup[2].shape[0]"
   ]
  },
  {
   "cell_type": "code",
   "execution_count": 51,
   "metadata": {
    "collapsed": false
   },
   "outputs": [
    {
     "data": {
      "text/plain": [
       "10714"
      ]
     },
     "execution_count": 51,
     "metadata": {},
     "output_type": "execute_result"
    }
   ],
   "source": [
    "my_tup[0][0]"
   ]
  },
  {
   "cell_type": "code",
   "execution_count": 52,
   "metadata": {
    "collapsed": false
   },
   "outputs": [
    {
     "data": {
      "text/plain": [
       "(8,)"
      ]
     },
     "execution_count": 52,
     "metadata": {},
     "output_type": "execute_result"
    }
   ],
   "source": [
    "vj[i].shape"
   ]
  },
  {
   "cell_type": "markdown",
   "metadata": {},
   "source": [
    "### Attempting with trick from paper"
   ]
  },
  {
   "cell_type": "code",
   "execution_count": 75,
   "metadata": {
    "collapsed": false
   },
   "outputs": [],
   "source": [
    "vx = input_vector.dot(vj[:,0])"
   ]
  },
  {
   "cell_type": "code",
   "execution_count": 77,
   "metadata": {
    "collapsed": false
   },
   "outputs": [],
   "source": [
    "vx_sq = np.square(input_vector).dot(np.square(vj[:,0]))"
   ]
  },
  {
   "cell_type": "code",
   "execution_count": 82,
   "metadata": {
    "collapsed": false
   },
   "outputs": [
    {
     "data": {
      "text/plain": [
       "0.24649971740344628"
      ]
     },
     "execution_count": 82,
     "metadata": {},
     "output_type": "execute_result"
    }
   ],
   "source": [
    "vx_sq**2"
   ]
  },
  {
   "cell_type": "code",
   "execution_count": 80,
   "metadata": {
    "collapsed": false
   },
   "outputs": [],
   "source": [
    "k = vj.shape[1]"
   ]
  },
  {
   "cell_type": "code",
   "execution_count": 13,
   "metadata": {
    "collapsed": false
   },
   "outputs": [],
   "source": [
    "def predict_fm(x, w0, w, V):\n",
    "    start_time = time.time()\n",
    "    for i in range(10000):\n",
    "        my_sum = 0\n",
    "        for f in range(vj.shape[1]):\n",
    "            vx = (x.dot(vj[:,f]))**2\n",
    "            vx_sq = np.square(x).dot(np.square(vj[:,f]))\n",
    "            my_sum += (vx - vx_sq)\n",
    "        interaction_term = my_sum/2.0\n",
    "        linear_term = w.dot(x)\n",
    "    print(time.time() - start_time)\n",
    "    return w0 + linear_term + interaction_term"
   ]
  },
  {
   "cell_type": "code",
   "execution_count": 33,
   "metadata": {
    "collapsed": false
   },
   "outputs": [],
   "source": [
    "def predict_fm_2(x, w0, w, V):\n",
    "    start_time = time.time()\n",
    "    for i in range(10000):\n",
    "        print(i)\n",
    "        vx = (vj.T).dot(x)\n",
    "        vx_sq = np.square(vj.T).dot(x.power(2))\n",
    "        interaction_term = (vx - vx_sq).sum()/2\n",
    "        linear_term = w.dot(x)\n",
    "    print(time.time() - start_time)\n",
    "    return w0 + linear_term + interaction_term"
   ]
  },
  {
   "cell_type": "code",
   "execution_count": 34,
   "metadata": {
    "collapsed": false
   },
   "outputs": [
    {
     "name": "stdout",
     "output_type": "stream",
     "text": [
      "0\n"
     ]
    },
    {
     "ename": "KeyboardInterrupt",
     "evalue": "",
     "output_type": "error",
     "traceback": [
      "\u001b[0;31m---------------------------------------------------------------------------\u001b[0m",
      "\u001b[0;31mKeyboardInterrupt\u001b[0m                         Traceback (most recent call last)",
      "\u001b[0;32m<ipython-input-34-cc40c065df7b>\u001b[0m in \u001b[0;36m<module>\u001b[0;34m()\u001b[0m\n\u001b[0;32m----> 1\u001b[0;31m \u001b[0mpredict_fm_2\u001b[0m\u001b[0;34m(\u001b[0m\u001b[0msparse\u001b[0m\u001b[0;34m.\u001b[0m\u001b[0mcsr_matrix\u001b[0m\u001b[0;34m(\u001b[0m\u001b[0minput_vector\u001b[0m\u001b[0;34m)\u001b[0m\u001b[0;34m,\u001b[0m \u001b[0mw0\u001b[0m\u001b[0;34m,\u001b[0m \u001b[0mwj\u001b[0m\u001b[0;34m,\u001b[0m \u001b[0mvj\u001b[0m\u001b[0;34m)\u001b[0m\u001b[0;34m\u001b[0m\u001b[0m\n\u001b[0m",
      "\u001b[0;32m<ipython-input-33-9bc605c415f4>\u001b[0m in \u001b[0;36mpredict_fm_2\u001b[0;34m(x, w0, w, V)\u001b[0m\n\u001b[1;32m      3\u001b[0m     \u001b[0;32mfor\u001b[0m \u001b[0mi\u001b[0m \u001b[0;32min\u001b[0m \u001b[0mrange\u001b[0m\u001b[0;34m(\u001b[0m\u001b[0;36m10000\u001b[0m\u001b[0;34m)\u001b[0m\u001b[0;34m:\u001b[0m\u001b[0;34m\u001b[0m\u001b[0m\n\u001b[1;32m      4\u001b[0m         \u001b[0;32mprint\u001b[0m\u001b[0;34m(\u001b[0m\u001b[0mi\u001b[0m\u001b[0;34m)\u001b[0m\u001b[0;34m\u001b[0m\u001b[0m\n\u001b[0;32m----> 5\u001b[0;31m         \u001b[0mvx\u001b[0m \u001b[0;34m=\u001b[0m \u001b[0;34m(\u001b[0m\u001b[0mvj\u001b[0m\u001b[0;34m.\u001b[0m\u001b[0mT\u001b[0m\u001b[0;34m)\u001b[0m\u001b[0;34m.\u001b[0m\u001b[0mdot\u001b[0m\u001b[0;34m(\u001b[0m\u001b[0mx\u001b[0m\u001b[0;34m)\u001b[0m\u001b[0;34m\u001b[0m\u001b[0m\n\u001b[0m\u001b[1;32m      6\u001b[0m         \u001b[0mvx_sq\u001b[0m \u001b[0;34m=\u001b[0m \u001b[0mnp\u001b[0m\u001b[0;34m.\u001b[0m\u001b[0msquare\u001b[0m\u001b[0;34m(\u001b[0m\u001b[0mvj\u001b[0m\u001b[0;34m.\u001b[0m\u001b[0mT\u001b[0m\u001b[0;34m)\u001b[0m\u001b[0;34m.\u001b[0m\u001b[0mdot\u001b[0m\u001b[0;34m(\u001b[0m\u001b[0mx\u001b[0m\u001b[0;34m.\u001b[0m\u001b[0mpower\u001b[0m\u001b[0;34m(\u001b[0m\u001b[0;36m2\u001b[0m\u001b[0;34m)\u001b[0m\u001b[0;34m)\u001b[0m\u001b[0;34m\u001b[0m\u001b[0m\n\u001b[1;32m      7\u001b[0m         \u001b[0minteraction_term\u001b[0m \u001b[0;34m=\u001b[0m \u001b[0;34m(\u001b[0m\u001b[0mvx\u001b[0m \u001b[0;34m-\u001b[0m \u001b[0mvx_sq\u001b[0m\u001b[0;34m)\u001b[0m\u001b[0;34m.\u001b[0m\u001b[0msum\u001b[0m\u001b[0;34m(\u001b[0m\u001b[0;34m)\u001b[0m\u001b[0;34m/\u001b[0m\u001b[0;36m2\u001b[0m\u001b[0;34m\u001b[0m\u001b[0m\n",
      "\u001b[0;32m/Users/adamcoviensky/anaconda/lib/python2.7/site-packages/scipy/sparse/base.pyc\u001b[0m in \u001b[0;36m__rmul__\u001b[0;34m(self, other)\u001b[0m\n\u001b[1;32m    501\u001b[0m     \u001b[0;32mdef\u001b[0m \u001b[0m__rmul__\u001b[0m\u001b[0;34m(\u001b[0m\u001b[0mself\u001b[0m\u001b[0;34m,\u001b[0m \u001b[0mother\u001b[0m\u001b[0;34m)\u001b[0m\u001b[0;34m:\u001b[0m  \u001b[0;31m# other * self\u001b[0m\u001b[0;34m\u001b[0m\u001b[0m\n\u001b[1;32m    502\u001b[0m         \u001b[0;32mif\u001b[0m \u001b[0misscalarlike\u001b[0m\u001b[0;34m(\u001b[0m\u001b[0mother\u001b[0m\u001b[0;34m)\u001b[0m\u001b[0;34m:\u001b[0m\u001b[0;34m\u001b[0m\u001b[0m\n\u001b[0;32m--> 503\u001b[0;31m             \u001b[0;32mreturn\u001b[0m \u001b[0mself\u001b[0m\u001b[0;34m.\u001b[0m\u001b[0m__mul__\u001b[0m\u001b[0;34m(\u001b[0m\u001b[0mother\u001b[0m\u001b[0;34m)\u001b[0m\u001b[0;34m\u001b[0m\u001b[0m\n\u001b[0m\u001b[1;32m    504\u001b[0m         \u001b[0;32melse\u001b[0m\u001b[0;34m:\u001b[0m\u001b[0;34m\u001b[0m\u001b[0m\n\u001b[1;32m    505\u001b[0m             \u001b[0;31m# Don't use asarray unless we have to\u001b[0m\u001b[0;34m\u001b[0m\u001b[0;34m\u001b[0m\u001b[0m\n",
      "\u001b[0;32m/Users/adamcoviensky/anaconda/lib/python2.7/site-packages/scipy/sparse/base.pyc\u001b[0m in \u001b[0;36m__mul__\u001b[0;34m(self, other)\u001b[0m\n\u001b[1;32m    433\u001b[0m         \u001b[0;32mif\u001b[0m \u001b[0misscalarlike\u001b[0m\u001b[0;34m(\u001b[0m\u001b[0mother\u001b[0m\u001b[0;34m)\u001b[0m\u001b[0;34m:\u001b[0m\u001b[0;34m\u001b[0m\u001b[0m\n\u001b[1;32m    434\u001b[0m             \u001b[0;31m# scalar value\u001b[0m\u001b[0;34m\u001b[0m\u001b[0;34m\u001b[0m\u001b[0m\n\u001b[0;32m--> 435\u001b[0;31m             \u001b[0;32mreturn\u001b[0m \u001b[0mself\u001b[0m\u001b[0;34m.\u001b[0m\u001b[0m_mul_scalar\u001b[0m\u001b[0;34m(\u001b[0m\u001b[0mother\u001b[0m\u001b[0;34m)\u001b[0m\u001b[0;34m\u001b[0m\u001b[0m\n\u001b[0m\u001b[1;32m    436\u001b[0m \u001b[0;34m\u001b[0m\u001b[0m\n\u001b[1;32m    437\u001b[0m         \u001b[0;32mif\u001b[0m \u001b[0missparse\u001b[0m\u001b[0;34m(\u001b[0m\u001b[0mother\u001b[0m\u001b[0;34m)\u001b[0m\u001b[0;34m:\u001b[0m\u001b[0;34m\u001b[0m\u001b[0m\n",
      "\u001b[0;32m/Users/adamcoviensky/anaconda/lib/python2.7/site-packages/scipy/sparse/data.pyc\u001b[0m in \u001b[0;36m_mul_scalar\u001b[0;34m(self, other)\u001b[0m\n\u001b[1;32m    116\u001b[0m \u001b[0;34m\u001b[0m\u001b[0m\n\u001b[1;32m    117\u001b[0m     \u001b[0;32mdef\u001b[0m \u001b[0m_mul_scalar\u001b[0m\u001b[0;34m(\u001b[0m\u001b[0mself\u001b[0m\u001b[0;34m,\u001b[0m \u001b[0mother\u001b[0m\u001b[0;34m)\u001b[0m\u001b[0;34m:\u001b[0m\u001b[0;34m\u001b[0m\u001b[0m\n\u001b[0;32m--> 118\u001b[0;31m         \u001b[0;32mreturn\u001b[0m \u001b[0mself\u001b[0m\u001b[0;34m.\u001b[0m\u001b[0m_with_data\u001b[0m\u001b[0;34m(\u001b[0m\u001b[0mself\u001b[0m\u001b[0;34m.\u001b[0m\u001b[0mdata\u001b[0m \u001b[0;34m*\u001b[0m \u001b[0mother\u001b[0m\u001b[0;34m)\u001b[0m\u001b[0;34m\u001b[0m\u001b[0m\n\u001b[0m\u001b[1;32m    119\u001b[0m \u001b[0;34m\u001b[0m\u001b[0m\n\u001b[1;32m    120\u001b[0m \u001b[0;34m\u001b[0m\u001b[0m\n",
      "\u001b[0;32m/Users/adamcoviensky/anaconda/lib/python2.7/site-packages/scipy/sparse/compressed.pyc\u001b[0m in \u001b[0;36m_with_data\u001b[0;34m(self, data, copy)\u001b[0m\n\u001b[1;32m   1083\u001b[0m         \u001b[0;32mif\u001b[0m \u001b[0mcopy\u001b[0m\u001b[0;34m:\u001b[0m\u001b[0;34m\u001b[0m\u001b[0m\n\u001b[1;32m   1084\u001b[0m             return self.__class__((data,self.indices.copy(),self.indptr.copy()),\n\u001b[0;32m-> 1085\u001b[0;31m                                    shape=self.shape,dtype=data.dtype)\n\u001b[0m\u001b[1;32m   1086\u001b[0m         \u001b[0;32melse\u001b[0m\u001b[0;34m:\u001b[0m\u001b[0;34m\u001b[0m\u001b[0m\n\u001b[1;32m   1087\u001b[0m             return self.__class__((data,self.indices,self.indptr),\n",
      "\u001b[0;32m/Users/adamcoviensky/anaconda/lib/python2.7/site-packages/scipy/sparse/compressed.pyc\u001b[0m in \u001b[0;36m__init__\u001b[0;34m(self, arg1, shape, dtype, copy)\u001b[0m\n\u001b[1;32m     96\u001b[0m             \u001b[0mself\u001b[0m\u001b[0;34m.\u001b[0m\u001b[0mdata\u001b[0m \u001b[0;34m=\u001b[0m \u001b[0mnp\u001b[0m\u001b[0;34m.\u001b[0m\u001b[0masarray\u001b[0m\u001b[0;34m(\u001b[0m\u001b[0mself\u001b[0m\u001b[0;34m.\u001b[0m\u001b[0mdata\u001b[0m\u001b[0;34m,\u001b[0m \u001b[0mdtype\u001b[0m\u001b[0;34m=\u001b[0m\u001b[0mdtype\u001b[0m\u001b[0;34m)\u001b[0m\u001b[0;34m\u001b[0m\u001b[0m\n\u001b[1;32m     97\u001b[0m \u001b[0;34m\u001b[0m\u001b[0m\n\u001b[0;32m---> 98\u001b[0;31m         \u001b[0mself\u001b[0m\u001b[0;34m.\u001b[0m\u001b[0mcheck_format\u001b[0m\u001b[0;34m(\u001b[0m\u001b[0mfull_check\u001b[0m\u001b[0;34m=\u001b[0m\u001b[0mFalse\u001b[0m\u001b[0;34m)\u001b[0m\u001b[0;34m\u001b[0m\u001b[0m\n\u001b[0m\u001b[1;32m     99\u001b[0m \u001b[0;34m\u001b[0m\u001b[0m\n\u001b[1;32m    100\u001b[0m     \u001b[0;32mdef\u001b[0m \u001b[0mgetnnz\u001b[0m\u001b[0;34m(\u001b[0m\u001b[0mself\u001b[0m\u001b[0;34m,\u001b[0m \u001b[0maxis\u001b[0m\u001b[0;34m=\u001b[0m\u001b[0mNone\u001b[0m\u001b[0;34m)\u001b[0m\u001b[0;34m:\u001b[0m\u001b[0;34m\u001b[0m\u001b[0m\n",
      "\u001b[0;32m/Users/adamcoviensky/anaconda/lib/python2.7/site-packages/scipy/sparse/compressed.pyc\u001b[0m in \u001b[0;36mcheck_format\u001b[0;34m(self, full_check)\u001b[0m\n\u001b[1;32m    164\u001b[0m \u001b[0;34m\u001b[0m\u001b[0m\n\u001b[1;32m    165\u001b[0m         \u001b[0;31m# check index and data arrays\u001b[0m\u001b[0;34m\u001b[0m\u001b[0;34m\u001b[0m\u001b[0m\n\u001b[0;32m--> 166\u001b[0;31m         \u001b[0;32mif\u001b[0m \u001b[0;34m(\u001b[0m\u001b[0mlen\u001b[0m\u001b[0;34m(\u001b[0m\u001b[0mself\u001b[0m\u001b[0;34m.\u001b[0m\u001b[0mindices\u001b[0m\u001b[0;34m)\u001b[0m \u001b[0;34m!=\u001b[0m \u001b[0mlen\u001b[0m\u001b[0;34m(\u001b[0m\u001b[0mself\u001b[0m\u001b[0;34m.\u001b[0m\u001b[0mdata\u001b[0m\u001b[0;34m)\u001b[0m\u001b[0;34m)\u001b[0m\u001b[0;34m:\u001b[0m\u001b[0;34m\u001b[0m\u001b[0m\n\u001b[0m\u001b[1;32m    167\u001b[0m             \u001b[0;32mraise\u001b[0m \u001b[0mValueError\u001b[0m\u001b[0;34m(\u001b[0m\u001b[0;34m\"indices and data should have the same size\"\u001b[0m\u001b[0;34m)\u001b[0m\u001b[0;34m\u001b[0m\u001b[0m\n\u001b[1;32m    168\u001b[0m         \u001b[0;32mif\u001b[0m \u001b[0;34m(\u001b[0m\u001b[0mself\u001b[0m\u001b[0;34m.\u001b[0m\u001b[0mindptr\u001b[0m\u001b[0;34m[\u001b[0m\u001b[0;34m-\u001b[0m\u001b[0;36m1\u001b[0m\u001b[0;34m]\u001b[0m \u001b[0;34m>\u001b[0m \u001b[0mlen\u001b[0m\u001b[0;34m(\u001b[0m\u001b[0mself\u001b[0m\u001b[0;34m.\u001b[0m\u001b[0mindices\u001b[0m\u001b[0;34m)\u001b[0m\u001b[0;34m)\u001b[0m\u001b[0;34m:\u001b[0m\u001b[0;34m\u001b[0m\u001b[0m\n",
      "\u001b[0;31mKeyboardInterrupt\u001b[0m: "
     ]
    }
   ],
   "source": [
    "predict_fm_2(sparse.csr_matrix(input_vector), w0, wj, vj)"
   ]
  },
  {
   "cell_type": "code",
   "execution_count": 30,
   "metadata": {
    "collapsed": false
   },
   "outputs": [
    {
     "data": {
      "text/plain": [
       "(1, 63466)"
      ]
     },
     "execution_count": 30,
     "metadata": {},
     "output_type": "execute_result"
    }
   ],
   "source": [
    "sparse_x = sparse.csr_matrix(input_vector)\n",
    "sparse_x.shape"
   ]
  },
  {
   "cell_type": "code",
   "execution_count": 15,
   "metadata": {
    "collapsed": false
   },
   "outputs": [
    {
     "data": {
      "text/plain": [
       "(63466, 15)"
      ]
     },
     "execution_count": 15,
     "metadata": {},
     "output_type": "execute_result"
    }
   ],
   "source": [
    "vj.shape"
   ]
  },
  {
   "cell_type": "code",
   "execution_count": 29,
   "metadata": {
    "collapsed": false
   },
   "outputs": [
    {
     "data": {
      "text/plain": [
       "15"
      ]
     },
     "execution_count": 29,
     "metadata": {},
     "output_type": "execute_result"
    }
   ],
   "source": [
    "vj.shape[1]"
   ]
  },
  {
   "cell_type": "code",
   "execution_count": 88,
   "metadata": {
    "collapsed": false
   },
   "outputs": [],
   "source": [
    "linear_term = wj[:,0].dot(input_vector)"
   ]
  },
  {
   "cell_type": "code",
   "execution_count": 89,
   "metadata": {
    "collapsed": false
   },
   "outputs": [
    {
     "data": {
      "text/plain": [
       "0.034829011896823088"
      ]
     },
     "execution_count": 89,
     "metadata": {},
     "output_type": "execute_result"
    }
   ],
   "source": [
    "linear_term"
   ]
  },
  {
   "cell_type": "code",
   "execution_count": 90,
   "metadata": {
    "collapsed": false
   },
   "outputs": [
    {
     "data": {
      "text/plain": [
       "3.5977711975764448"
      ]
     },
     "execution_count": 90,
     "metadata": {},
     "output_type": "execute_result"
    }
   ],
   "source": [
    "w0 + linear_term + interaction_term"
   ]
  },
  {
   "cell_type": "code",
   "execution_count": 91,
   "metadata": {
    "collapsed": false
   },
   "outputs": [
    {
     "data": {
      "text/plain": [
       "array([ 0.        ,  0.        ,  0.        , ...,  0.        ,\n",
       "        0.        ,  0.01136695])"
      ]
     },
     "execution_count": 91,
     "metadata": {},
     "output_type": "execute_result"
    }
   ],
   "source": [
    "input_vector"
   ]
  },
  {
   "cell_type": "code",
   "execution_count": null,
   "metadata": {
    "collapsed": true
   },
   "outputs": [],
   "source": []
  }
 ],
 "metadata": {
  "anaconda-cloud": {},
  "kernelspec": {
   "display_name": "Python [Root]",
   "language": "python",
   "name": "Python [Root]"
  },
  "language_info": {
   "codemirror_mode": {
    "name": "ipython",
    "version": 2
   },
   "file_extension": ".py",
   "mimetype": "text/x-python",
   "name": "python",
   "nbconvert_exporter": "python",
   "pygments_lexer": "ipython2",
   "version": "2.7.12"
  }
 },
 "nbformat": 4,
 "nbformat_minor": 2
}
