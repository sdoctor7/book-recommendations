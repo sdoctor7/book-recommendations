{
 "cells": [
  {
   "cell_type": "code",
   "execution_count": 1,
   "metadata": {
    "collapsed": true
   },
   "outputs": [],
   "source": [
    "import pandas as pd\n",
    "import numpy as np"
   ]
  },
  {
   "cell_type": "code",
   "execution_count": 7,
   "metadata": {
    "collapsed": true
   },
   "outputs": [],
   "source": [
    "#Parses the LibFM output model, returns w0, wj, and vj,f.\n",
    "#w0 is a single number, wj is an array of floats, vj,f is an array of array of floats\n",
    "def parse_output_file(filename):\n",
    "    w0_spot=False\n",
    "    wj_spot=False\n",
    "    vj_spot=False\n",
    "    w0=0\n",
    "    wj=[]\n",
    "    vj=[]\n",
    "    f = open(filename, 'r')\n",
    "    for line in f:\n",
    "        if 'global bias' in line:\n",
    "            w0_spot=True\n",
    "        elif w0_spot:\n",
    "            w0=float(line)\n",
    "            w0_spot=False\n",
    "        elif 'unary interactions' in line:\n",
    "            wj_spot=True\n",
    "        elif 'pairwise interactions' in line:\n",
    "            wj_spot=False\n",
    "            vj_spot=True\n",
    "        elif wj_spot:\n",
    "            wj.append(float(line))\n",
    "        elif vj_spot:\n",
    "            line_split=line.split(' ')\n",
    "            line_numbers = [float(i) for i in line_split]\n",
    "            vj.append(line_numbers)\n",
    "    return w0,wj,vj"
   ]
  },
  {
   "cell_type": "code",
   "execution_count": 9,
   "metadata": {},
   "outputs": [],
   "source": [
    "w0, wj, vj = parse_output_file('model1')"
   ]
  },
  {
   "cell_type": "code",
   "execution_count": 32,
   "metadata": {},
   "outputs": [],
   "source": [
    "#THIS NEEDS TO BE VECTORIZED\n",
    "\n",
    "def make_prediction(input_vector, w0, wj, vj):\n",
    "    N=len(input_vector)\n",
    "    unary_sum=np.dot(input_vector,wj)\n",
    "    binary_sum=0\n",
    "    for x in range(N):\n",
    "        for y in range(x+1, N):\n",
    "            dot = np.dot(vj[x],vj[y])\n",
    "            dot_val = dot*input_vector[x]*input_vector[y]\n",
    "            binary_sum+=dot_val\n",
    "    return w0+unary_sum+binary_sum"
   ]
  },
  {
   "cell_type": "code",
   "execution_count": 17,
   "metadata": {
    "collapsed": true
   },
   "outputs": [],
   "source": [
    "num_col=len(wj)"
   ]
  },
  {
   "cell_type": "code",
   "execution_count": 33,
   "metadata": {},
   "outputs": [
    {
     "ename": "KeyboardInterrupt",
     "evalue": "",
     "output_type": "error",
     "traceback": [
      "\u001b[0;31m---------------------------------------------------------------------------\u001b[0m",
      "\u001b[0;31mKeyboardInterrupt\u001b[0m                         Traceback (most recent call last)",
      "\u001b[0;32m<ipython-input-33-b6bd505cd0c6>\u001b[0m in \u001b[0;36m<module>\u001b[0;34m()\u001b[0m\n\u001b[1;32m      7\u001b[0m     \u001b[0mitem_val\u001b[0m \u001b[0;34m=\u001b[0m \u001b[0mfloat\u001b[0m\u001b[0;34m(\u001b[0m\u001b[0ms\u001b[0m\u001b[0;34m[\u001b[0m\u001b[0ms\u001b[0m\u001b[0;34m.\u001b[0m\u001b[0mindex\u001b[0m\u001b[0;34m(\u001b[0m\u001b[0;34m':'\u001b[0m\u001b[0;34m)\u001b[0m\u001b[0;34m+\u001b[0m\u001b[0;36m1\u001b[0m\u001b[0;34m:\u001b[0m\u001b[0;34m]\u001b[0m\u001b[0;34m)\u001b[0m\u001b[0;34m\u001b[0m\u001b[0m\n\u001b[1;32m      8\u001b[0m     \u001b[0minput_vector\u001b[0m\u001b[0;34m[\u001b[0m\u001b[0mcol_val\u001b[0m\u001b[0;34m]\u001b[0m\u001b[0;34m=\u001b[0m\u001b[0mitem_val\u001b[0m\u001b[0;34m\u001b[0m\u001b[0m\n\u001b[0;32m----> 9\u001b[0;31m \u001b[0mmake_prediction\u001b[0m\u001b[0;34m(\u001b[0m\u001b[0minput_vector\u001b[0m\u001b[0;34m,\u001b[0m\u001b[0mw0\u001b[0m\u001b[0;34m,\u001b[0m\u001b[0mwj\u001b[0m\u001b[0;34m,\u001b[0m\u001b[0mvj\u001b[0m\u001b[0;34m)\u001b[0m\u001b[0;34m\u001b[0m\u001b[0m\n\u001b[0m",
      "\u001b[0;32m<ipython-input-32-583a1ce701a9>\u001b[0m in \u001b[0;36mmake_prediction\u001b[0;34m(input_vector, w0, wj, vj)\u001b[0m\n\u001b[1;32m      5\u001b[0m     \u001b[0;32mfor\u001b[0m \u001b[0mx\u001b[0m \u001b[0;32min\u001b[0m \u001b[0mrange\u001b[0m\u001b[0;34m(\u001b[0m\u001b[0mN\u001b[0m\u001b[0;34m)\u001b[0m\u001b[0;34m:\u001b[0m\u001b[0;34m\u001b[0m\u001b[0m\n\u001b[1;32m      6\u001b[0m         \u001b[0;32mfor\u001b[0m \u001b[0my\u001b[0m \u001b[0;32min\u001b[0m \u001b[0mrange\u001b[0m\u001b[0;34m(\u001b[0m\u001b[0mx\u001b[0m\u001b[0;34m+\u001b[0m\u001b[0;36m1\u001b[0m\u001b[0;34m,\u001b[0m \u001b[0mN\u001b[0m\u001b[0;34m)\u001b[0m\u001b[0;34m:\u001b[0m\u001b[0;34m\u001b[0m\u001b[0m\n\u001b[0;32m----> 7\u001b[0;31m             \u001b[0mdot\u001b[0m \u001b[0;34m=\u001b[0m \u001b[0mnp\u001b[0m\u001b[0;34m.\u001b[0m\u001b[0mdot\u001b[0m\u001b[0;34m(\u001b[0m\u001b[0mvj\u001b[0m\u001b[0;34m[\u001b[0m\u001b[0mx\u001b[0m\u001b[0;34m]\u001b[0m\u001b[0;34m,\u001b[0m\u001b[0mvj\u001b[0m\u001b[0;34m[\u001b[0m\u001b[0my\u001b[0m\u001b[0;34m]\u001b[0m\u001b[0;34m)\u001b[0m\u001b[0;34m\u001b[0m\u001b[0m\n\u001b[0m\u001b[1;32m      8\u001b[0m             \u001b[0mdot_val\u001b[0m \u001b[0;34m=\u001b[0m \u001b[0mdot\u001b[0m\u001b[0;34m*\u001b[0m\u001b[0minput_vector\u001b[0m\u001b[0;34m[\u001b[0m\u001b[0mx\u001b[0m\u001b[0;34m]\u001b[0m\u001b[0;34m*\u001b[0m\u001b[0minput_vector\u001b[0m\u001b[0;34m[\u001b[0m\u001b[0my\u001b[0m\u001b[0;34m]\u001b[0m\u001b[0;34m\u001b[0m\u001b[0m\n\u001b[1;32m      9\u001b[0m             \u001b[0mbinary_sum\u001b[0m\u001b[0;34m+=\u001b[0m\u001b[0mdot_val\u001b[0m\u001b[0;34m\u001b[0m\u001b[0m\n",
      "\u001b[0;31mKeyboardInterrupt\u001b[0m: "
     ]
    }
   ],
   "source": [
    "#Given a string (line from the libfm testing set), outputs an input vector\n",
    "def create_input_vector(sample, num_col): \n",
    "    input_vector=[0]*num_col\n",
    "    sample_split = sample.split(' ')\n",
    "    sample_split = sample_split[1:]\n",
    "    for s in sample_split:\n",
    "        col_val = int(s[:s.index(':')])\n",
    "        item_val = float(s[s.index(':')+1:])\n",
    "        input_vector[col_val]=item_val\n",
    "    return input_vector\n"
   ]
  },
  {
   "cell_type": "code",
   "execution_count": null,
   "metadata": {
    "collapsed": true
   },
   "outputs": [],
   "source": [
    "sample = '3 10714:1 60589:1 63429:0.006412124744972311 63437:0.01399009035266686 63438:0.3672398717575051 63439:0.1002623141941125 63442:0.08394054211600116 63444:0.004954823666569514 63449:0.06324686680268143 63451:0.1839113960944331 63456:0.1305741766248907 63458:0.03410084523462548 63465:0.01136694841154182'\n",
    "input_vector = create_input_vector(sample, num_col)\n",
    "make_prediction(input_vector,w0,wj,vj)"
   ]
  }
 ],
 "metadata": {
  "kernelspec": {
   "display_name": "Python 2",
   "language": "python",
   "name": "python2"
  },
  "language_info": {
   "codemirror_mode": {
    "name": "ipython",
    "version": 2
   },
   "file_extension": ".py",
   "mimetype": "text/x-python",
   "name": "python",
   "nbconvert_exporter": "python",
   "pygments_lexer": "ipython2",
   "version": "2.7.14"
  }
 },
 "nbformat": 4,
 "nbformat_minor": 2
}
