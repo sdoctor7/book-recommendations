{
 "cells": [
  {
   "cell_type": "markdown",
   "metadata": {},
   "source": [
    "This notebook contains code to create the matrix used for our FM model. It will contain, from left to right, for every rating:\n",
    "- user (in dummy format)\n",
    "- book (in dummy format)\n",
    "- author (in dummy format)\n",
    "- language (in dummy format)\n",
    "- year of publication\n",
    "- NLP features\n",
    "- genre tags"
   ]
  },
  {
   "cell_type": "code",
   "execution_count": 2,
   "metadata": {
    "collapsed": true
   },
   "outputs": [],
   "source": [
    "import pandas as pd\n",
    "import numpy as np\n",
    "from sklearn.model_selection import train_test_split\n",
    "from scipy.sparse import csc_matrix, lil_matrix, save_npz, hstack\n",
    "from sklearn.preprocessing import Normalizer, LabelEncoder\n",
    "from sklearn.datasets import dump_svmlight_file"
   ]
  },
  {
   "cell_type": "code",
   "execution_count": 3,
   "metadata": {
    "collapsed": true
   },
   "outputs": [],
   "source": [
    "ratings = pd.read_csv('../ratings_us.csv') # pure ratings data\n",
    "books_info = pd.read_csv('books_meta_info.csv') # book metadata\n",
    "nlp = pd.read_pickle('books_with_summaries.p') # book nlp features"
   ]
  },
  {
   "cell_type": "markdown",
   "metadata": {},
   "source": [
    "## Ratings"
   ]
  },
  {
   "cell_type": "code",
   "execution_count": 4,
   "metadata": {
    "collapsed": true
   },
   "outputs": [],
   "source": [
    "y = ratings.rating.values"
   ]
  },
  {
   "cell_type": "markdown",
   "metadata": {},
   "source": [
    "## User Dummies"
   ]
  },
  {
   "cell_type": "code",
   "execution_count": 5,
   "metadata": {},
   "outputs": [
    {
     "data": {
      "text/html": [
       "<div>\n",
       "<style>\n",
       "    .dataframe thead tr:only-child th {\n",
       "        text-align: right;\n",
       "    }\n",
       "\n",
       "    .dataframe thead th {\n",
       "        text-align: left;\n",
       "    }\n",
       "\n",
       "    .dataframe tbody tr th {\n",
       "        vertical-align: top;\n",
       "    }\n",
       "</style>\n",
       "<table border=\"1\" class=\"dataframe\">\n",
       "  <thead>\n",
       "    <tr style=\"text-align: right;\">\n",
       "      <th></th>\n",
       "      <th>user_id</th>\n",
       "      <th>book_id</th>\n",
       "      <th>rating</th>\n",
       "    </tr>\n",
       "  </thead>\n",
       "  <tbody>\n",
       "    <tr>\n",
       "      <th>0</th>\n",
       "      <td>1</td>\n",
       "      <td>258</td>\n",
       "      <td>5</td>\n",
       "    </tr>\n",
       "    <tr>\n",
       "      <th>1</th>\n",
       "      <td>2</td>\n",
       "      <td>4081</td>\n",
       "      <td>4</td>\n",
       "    </tr>\n",
       "    <tr>\n",
       "      <th>2</th>\n",
       "      <td>2</td>\n",
       "      <td>260</td>\n",
       "      <td>5</td>\n",
       "    </tr>\n",
       "    <tr>\n",
       "      <th>3</th>\n",
       "      <td>2</td>\n",
       "      <td>9296</td>\n",
       "      <td>5</td>\n",
       "    </tr>\n",
       "    <tr>\n",
       "      <th>4</th>\n",
       "      <td>2</td>\n",
       "      <td>2318</td>\n",
       "      <td>3</td>\n",
       "    </tr>\n",
       "  </tbody>\n",
       "</table>\n",
       "</div>"
      ],
      "text/plain": [
       "   user_id  book_id  rating\n",
       "0        1      258       5\n",
       "1        2     4081       4\n",
       "2        2      260       5\n",
       "3        2     9296       5\n",
       "4        2     2318       3"
      ]
     },
     "execution_count": 5,
     "metadata": {},
     "output_type": "execute_result"
    }
   ],
   "source": [
    "ratings.head()"
   ]
  },
  {
   "cell_type": "code",
   "execution_count": 6,
   "metadata": {},
   "outputs": [
    {
     "data": {
      "text/plain": [
       "53428"
      ]
     },
     "execution_count": 6,
     "metadata": {},
     "output_type": "execute_result"
    }
   ],
   "source": [
    "len(ratings.user_id.unique())"
   ]
  },
  {
   "cell_type": "code",
   "execution_count": 7,
   "metadata": {
    "collapsed": true
   },
   "outputs": [],
   "source": [
    "def numpy_get_dummies(array, zero_index=False):\n",
    "    sparse = csc_matrix((array.size, array.max()+1)) # creates one extra column for zero index\n",
    "    sparse[np.arange(array.size), array] = 1         # so it can use the ids 1-10000 as indices\n",
    "    if zero_index:\n",
    "        return sparse # don't get rid of the zero column\n",
    "    else:\n",
    "        return sparse[:,1:] # get rid of the zero column"
   ]
  },
  {
   "cell_type": "code",
   "execution_count": 8,
   "metadata": {
    "collapsed": true
   },
   "outputs": [],
   "source": [
    "user_ids = ratings.user_id.values"
   ]
  },
  {
   "cell_type": "code",
   "execution_count": 9,
   "metadata": {},
   "outputs": [
    {
     "name": "stderr",
     "output_type": "stream",
     "text": [
      "C:\\Users\\lohmu\\Anaconda3\\lib\\site-packages\\scipy\\sparse\\compressed.py:774: SparseEfficiencyWarning: Changing the sparsity structure of a csc_matrix is expensive. lil_matrix is more efficient.\n",
      "  SparseEfficiencyWarning)\n"
     ]
    }
   ],
   "source": [
    "users_dummies = numpy_get_dummies(user_ids)"
   ]
  },
  {
   "cell_type": "code",
   "execution_count": 10,
   "metadata": {},
   "outputs": [
    {
     "data": {
      "text/plain": [
       "(5976695, 53428)"
      ]
     },
     "execution_count": 10,
     "metadata": {},
     "output_type": "execute_result"
    }
   ],
   "source": [
    "users_dummies.shape # n_ratings x n_users"
   ]
  },
  {
   "cell_type": "code",
   "execution_count": 11,
   "metadata": {},
   "outputs": [
    {
     "data": {
      "text/plain": [
       "5976695.0"
      ]
     },
     "execution_count": 11,
     "metadata": {},
     "output_type": "execute_result"
    }
   ],
   "source": [
    "users_dummies.sum() # sanity check"
   ]
  },
  {
   "cell_type": "markdown",
   "metadata": {},
   "source": [
    "## Book Dummies"
   ]
  },
  {
   "cell_type": "code",
   "execution_count": 12,
   "metadata": {},
   "outputs": [
    {
     "data": {
      "text/plain": [
       "10000"
      ]
     },
     "execution_count": 12,
     "metadata": {},
     "output_type": "execute_result"
    }
   ],
   "source": [
    "len(ratings.book_id.unique())"
   ]
  },
  {
   "cell_type": "code",
   "execution_count": 13,
   "metadata": {
    "collapsed": true
   },
   "outputs": [],
   "source": [
    "book_ids = ratings.book_id.values"
   ]
  },
  {
   "cell_type": "code",
   "execution_count": 14,
   "metadata": {},
   "outputs": [
    {
     "name": "stderr",
     "output_type": "stream",
     "text": [
      "C:\\Users\\lohmu\\Anaconda3\\lib\\site-packages\\scipy\\sparse\\compressed.py:774: SparseEfficiencyWarning: Changing the sparsity structure of a csc_matrix is expensive. lil_matrix is more efficient.\n",
      "  SparseEfficiencyWarning)\n"
     ]
    }
   ],
   "source": [
    "book_dummies = numpy_get_dummies(book_ids)"
   ]
  },
  {
   "cell_type": "code",
   "execution_count": 15,
   "metadata": {},
   "outputs": [
    {
     "data": {
      "text/plain": [
       "(5976695, 10000)"
      ]
     },
     "execution_count": 15,
     "metadata": {},
     "output_type": "execute_result"
    }
   ],
   "source": [
    "book_dummies.shape # n_ratings x n_books"
   ]
  },
  {
   "cell_type": "code",
   "execution_count": 16,
   "metadata": {},
   "outputs": [
    {
     "data": {
      "text/plain": [
       "5976695.0"
      ]
     },
     "execution_count": 16,
     "metadata": {},
     "output_type": "execute_result"
    }
   ],
   "source": [
    "book_dummies.sum() # sanity check"
   ]
  },
  {
   "cell_type": "markdown",
   "metadata": {},
   "source": [
    "## Author Dummies"
   ]
  },
  {
   "cell_type": "code",
   "execution_count": 17,
   "metadata": {},
   "outputs": [
    {
     "data": {
      "text/html": [
       "<div>\n",
       "<style>\n",
       "    .dataframe thead tr:only-child th {\n",
       "        text-align: right;\n",
       "    }\n",
       "\n",
       "    .dataframe thead th {\n",
       "        text-align: left;\n",
       "    }\n",
       "\n",
       "    .dataframe tbody tr th {\n",
       "        vertical-align: top;\n",
       "    }\n",
       "</style>\n",
       "<table border=\"1\" class=\"dataframe\">\n",
       "  <thead>\n",
       "    <tr style=\"text-align: right;\">\n",
       "      <th></th>\n",
       "      <th>Unnamed: 0</th>\n",
       "      <th>book_id</th>\n",
       "      <th>goodreads_book_id</th>\n",
       "      <th>authors</th>\n",
       "      <th>original_publication_year</th>\n",
       "      <th>language_code</th>\n",
       "      <th>Art</th>\n",
       "      <th>Biography</th>\n",
       "      <th>Business</th>\n",
       "      <th>Chick Lit</th>\n",
       "      <th>...</th>\n",
       "      <th>Romance</th>\n",
       "      <th>Science</th>\n",
       "      <th>Science Fiction</th>\n",
       "      <th>Self Help</th>\n",
       "      <th>Spirituality</th>\n",
       "      <th>Sports</th>\n",
       "      <th>Suspense</th>\n",
       "      <th>Thriller</th>\n",
       "      <th>Travel</th>\n",
       "      <th>Young Adult</th>\n",
       "    </tr>\n",
       "  </thead>\n",
       "  <tbody>\n",
       "    <tr>\n",
       "      <th>0</th>\n",
       "      <td>0</td>\n",
       "      <td>1</td>\n",
       "      <td>2767052</td>\n",
       "      <td>Suzanne Collins</td>\n",
       "      <td>2008.0</td>\n",
       "      <td>eng</td>\n",
       "      <td>0.0</td>\n",
       "      <td>0.0</td>\n",
       "      <td>0.0</td>\n",
       "      <td>0.0</td>\n",
       "      <td>...</td>\n",
       "      <td>3341.0</td>\n",
       "      <td>0.0</td>\n",
       "      <td>8772.0</td>\n",
       "      <td>0.0</td>\n",
       "      <td>0.0</td>\n",
       "      <td>0.0</td>\n",
       "      <td>641.0</td>\n",
       "      <td>800.0</td>\n",
       "      <td>0.0</td>\n",
       "      <td>25968.0</td>\n",
       "    </tr>\n",
       "    <tr>\n",
       "      <th>1</th>\n",
       "      <td>1</td>\n",
       "      <td>2</td>\n",
       "      <td>3</td>\n",
       "      <td>J.K. Rowling, Mary GrandPré</td>\n",
       "      <td>1997.0</td>\n",
       "      <td>eng</td>\n",
       "      <td>0.0</td>\n",
       "      <td>0.0</td>\n",
       "      <td>0.0</td>\n",
       "      <td>0.0</td>\n",
       "      <td>...</td>\n",
       "      <td>0.0</td>\n",
       "      <td>0.0</td>\n",
       "      <td>0.0</td>\n",
       "      <td>0.0</td>\n",
       "      <td>0.0</td>\n",
       "      <td>0.0</td>\n",
       "      <td>0.0</td>\n",
       "      <td>0.0</td>\n",
       "      <td>0.0</td>\n",
       "      <td>14984.0</td>\n",
       "    </tr>\n",
       "    <tr>\n",
       "      <th>2</th>\n",
       "      <td>2</td>\n",
       "      <td>3</td>\n",
       "      <td>41865</td>\n",
       "      <td>Stephenie Meyer</td>\n",
       "      <td>2005.0</td>\n",
       "      <td>en-US</td>\n",
       "      <td>0.0</td>\n",
       "      <td>0.0</td>\n",
       "      <td>0.0</td>\n",
       "      <td>716.0</td>\n",
       "      <td>...</td>\n",
       "      <td>0.0</td>\n",
       "      <td>0.0</td>\n",
       "      <td>253.0</td>\n",
       "      <td>0.0</td>\n",
       "      <td>0.0</td>\n",
       "      <td>0.0</td>\n",
       "      <td>0.0</td>\n",
       "      <td>0.0</td>\n",
       "      <td>0.0</td>\n",
       "      <td>16640.0</td>\n",
       "    </tr>\n",
       "    <tr>\n",
       "      <th>3</th>\n",
       "      <td>3</td>\n",
       "      <td>4</td>\n",
       "      <td>2657</td>\n",
       "      <td>Harper Lee</td>\n",
       "      <td>1960.0</td>\n",
       "      <td>eng</td>\n",
       "      <td>0.0</td>\n",
       "      <td>0.0</td>\n",
       "      <td>0.0</td>\n",
       "      <td>0.0</td>\n",
       "      <td>...</td>\n",
       "      <td>0.0</td>\n",
       "      <td>0.0</td>\n",
       "      <td>0.0</td>\n",
       "      <td>0.0</td>\n",
       "      <td>0.0</td>\n",
       "      <td>0.0</td>\n",
       "      <td>0.0</td>\n",
       "      <td>0.0</td>\n",
       "      <td>0.0</td>\n",
       "      <td>2436.0</td>\n",
       "    </tr>\n",
       "    <tr>\n",
       "      <th>4</th>\n",
       "      <td>4</td>\n",
       "      <td>5</td>\n",
       "      <td>4671</td>\n",
       "      <td>F. Scott Fitzgerald</td>\n",
       "      <td>1925.0</td>\n",
       "      <td>eng</td>\n",
       "      <td>0.0</td>\n",
       "      <td>0.0</td>\n",
       "      <td>0.0</td>\n",
       "      <td>0.0</td>\n",
       "      <td>...</td>\n",
       "      <td>2090.0</td>\n",
       "      <td>0.0</td>\n",
       "      <td>0.0</td>\n",
       "      <td>0.0</td>\n",
       "      <td>0.0</td>\n",
       "      <td>0.0</td>\n",
       "      <td>0.0</td>\n",
       "      <td>0.0</td>\n",
       "      <td>0.0</td>\n",
       "      <td>397.0</td>\n",
       "    </tr>\n",
       "  </tbody>\n",
       "</table>\n",
       "<p>5 rows × 46 columns</p>\n",
       "</div>"
      ],
      "text/plain": [
       "   Unnamed: 0  book_id  goodreads_book_id                      authors  \\\n",
       "0           0        1            2767052              Suzanne Collins   \n",
       "1           1        2                  3  J.K. Rowling, Mary GrandPré   \n",
       "2           2        3              41865              Stephenie Meyer   \n",
       "3           3        4               2657                   Harper Lee   \n",
       "4           4        5               4671          F. Scott Fitzgerald   \n",
       "\n",
       "   original_publication_year language_code  Art  Biography  Business  \\\n",
       "0                     2008.0           eng  0.0        0.0       0.0   \n",
       "1                     1997.0           eng  0.0        0.0       0.0   \n",
       "2                     2005.0         en-US  0.0        0.0       0.0   \n",
       "3                     1960.0           eng  0.0        0.0       0.0   \n",
       "4                     1925.0           eng  0.0        0.0       0.0   \n",
       "\n",
       "   Chick Lit     ...       Romance  Science  Science Fiction  Self Help  \\\n",
       "0        0.0     ...        3341.0      0.0           8772.0        0.0   \n",
       "1        0.0     ...           0.0      0.0              0.0        0.0   \n",
       "2      716.0     ...           0.0      0.0            253.0        0.0   \n",
       "3        0.0     ...           0.0      0.0              0.0        0.0   \n",
       "4        0.0     ...        2090.0      0.0              0.0        0.0   \n",
       "\n",
       "   Spirituality  Sports  Suspense  Thriller  Travel  Young Adult  \n",
       "0           0.0     0.0     641.0     800.0     0.0      25968.0  \n",
       "1           0.0     0.0       0.0       0.0     0.0      14984.0  \n",
       "2           0.0     0.0       0.0       0.0     0.0      16640.0  \n",
       "3           0.0     0.0       0.0       0.0     0.0       2436.0  \n",
       "4           0.0     0.0       0.0       0.0     0.0        397.0  \n",
       "\n",
       "[5 rows x 46 columns]"
      ]
     },
     "execution_count": 17,
     "metadata": {},
     "output_type": "execute_result"
    }
   ],
   "source": [
    "books_info.head()"
   ]
  },
  {
   "cell_type": "markdown",
   "metadata": {},
   "source": [
    "###### Label Encode"
   ]
  },
  {
   "cell_type": "code",
   "execution_count": 43,
   "metadata": {
    "collapsed": true
   },
   "outputs": [],
   "source": [
    "books_authors = books_info[['book_id', 'authors']]"
   ]
  },
  {
   "cell_type": "code",
   "execution_count": 44,
   "metadata": {},
   "outputs": [
    {
     "data": {
      "text/plain": [
       "4664"
      ]
     },
     "execution_count": 44,
     "metadata": {},
     "output_type": "execute_result"
    }
   ],
   "source": [
    "len(books_authors.authors.unique())"
   ]
  },
  {
   "cell_type": "code",
   "execution_count": 45,
   "metadata": {},
   "outputs": [
    {
     "name": "stderr",
     "output_type": "stream",
     "text": [
      "C:\\Users\\lohmu\\Anaconda3\\lib\\site-packages\\ipykernel\\__main__.py:2: SettingWithCopyWarning: \n",
      "A value is trying to be set on a copy of a slice from a DataFrame.\n",
      "Try using .loc[row_indexer,col_indexer] = value instead\n",
      "\n",
      "See the caveats in the documentation: http://pandas.pydata.org/pandas-docs/stable/indexing.html#indexing-view-versus-copy\n",
      "  from ipykernel import kernelapp as app\n"
     ]
    }
   ],
   "source": [
    "le = LabelEncoder()\n",
    "books_authors['author_id'] = le.fit_transform(books_authors.authors)"
   ]
  },
  {
   "cell_type": "code",
   "execution_count": 46,
   "metadata": {},
   "outputs": [
    {
     "data": {
      "text/html": [
       "<div>\n",
       "<style>\n",
       "    .dataframe thead tr:only-child th {\n",
       "        text-align: right;\n",
       "    }\n",
       "\n",
       "    .dataframe thead th {\n",
       "        text-align: left;\n",
       "    }\n",
       "\n",
       "    .dataframe tbody tr th {\n",
       "        vertical-align: top;\n",
       "    }\n",
       "</style>\n",
       "<table border=\"1\" class=\"dataframe\">\n",
       "  <thead>\n",
       "    <tr style=\"text-align: right;\">\n",
       "      <th></th>\n",
       "      <th>book_id</th>\n",
       "      <th>authors</th>\n",
       "      <th>author_id</th>\n",
       "    </tr>\n",
       "  </thead>\n",
       "  <tbody>\n",
       "    <tr>\n",
       "      <th>0</th>\n",
       "      <td>1</td>\n",
       "      <td>Suzanne Collins</td>\n",
       "      <td>4222</td>\n",
       "    </tr>\n",
       "    <tr>\n",
       "      <th>1</th>\n",
       "      <td>2</td>\n",
       "      <td>J.K. Rowling, Mary GrandPré</td>\n",
       "      <td>1869</td>\n",
       "    </tr>\n",
       "    <tr>\n",
       "      <th>2</th>\n",
       "      <td>3</td>\n",
       "      <td>Stephenie Meyer</td>\n",
       "      <td>4153</td>\n",
       "    </tr>\n",
       "    <tr>\n",
       "      <th>3</th>\n",
       "      <td>4</td>\n",
       "      <td>Harper Lee</td>\n",
       "      <td>1652</td>\n",
       "    </tr>\n",
       "    <tr>\n",
       "      <th>4</th>\n",
       "      <td>5</td>\n",
       "      <td>F. Scott Fitzgerald</td>\n",
       "      <td>1351</td>\n",
       "    </tr>\n",
       "  </tbody>\n",
       "</table>\n",
       "</div>"
      ],
      "text/plain": [
       "   book_id                      authors  author_id\n",
       "0        1              Suzanne Collins       4222\n",
       "1        2  J.K. Rowling, Mary GrandPré       1869\n",
       "2        3              Stephenie Meyer       4153\n",
       "3        4                   Harper Lee       1652\n",
       "4        5          F. Scott Fitzgerald       1351"
      ]
     },
     "execution_count": 46,
     "metadata": {},
     "output_type": "execute_result"
    }
   ],
   "source": [
    "books_authors.head()"
   ]
  },
  {
   "cell_type": "markdown",
   "metadata": {},
   "source": [
    "###### Map to Ratings and Get Dummies"
   ]
  },
  {
   "cell_type": "code",
   "execution_count": 47,
   "metadata": {
    "collapsed": true
   },
   "outputs": [],
   "source": [
    "ratings_authors = ratings.merge(books_authors[['book_id', 'author_id']], on='book_id', how='left')"
   ]
  },
  {
   "cell_type": "code",
   "execution_count": 48,
   "metadata": {},
   "outputs": [
    {
     "name": "stderr",
     "output_type": "stream",
     "text": [
      "C:\\Users\\lohmu\\Anaconda3\\lib\\site-packages\\scipy\\sparse\\compressed.py:774: SparseEfficiencyWarning: Changing the sparsity structure of a csc_matrix is expensive. lil_matrix is more efficient.\n",
      "  SparseEfficiencyWarning)\n"
     ]
    }
   ],
   "source": [
    "authors_dummies = numpy_get_dummies(np.array(ratings_authors.author_id.values), zero_index=True)"
   ]
  },
  {
   "cell_type": "code",
   "execution_count": 49,
   "metadata": {},
   "outputs": [
    {
     "data": {
      "text/plain": [
       "(5976695, 4664)"
      ]
     },
     "execution_count": 49,
     "metadata": {},
     "output_type": "execute_result"
    }
   ],
   "source": [
    "authors_dummies.shape # n_ratings x n_authors"
   ]
  },
  {
   "cell_type": "code",
   "execution_count": 50,
   "metadata": {},
   "outputs": [
    {
     "data": {
      "text/plain": [
       "5976695.0"
      ]
     },
     "execution_count": 50,
     "metadata": {},
     "output_type": "execute_result"
    }
   ],
   "source": [
    "authors_dummies.sum() # sanity check"
   ]
  },
  {
   "cell_type": "markdown",
   "metadata": {},
   "source": [
    "## Language Dummies"
   ]
  },
  {
   "cell_type": "markdown",
   "metadata": {},
   "source": [
    "###### Fix English codes and Missing Values"
   ]
  },
  {
   "cell_type": "code",
   "execution_count": 51,
   "metadata": {
    "collapsed": true
   },
   "outputs": [],
   "source": [
    "books_languages = books_info[['book_id', 'language_code']]"
   ]
  },
  {
   "cell_type": "code",
   "execution_count": 52,
   "metadata": {
    "collapsed": true
   },
   "outputs": [],
   "source": [
    "english = ['eng', 'en-US', 'en-GB', 'en-CA', 'en']\n",
    "def map_lang(row): # maps all english codes to one, and labels NA values as unknown\n",
    "    if isinstance(row.language_code, str):\n",
    "        if row.language_code in english:\n",
    "            return 'eng'\n",
    "        else:\n",
    "            return row.language_code\n",
    "    else:\n",
    "        if np.isnan(row.language_code):\n",
    "            return 'unk'\n",
    "        else:\n",
    "            print(row.language_code)"
   ]
  },
  {
   "cell_type": "code",
   "execution_count": 53,
   "metadata": {},
   "outputs": [
    {
     "name": "stderr",
     "output_type": "stream",
     "text": [
      "C:\\Users\\lohmu\\Anaconda3\\lib\\site-packages\\ipykernel\\__main__.py:1: SettingWithCopyWarning: \n",
      "A value is trying to be set on a copy of a slice from a DataFrame.\n",
      "Try using .loc[row_indexer,col_indexer] = value instead\n",
      "\n",
      "See the caveats in the documentation: http://pandas.pydata.org/pandas-docs/stable/indexing.html#indexing-view-versus-copy\n",
      "  if __name__ == '__main__':\n"
     ]
    }
   ],
   "source": [
    "books_languages['language_mapped'] = books_languages.apply(lambda x: map_lang(x), axis=1)"
   ]
  },
  {
   "cell_type": "markdown",
   "metadata": {},
   "source": [
    "###### Label Encode"
   ]
  },
  {
   "cell_type": "code",
   "execution_count": 54,
   "metadata": {},
   "outputs": [
    {
     "name": "stderr",
     "output_type": "stream",
     "text": [
      "C:\\Users\\lohmu\\Anaconda3\\lib\\site-packages\\ipykernel\\__main__.py:2: SettingWithCopyWarning: \n",
      "A value is trying to be set on a copy of a slice from a DataFrame.\n",
      "Try using .loc[row_indexer,col_indexer] = value instead\n",
      "\n",
      "See the caveats in the documentation: http://pandas.pydata.org/pandas-docs/stable/indexing.html#indexing-view-versus-copy\n",
      "  from ipykernel import kernelapp as app\n"
     ]
    }
   ],
   "source": [
    "le = LabelEncoder()\n",
    "books_languages['language_id'] = le.fit_transform(books_languages.language_mapped)"
   ]
  },
  {
   "cell_type": "code",
   "execution_count": 55,
   "metadata": {},
   "outputs": [
    {
     "data": {
      "text/html": [
       "<div>\n",
       "<style>\n",
       "    .dataframe thead tr:only-child th {\n",
       "        text-align: right;\n",
       "    }\n",
       "\n",
       "    .dataframe thead th {\n",
       "        text-align: left;\n",
       "    }\n",
       "\n",
       "    .dataframe tbody tr th {\n",
       "        vertical-align: top;\n",
       "    }\n",
       "</style>\n",
       "<table border=\"1\" class=\"dataframe\">\n",
       "  <thead>\n",
       "    <tr style=\"text-align: right;\">\n",
       "      <th></th>\n",
       "      <th>book_id</th>\n",
       "      <th>language_code</th>\n",
       "      <th>language_mapped</th>\n",
       "      <th>language_id</th>\n",
       "    </tr>\n",
       "  </thead>\n",
       "  <tbody>\n",
       "    <tr>\n",
       "      <th>0</th>\n",
       "      <td>1</td>\n",
       "      <td>eng</td>\n",
       "      <td>eng</td>\n",
       "      <td>2</td>\n",
       "    </tr>\n",
       "    <tr>\n",
       "      <th>1</th>\n",
       "      <td>2</td>\n",
       "      <td>eng</td>\n",
       "      <td>eng</td>\n",
       "      <td>2</td>\n",
       "    </tr>\n",
       "    <tr>\n",
       "      <th>2</th>\n",
       "      <td>3</td>\n",
       "      <td>en-US</td>\n",
       "      <td>eng</td>\n",
       "      <td>2</td>\n",
       "    </tr>\n",
       "    <tr>\n",
       "      <th>3</th>\n",
       "      <td>4</td>\n",
       "      <td>eng</td>\n",
       "      <td>eng</td>\n",
       "      <td>2</td>\n",
       "    </tr>\n",
       "    <tr>\n",
       "      <th>4</th>\n",
       "      <td>5</td>\n",
       "      <td>eng</td>\n",
       "      <td>eng</td>\n",
       "      <td>2</td>\n",
       "    </tr>\n",
       "  </tbody>\n",
       "</table>\n",
       "</div>"
      ],
      "text/plain": [
       "   book_id language_code language_mapped  language_id\n",
       "0        1           eng             eng            2\n",
       "1        2           eng             eng            2\n",
       "2        3         en-US             eng            2\n",
       "3        4           eng             eng            2\n",
       "4        5           eng             eng            2"
      ]
     },
     "execution_count": 55,
     "metadata": {},
     "output_type": "execute_result"
    }
   ],
   "source": [
    "books_languages.head()"
   ]
  },
  {
   "cell_type": "code",
   "execution_count": 56,
   "metadata": {},
   "outputs": [
    {
     "data": {
      "text/plain": [
       "[0, 1, 2, 3, 4, 5, 6, 7, 8, 9, 10, 11, 12, 13, 14, 15, 16, 17, 18, 19, 20, 21]"
      ]
     },
     "execution_count": 56,
     "metadata": {},
     "output_type": "execute_result"
    }
   ],
   "source": [
    "sorted(books_languages.language_id.unique()) # NOTE THESE START AT ZERO!"
   ]
  },
  {
   "cell_type": "markdown",
   "metadata": {},
   "source": [
    "###### Map to Ratings and Get Dummies"
   ]
  },
  {
   "cell_type": "code",
   "execution_count": 57,
   "metadata": {
    "collapsed": true
   },
   "outputs": [],
   "source": [
    "ratings_languages = ratings.merge(books_languages[['book_id', 'language_id']], on='book_id', how='left')"
   ]
  },
  {
   "cell_type": "code",
   "execution_count": 58,
   "metadata": {},
   "outputs": [
    {
     "name": "stderr",
     "output_type": "stream",
     "text": [
      "C:\\Users\\lohmu\\Anaconda3\\lib\\site-packages\\scipy\\sparse\\compressed.py:774: SparseEfficiencyWarning: Changing the sparsity structure of a csc_matrix is expensive. lil_matrix is more efficient.\n",
      "  SparseEfficiencyWarning)\n"
     ]
    }
   ],
   "source": [
    "language_dummies = numpy_get_dummies(np.array(ratings_languages.language_id.values), zero_index=True)"
   ]
  },
  {
   "cell_type": "code",
   "execution_count": 59,
   "metadata": {},
   "outputs": [
    {
     "data": {
      "text/plain": [
       "(5976695, 22)"
      ]
     },
     "execution_count": 59,
     "metadata": {},
     "output_type": "execute_result"
    }
   ],
   "source": [
    "language_dummies.shape # n_ratings x n_languages"
   ]
  },
  {
   "cell_type": "code",
   "execution_count": 60,
   "metadata": {},
   "outputs": [
    {
     "data": {
      "text/plain": [
       "5976695.0"
      ]
     },
     "execution_count": 60,
     "metadata": {},
     "output_type": "execute_result"
    }
   ],
   "source": [
    "language_dummies.sum() # sanity check"
   ]
  },
  {
   "cell_type": "markdown",
   "metadata": {},
   "source": [
    "## Year of Publication"
   ]
  },
  {
   "cell_type": "code",
   "execution_count": 61,
   "metadata": {
    "collapsed": true
   },
   "outputs": [],
   "source": [
    "books_years = books_info[['book_id', 'original_publication_year']]"
   ]
  },
  {
   "cell_type": "markdown",
   "metadata": {},
   "source": [
    "###### Fill NA values with median"
   ]
  },
  {
   "cell_type": "code",
   "execution_count": 62,
   "metadata": {
    "collapsed": true
   },
   "outputs": [],
   "source": [
    "year_median = books_years.original_publication_year.median()"
   ]
  },
  {
   "cell_type": "code",
   "execution_count": 63,
   "metadata": {},
   "outputs": [
    {
     "data": {
      "text/plain": [
       "2004.0"
      ]
     },
     "execution_count": 63,
     "metadata": {},
     "output_type": "execute_result"
    }
   ],
   "source": [
    "year_median"
   ]
  },
  {
   "cell_type": "code",
   "execution_count": 64,
   "metadata": {},
   "outputs": [
    {
     "name": "stderr",
     "output_type": "stream",
     "text": [
      "C:\\Users\\lohmu\\Anaconda3\\lib\\site-packages\\pandas\\core\\generic.py:3549: SettingWithCopyWarning: \n",
      "A value is trying to be set on a copy of a slice from a DataFrame\n",
      "\n",
      "See the caveats in the documentation: http://pandas.pydata.org/pandas-docs/stable/indexing.html#indexing-view-versus-copy\n",
      "  self._update_inplace(new_data)\n"
     ]
    }
   ],
   "source": [
    "books_years.original_publication_year.fillna(value=year_median, inplace=True)"
   ]
  },
  {
   "cell_type": "markdown",
   "metadata": {},
   "source": [
    "###### Set values < 1700 to 1700"
   ]
  },
  {
   "cell_type": "code",
   "execution_count": 65,
   "metadata": {
    "collapsed": true
   },
   "outputs": [],
   "source": [
    "only_above_1700 = pd.concat([books_years.book_id, \n",
    "                             books_years.original_publication_year.where(\n",
    "                                books_years.original_publication_year > 1700, other=1700)], axis=1)"
   ]
  },
  {
   "cell_type": "code",
   "execution_count": 66,
   "metadata": {},
   "outputs": [
    {
     "data": {
      "text/html": [
       "<div>\n",
       "<style>\n",
       "    .dataframe thead tr:only-child th {\n",
       "        text-align: right;\n",
       "    }\n",
       "\n",
       "    .dataframe thead th {\n",
       "        text-align: left;\n",
       "    }\n",
       "\n",
       "    .dataframe tbody tr th {\n",
       "        vertical-align: top;\n",
       "    }\n",
       "</style>\n",
       "<table border=\"1\" class=\"dataframe\">\n",
       "  <thead>\n",
       "    <tr style=\"text-align: right;\">\n",
       "      <th></th>\n",
       "      <th>book_id</th>\n",
       "      <th>original_publication_year</th>\n",
       "    </tr>\n",
       "  </thead>\n",
       "  <tbody>\n",
       "    <tr>\n",
       "      <th>0</th>\n",
       "      <td>1</td>\n",
       "      <td>2008.0</td>\n",
       "    </tr>\n",
       "    <tr>\n",
       "      <th>1</th>\n",
       "      <td>2</td>\n",
       "      <td>1997.0</td>\n",
       "    </tr>\n",
       "    <tr>\n",
       "      <th>2</th>\n",
       "      <td>3</td>\n",
       "      <td>2005.0</td>\n",
       "    </tr>\n",
       "    <tr>\n",
       "      <th>3</th>\n",
       "      <td>4</td>\n",
       "      <td>1960.0</td>\n",
       "    </tr>\n",
       "    <tr>\n",
       "      <th>4</th>\n",
       "      <td>5</td>\n",
       "      <td>1925.0</td>\n",
       "    </tr>\n",
       "  </tbody>\n",
       "</table>\n",
       "</div>"
      ],
      "text/plain": [
       "   book_id  original_publication_year\n",
       "0        1                     2008.0\n",
       "1        2                     1997.0\n",
       "2        3                     2005.0\n",
       "3        4                     1960.0\n",
       "4        5                     1925.0"
      ]
     },
     "execution_count": 66,
     "metadata": {},
     "output_type": "execute_result"
    }
   ],
   "source": [
    "only_above_1700.head()"
   ]
  },
  {
   "cell_type": "code",
   "execution_count": 67,
   "metadata": {
    "collapsed": true
   },
   "outputs": [],
   "source": [
    "# Normalize the year to a value from 0 to 1 (1 is 2017, close to 0 (but never 0) is 1700)\n",
    "def normalize_year(x):\n",
    "    if np.isnan(x):\n",
    "        return np.nan\n",
    "    if int(x)<1700:\n",
    "        x=1700\n",
    "    return 1-((2017-x)/318.0)\n",
    "only_above_1700['original_publication_year']=only_above_1700.original_publication_year.apply(normalize_year)"
   ]
  },
  {
   "cell_type": "code",
   "execution_count": 68,
   "metadata": {},
   "outputs": [
    {
     "data": {
      "text/html": [
       "<div>\n",
       "<style>\n",
       "    .dataframe thead tr:only-child th {\n",
       "        text-align: right;\n",
       "    }\n",
       "\n",
       "    .dataframe thead th {\n",
       "        text-align: left;\n",
       "    }\n",
       "\n",
       "    .dataframe tbody tr th {\n",
       "        vertical-align: top;\n",
       "    }\n",
       "</style>\n",
       "<table border=\"1\" class=\"dataframe\">\n",
       "  <thead>\n",
       "    <tr style=\"text-align: right;\">\n",
       "      <th></th>\n",
       "      <th>book_id</th>\n",
       "      <th>original_publication_year</th>\n",
       "    </tr>\n",
       "  </thead>\n",
       "  <tbody>\n",
       "    <tr>\n",
       "      <th>0</th>\n",
       "      <td>1</td>\n",
       "      <td>0.971698</td>\n",
       "    </tr>\n",
       "    <tr>\n",
       "      <th>1</th>\n",
       "      <td>2</td>\n",
       "      <td>0.937107</td>\n",
       "    </tr>\n",
       "    <tr>\n",
       "      <th>2</th>\n",
       "      <td>3</td>\n",
       "      <td>0.962264</td>\n",
       "    </tr>\n",
       "    <tr>\n",
       "      <th>3</th>\n",
       "      <td>4</td>\n",
       "      <td>0.820755</td>\n",
       "    </tr>\n",
       "    <tr>\n",
       "      <th>4</th>\n",
       "      <td>5</td>\n",
       "      <td>0.710692</td>\n",
       "    </tr>\n",
       "  </tbody>\n",
       "</table>\n",
       "</div>"
      ],
      "text/plain": [
       "   book_id  original_publication_year\n",
       "0        1                   0.971698\n",
       "1        2                   0.937107\n",
       "2        3                   0.962264\n",
       "3        4                   0.820755\n",
       "4        5                   0.710692"
      ]
     },
     "execution_count": 68,
     "metadata": {},
     "output_type": "execute_result"
    }
   ],
   "source": [
    "only_above_1700.head()"
   ]
  },
  {
   "cell_type": "markdown",
   "metadata": {},
   "source": [
    "###### Map to Ratings"
   ]
  },
  {
   "cell_type": "code",
   "execution_count": 69,
   "metadata": {
    "collapsed": true
   },
   "outputs": [],
   "source": [
    "ratings_years = ratings.merge(only_above_1700, on='book_id', how='left').drop(['user_id', 'book_id', 'rating'], axis=1)"
   ]
  },
  {
   "cell_type": "code",
   "execution_count": 70,
   "metadata": {},
   "outputs": [
    {
     "data": {
      "text/plain": [
       "(5976695, 1)"
      ]
     },
     "execution_count": 70,
     "metadata": {},
     "output_type": "execute_result"
    }
   ],
   "source": [
    "ratings_years.shape # n_ratings x 1"
   ]
  },
  {
   "cell_type": "markdown",
   "metadata": {},
   "source": [
    "###### Make Sparse Matrix"
   ]
  },
  {
   "cell_type": "code",
   "execution_count": 71,
   "metadata": {
    "collapsed": true
   },
   "outputs": [],
   "source": [
    "years_sparse = csc_matrix(ratings_years)"
   ]
  },
  {
   "cell_type": "markdown",
   "metadata": {},
   "source": [
    "## NLP Features"
   ]
  },
  {
   "cell_type": "code",
   "execution_count": 89,
   "metadata": {
    "collapsed": true
   },
   "outputs": [],
   "source": [
    "books_summaries = pd.read_pickle('books_with_summaries.p')"
   ]
  },
  {
   "cell_type": "code",
   "execution_count": 90,
   "metadata": {},
   "outputs": [
    {
     "data": {
      "text/html": [
       "<div>\n",
       "<style>\n",
       "    .dataframe thead tr:only-child th {\n",
       "        text-align: right;\n",
       "    }\n",
       "\n",
       "    .dataframe thead th {\n",
       "        text-align: left;\n",
       "    }\n",
       "\n",
       "    .dataframe tbody tr th {\n",
       "        vertical-align: top;\n",
       "    }\n",
       "</style>\n",
       "<table border=\"1\" class=\"dataframe\">\n",
       "  <thead>\n",
       "    <tr style=\"text-align: right;\">\n",
       "      <th></th>\n",
       "      <th>book_id</th>\n",
       "      <th>0</th>\n",
       "      <th>1</th>\n",
       "      <th>2</th>\n",
       "      <th>3</th>\n",
       "      <th>4</th>\n",
       "      <th>5</th>\n",
       "      <th>6</th>\n",
       "      <th>7</th>\n",
       "      <th>8</th>\n",
       "      <th>...</th>\n",
       "      <th>30</th>\n",
       "      <th>31</th>\n",
       "      <th>32</th>\n",
       "      <th>33</th>\n",
       "      <th>34</th>\n",
       "      <th>35</th>\n",
       "      <th>36</th>\n",
       "      <th>37</th>\n",
       "      <th>38</th>\n",
       "      <th>39</th>\n",
       "    </tr>\n",
       "  </thead>\n",
       "  <tbody>\n",
       "    <tr>\n",
       "      <th>0</th>\n",
       "      <td>258</td>\n",
       "      <td>-0.230597</td>\n",
       "      <td>-0.250082</td>\n",
       "      <td>-0.377935</td>\n",
       "      <td>-0.266002</td>\n",
       "      <td>-0.304168</td>\n",
       "      <td>-0.343982</td>\n",
       "      <td>-0.243430</td>\n",
       "      <td>-0.288574</td>\n",
       "      <td>-0.235490</td>\n",
       "      <td>...</td>\n",
       "      <td>2.251627</td>\n",
       "      <td>-0.114333</td>\n",
       "      <td>1.656405</td>\n",
       "      <td>1.347895</td>\n",
       "      <td>0.134338</td>\n",
       "      <td>-0.168178</td>\n",
       "      <td>0.339720</td>\n",
       "      <td>-0.092151</td>\n",
       "      <td>-1.892633</td>\n",
       "      <td>0.210597</td>\n",
       "    </tr>\n",
       "    <tr>\n",
       "      <th>1</th>\n",
       "      <td>4081</td>\n",
       "      <td>-0.308547</td>\n",
       "      <td>-0.288131</td>\n",
       "      <td>-0.474792</td>\n",
       "      <td>0.096718</td>\n",
       "      <td>-0.311331</td>\n",
       "      <td>-0.297464</td>\n",
       "      <td>-0.357227</td>\n",
       "      <td>0.005336</td>\n",
       "      <td>-0.166258</td>\n",
       "      <td>...</td>\n",
       "      <td>-4.709953</td>\n",
       "      <td>-2.067705</td>\n",
       "      <td>-2.183916</td>\n",
       "      <td>-1.984647</td>\n",
       "      <td>-2.578708</td>\n",
       "      <td>0.348261</td>\n",
       "      <td>0.182132</td>\n",
       "      <td>0.210395</td>\n",
       "      <td>0.877238</td>\n",
       "      <td>1.475320</td>\n",
       "    </tr>\n",
       "    <tr>\n",
       "      <th>2</th>\n",
       "      <td>260</td>\n",
       "      <td>0.100000</td>\n",
       "      <td>0.100000</td>\n",
       "      <td>0.100000</td>\n",
       "      <td>0.100000</td>\n",
       "      <td>0.100000</td>\n",
       "      <td>0.100000</td>\n",
       "      <td>0.100000</td>\n",
       "      <td>0.100000</td>\n",
       "      <td>0.100000</td>\n",
       "      <td>...</td>\n",
       "      <td>0.100000</td>\n",
       "      <td>0.100000</td>\n",
       "      <td>0.100000</td>\n",
       "      <td>0.100000</td>\n",
       "      <td>0.100000</td>\n",
       "      <td>0.100000</td>\n",
       "      <td>0.100000</td>\n",
       "      <td>0.100000</td>\n",
       "      <td>0.100000</td>\n",
       "      <td>0.100000</td>\n",
       "    </tr>\n",
       "    <tr>\n",
       "      <th>3</th>\n",
       "      <td>9296</td>\n",
       "      <td>-0.240595</td>\n",
       "      <td>-0.186942</td>\n",
       "      <td>-0.019210</td>\n",
       "      <td>-0.341454</td>\n",
       "      <td>-0.223834</td>\n",
       "      <td>-0.308025</td>\n",
       "      <td>-0.311226</td>\n",
       "      <td>-0.154156</td>\n",
       "      <td>-0.214751</td>\n",
       "      <td>...</td>\n",
       "      <td>1.545850</td>\n",
       "      <td>-0.368972</td>\n",
       "      <td>-2.457852</td>\n",
       "      <td>-0.854603</td>\n",
       "      <td>3.318846</td>\n",
       "      <td>0.407702</td>\n",
       "      <td>2.294161</td>\n",
       "      <td>0.442469</td>\n",
       "      <td>3.453820</td>\n",
       "      <td>-0.043973</td>\n",
       "    </tr>\n",
       "    <tr>\n",
       "      <th>4</th>\n",
       "      <td>2318</td>\n",
       "      <td>-0.262850</td>\n",
       "      <td>-0.283931</td>\n",
       "      <td>-0.338522</td>\n",
       "      <td>-0.293817</td>\n",
       "      <td>-0.228251</td>\n",
       "      <td>-0.293628</td>\n",
       "      <td>-0.268385</td>\n",
       "      <td>-0.141414</td>\n",
       "      <td>-0.178740</td>\n",
       "      <td>...</td>\n",
       "      <td>-2.150216</td>\n",
       "      <td>2.403672</td>\n",
       "      <td>-1.876621</td>\n",
       "      <td>3.148182</td>\n",
       "      <td>-1.488503</td>\n",
       "      <td>-4.015573</td>\n",
       "      <td>-0.856176</td>\n",
       "      <td>-0.201446</td>\n",
       "      <td>-0.743828</td>\n",
       "      <td>1.455489</td>\n",
       "    </tr>\n",
       "  </tbody>\n",
       "</table>\n",
       "<p>5 rows × 41 columns</p>\n",
       "</div>"
      ],
      "text/plain": [
       "   book_id         0         1         2         3         4         5  \\\n",
       "0      258 -0.230597 -0.250082 -0.377935 -0.266002 -0.304168 -0.343982   \n",
       "1     4081 -0.308547 -0.288131 -0.474792  0.096718 -0.311331 -0.297464   \n",
       "2      260  0.100000  0.100000  0.100000  0.100000  0.100000  0.100000   \n",
       "3     9296 -0.240595 -0.186942 -0.019210 -0.341454 -0.223834 -0.308025   \n",
       "4     2318 -0.262850 -0.283931 -0.338522 -0.293817 -0.228251 -0.293628   \n",
       "\n",
       "          6         7         8    ...           30        31        32  \\\n",
       "0 -0.243430 -0.288574 -0.235490    ...     2.251627 -0.114333  1.656405   \n",
       "1 -0.357227  0.005336 -0.166258    ...    -4.709953 -2.067705 -2.183916   \n",
       "2  0.100000  0.100000  0.100000    ...     0.100000  0.100000  0.100000   \n",
       "3 -0.311226 -0.154156 -0.214751    ...     1.545850 -0.368972 -2.457852   \n",
       "4 -0.268385 -0.141414 -0.178740    ...    -2.150216  2.403672 -1.876621   \n",
       "\n",
       "         33        34        35        36        37        38        39  \n",
       "0  1.347895  0.134338 -0.168178  0.339720 -0.092151 -1.892633  0.210597  \n",
       "1 -1.984647 -2.578708  0.348261  0.182132  0.210395  0.877238  1.475320  \n",
       "2  0.100000  0.100000  0.100000  0.100000  0.100000  0.100000  0.100000  \n",
       "3 -0.854603  3.318846  0.407702  2.294161  0.442469  3.453820 -0.043973  \n",
       "4  3.148182 -1.488503 -4.015573 -0.856176 -0.201446 -0.743828  1.455489  \n",
       "\n",
       "[5 rows x 41 columns]"
      ]
     },
     "execution_count": 90,
     "metadata": {},
     "output_type": "execute_result"
    }
   ],
   "source": [
    "books_summaries.head()"
   ]
  },
  {
   "cell_type": "code",
   "execution_count": 91,
   "metadata": {},
   "outputs": [
    {
     "data": {
      "text/plain": [
       "Index(['book_id',         0,         1,         2,         3,         4,\n",
       "               5,         6,         7,         8,         9,        10,\n",
       "              11,        12,        13,        14,        15,        16,\n",
       "              17,        18,        19,        20,        21,        22,\n",
       "              23,        24,        25,        26,        27,        28,\n",
       "              29,        30,        31,        32,        33,        34,\n",
       "              35,        36,        37,        38,        39],\n",
       "      dtype='object')"
      ]
     },
     "execution_count": 91,
     "metadata": {},
     "output_type": "execute_result"
    }
   ],
   "source": [
    "books_summaries.columns"
   ]
  },
  {
   "cell_type": "markdown",
   "metadata": {},
   "source": [
    "#### Scale the Features\n",
    "Scale first five columns of the NLP features (both models) to values from 0 to 1. "
   ]
  },
  {
   "cell_type": "code",
   "execution_count": 92,
   "metadata": {},
   "outputs": [],
   "source": [
    "from sklearn.preprocessing import MinMaxScaler\n",
    "scaler = MinMaxScaler()\n",
    "books_summaries[[0, 1, 2, 3, 4, 20, 21, 22, 23, 24]] = scaler.fit_transform(books_summaries[[0, 1, 2, 3, 4, 20, 21, 22, 23, 24]])"
   ]
  },
  {
   "cell_type": "code",
   "execution_count": 93,
   "metadata": {},
   "outputs": [
    {
     "data": {
      "text/html": [
       "<div>\n",
       "<style>\n",
       "    .dataframe thead tr:only-child th {\n",
       "        text-align: right;\n",
       "    }\n",
       "\n",
       "    .dataframe thead th {\n",
       "        text-align: left;\n",
       "    }\n",
       "\n",
       "    .dataframe tbody tr th {\n",
       "        vertical-align: top;\n",
       "    }\n",
       "</style>\n",
       "<table border=\"1\" class=\"dataframe\">\n",
       "  <thead>\n",
       "    <tr style=\"text-align: right;\">\n",
       "      <th></th>\n",
       "      <th>book_id</th>\n",
       "      <th>0</th>\n",
       "      <th>1</th>\n",
       "      <th>2</th>\n",
       "      <th>3</th>\n",
       "      <th>4</th>\n",
       "      <th>5</th>\n",
       "      <th>6</th>\n",
       "      <th>7</th>\n",
       "      <th>8</th>\n",
       "      <th>...</th>\n",
       "      <th>30</th>\n",
       "      <th>31</th>\n",
       "      <th>32</th>\n",
       "      <th>33</th>\n",
       "      <th>34</th>\n",
       "      <th>35</th>\n",
       "      <th>36</th>\n",
       "      <th>37</th>\n",
       "      <th>38</th>\n",
       "      <th>39</th>\n",
       "    </tr>\n",
       "  </thead>\n",
       "  <tbody>\n",
       "    <tr>\n",
       "      <th>0</th>\n",
       "      <td>258</td>\n",
       "      <td>0.004051</td>\n",
       "      <td>0.000354</td>\n",
       "      <td>0.014170</td>\n",
       "      <td>0.020822</td>\n",
       "      <td>0.017178</td>\n",
       "      <td>-0.343982</td>\n",
       "      <td>-0.243430</td>\n",
       "      <td>-0.288574</td>\n",
       "      <td>-0.235490</td>\n",
       "      <td>...</td>\n",
       "      <td>2.251627</td>\n",
       "      <td>-0.114333</td>\n",
       "      <td>1.656405</td>\n",
       "      <td>1.347895</td>\n",
       "      <td>0.134338</td>\n",
       "      <td>-0.168178</td>\n",
       "      <td>0.339720</td>\n",
       "      <td>-0.092151</td>\n",
       "      <td>-1.892633</td>\n",
       "      <td>0.210597</td>\n",
       "    </tr>\n",
       "    <tr>\n",
       "      <th>1</th>\n",
       "      <td>4081</td>\n",
       "      <td>0.003982</td>\n",
       "      <td>0.000319</td>\n",
       "      <td>0.014007</td>\n",
       "      <td>0.021305</td>\n",
       "      <td>0.017169</td>\n",
       "      <td>-0.297464</td>\n",
       "      <td>-0.357227</td>\n",
       "      <td>0.005336</td>\n",
       "      <td>-0.166258</td>\n",
       "      <td>...</td>\n",
       "      <td>-4.709953</td>\n",
       "      <td>-2.067705</td>\n",
       "      <td>-2.183916</td>\n",
       "      <td>-1.984647</td>\n",
       "      <td>-2.578708</td>\n",
       "      <td>0.348261</td>\n",
       "      <td>0.182132</td>\n",
       "      <td>0.210395</td>\n",
       "      <td>0.877238</td>\n",
       "      <td>1.475320</td>\n",
       "    </tr>\n",
       "    <tr>\n",
       "      <th>2</th>\n",
       "      <td>260</td>\n",
       "      <td>0.004343</td>\n",
       "      <td>0.000672</td>\n",
       "      <td>0.014975</td>\n",
       "      <td>0.021310</td>\n",
       "      <td>0.017692</td>\n",
       "      <td>0.100000</td>\n",
       "      <td>0.100000</td>\n",
       "      <td>0.100000</td>\n",
       "      <td>0.100000</td>\n",
       "      <td>...</td>\n",
       "      <td>0.100000</td>\n",
       "      <td>0.100000</td>\n",
       "      <td>0.100000</td>\n",
       "      <td>0.100000</td>\n",
       "      <td>0.100000</td>\n",
       "      <td>0.100000</td>\n",
       "      <td>0.100000</td>\n",
       "      <td>0.100000</td>\n",
       "      <td>0.100000</td>\n",
       "      <td>0.100000</td>\n",
       "    </tr>\n",
       "    <tr>\n",
       "      <th>3</th>\n",
       "      <td>9296</td>\n",
       "      <td>0.004042</td>\n",
       "      <td>0.000411</td>\n",
       "      <td>0.014774</td>\n",
       "      <td>0.020722</td>\n",
       "      <td>0.017280</td>\n",
       "      <td>-0.308025</td>\n",
       "      <td>-0.311226</td>\n",
       "      <td>-0.154156</td>\n",
       "      <td>-0.214751</td>\n",
       "      <td>...</td>\n",
       "      <td>1.545850</td>\n",
       "      <td>-0.368972</td>\n",
       "      <td>-2.457852</td>\n",
       "      <td>-0.854603</td>\n",
       "      <td>3.318846</td>\n",
       "      <td>0.407702</td>\n",
       "      <td>2.294161</td>\n",
       "      <td>0.442469</td>\n",
       "      <td>3.453820</td>\n",
       "      <td>-0.043973</td>\n",
       "    </tr>\n",
       "    <tr>\n",
       "      <th>4</th>\n",
       "      <td>2318</td>\n",
       "      <td>0.004023</td>\n",
       "      <td>0.000323</td>\n",
       "      <td>0.014237</td>\n",
       "      <td>0.020785</td>\n",
       "      <td>0.017275</td>\n",
       "      <td>-0.293628</td>\n",
       "      <td>-0.268385</td>\n",
       "      <td>-0.141414</td>\n",
       "      <td>-0.178740</td>\n",
       "      <td>...</td>\n",
       "      <td>-2.150216</td>\n",
       "      <td>2.403672</td>\n",
       "      <td>-1.876621</td>\n",
       "      <td>3.148182</td>\n",
       "      <td>-1.488503</td>\n",
       "      <td>-4.015573</td>\n",
       "      <td>-0.856176</td>\n",
       "      <td>-0.201446</td>\n",
       "      <td>-0.743828</td>\n",
       "      <td>1.455489</td>\n",
       "    </tr>\n",
       "  </tbody>\n",
       "</table>\n",
       "<p>5 rows × 41 columns</p>\n",
       "</div>"
      ],
      "text/plain": [
       "   book_id         0         1         2         3         4         5  \\\n",
       "0      258  0.004051  0.000354  0.014170  0.020822  0.017178 -0.343982   \n",
       "1     4081  0.003982  0.000319  0.014007  0.021305  0.017169 -0.297464   \n",
       "2      260  0.004343  0.000672  0.014975  0.021310  0.017692  0.100000   \n",
       "3     9296  0.004042  0.000411  0.014774  0.020722  0.017280 -0.308025   \n",
       "4     2318  0.004023  0.000323  0.014237  0.020785  0.017275 -0.293628   \n",
       "\n",
       "          6         7         8    ...           30        31        32  \\\n",
       "0 -0.243430 -0.288574 -0.235490    ...     2.251627 -0.114333  1.656405   \n",
       "1 -0.357227  0.005336 -0.166258    ...    -4.709953 -2.067705 -2.183916   \n",
       "2  0.100000  0.100000  0.100000    ...     0.100000  0.100000  0.100000   \n",
       "3 -0.311226 -0.154156 -0.214751    ...     1.545850 -0.368972 -2.457852   \n",
       "4 -0.268385 -0.141414 -0.178740    ...    -2.150216  2.403672 -1.876621   \n",
       "\n",
       "         33        34        35        36        37        38        39  \n",
       "0  1.347895  0.134338 -0.168178  0.339720 -0.092151 -1.892633  0.210597  \n",
       "1 -1.984647 -2.578708  0.348261  0.182132  0.210395  0.877238  1.475320  \n",
       "2  0.100000  0.100000  0.100000  0.100000  0.100000  0.100000  0.100000  \n",
       "3 -0.854603  3.318846  0.407702  2.294161  0.442469  3.453820 -0.043973  \n",
       "4  3.148182 -1.488503 -4.015573 -0.856176 -0.201446 -0.743828  1.455489  \n",
       "\n",
       "[5 rows x 41 columns]"
      ]
     },
     "execution_count": 93,
     "metadata": {},
     "output_type": "execute_result"
    }
   ],
   "source": [
    "books_summaries.head()"
   ]
  },
  {
   "cell_type": "code",
   "execution_count": 94,
   "metadata": {
    "collapsed": true
   },
   "outputs": [],
   "source": [
    "books_summaries=books_summaries[['book_id',0, 1, 2, 3, 4, 20, 21, 22, 23, 24]]"
   ]
  },
  {
   "cell_type": "markdown",
   "metadata": {},
   "source": [
    "###### Merge with Ratings"
   ]
  },
  {
   "cell_type": "code",
   "execution_count": 95,
   "metadata": {},
   "outputs": [],
   "source": [
    "ratings_nlp = ratings.merge(books_summaries, on='book_id', how='left').drop(['user_id', 'book_id', 'rating'], axis=1)"
   ]
  },
  {
   "cell_type": "code",
   "execution_count": 96,
   "metadata": {},
   "outputs": [
    {
     "data": {
      "text/plain": [
       "(5976695, 10)"
      ]
     },
     "execution_count": 96,
     "metadata": {},
     "output_type": "execute_result"
    }
   ],
   "source": [
    "ratings_nlp.shape # n_ratings x n_nlp_features"
   ]
  },
  {
   "cell_type": "markdown",
   "metadata": {},
   "source": [
    "###### Make Sparse Matrix"
   ]
  },
  {
   "cell_type": "code",
   "execution_count": 97,
   "metadata": {
    "collapsed": true
   },
   "outputs": [],
   "source": [
    "nlp_sparse = csc_matrix(ratings_nlp)"
   ]
  },
  {
   "cell_type": "markdown",
   "metadata": {},
   "source": [
    "## Genre Mapping"
   ]
  },
  {
   "cell_type": "markdown",
   "metadata": {},
   "source": [
    "###### Combine Genres into Broader Categories"
   ]
  },
  {
   "cell_type": "code",
   "execution_count": 98,
   "metadata": {
    "collapsed": true
   },
   "outputs": [],
   "source": [
    "def map_genres(row):\n",
    "    new_genres = {}\n",
    "    new_genres['book_id'] = row.book_id\n",
    "    new_genres['art_music'] = row.Art + row.Music + row.Poetry\n",
    "    new_genres['biography'] = row.Biography + row.Memoir\n",
    "    new_genres['business'] = row.Business + row.Psychology\n",
    "    new_genres['romance'] = row['Chick Lit'] + row.Romance\n",
    "    new_genres['children'] = row[\"Children's\"] + row['Young Adult']\n",
    "    new_genres['religion_philosophy'] = row.Christian + row.Religion + row.Philosophy + row.Spirituality\n",
    "    new_genres['classics'] = row.Classics\n",
    "    new_genres['comics'] = row.Comics + row['Graphic Novels'] + row.Manga\n",
    "    new_genres['contemporary'] = row.Contemporary\n",
    "    new_genres['cookbooks'] = row.Cookbooks\n",
    "    new_genres['mystery'] = row.Crime + row.Horror + row.Mystery + row.Suspense + row.Thriller\n",
    "    new_genres['scifi_fantasy'] = row.Fantasy + row.Paranormal + row['Science Fiction']\n",
    "    new_genres['fiction'] = row.Fiction\n",
    "    new_genres['gay_lesbian'] = row['Gay and Lesbian']\n",
    "    new_genres['hist_fiction'] = row['Historical Fiction']\n",
    "    new_genres['history'] = row.History\n",
    "    new_genres['humor'] = row['Humor and Comedy']\n",
    "    new_genres['nonfiction'] = row.Nonfiction\n",
    "    new_genres['science'] = row.Science\n",
    "    new_genres['self_help'] = row['Self Help']\n",
    "    new_genres['sports'] = row.Sports\n",
    "    new_genres['travel'] = row.Travel\n",
    "    return new_genres"
   ]
  },
  {
   "cell_type": "code",
   "execution_count": 99,
   "metadata": {
    "collapsed": true
   },
   "outputs": [],
   "source": [
    "books_genres = pd.DataFrame(list(books_info.apply(lambda x: map_genres(x), axis=1)))"
   ]
  },
  {
   "cell_type": "code",
   "execution_count": 100,
   "metadata": {},
   "outputs": [
    {
     "data": {
      "text/html": [
       "<div>\n",
       "<style>\n",
       "    .dataframe thead tr:only-child th {\n",
       "        text-align: right;\n",
       "    }\n",
       "\n",
       "    .dataframe thead th {\n",
       "        text-align: left;\n",
       "    }\n",
       "\n",
       "    .dataframe tbody tr th {\n",
       "        vertical-align: top;\n",
       "    }\n",
       "</style>\n",
       "<table border=\"1\" class=\"dataframe\">\n",
       "  <thead>\n",
       "    <tr style=\"text-align: right;\">\n",
       "      <th></th>\n",
       "      <th>art_music</th>\n",
       "      <th>biography</th>\n",
       "      <th>book_id</th>\n",
       "      <th>business</th>\n",
       "      <th>children</th>\n",
       "      <th>classics</th>\n",
       "      <th>comics</th>\n",
       "      <th>contemporary</th>\n",
       "      <th>cookbooks</th>\n",
       "      <th>fiction</th>\n",
       "      <th>...</th>\n",
       "      <th>humor</th>\n",
       "      <th>mystery</th>\n",
       "      <th>nonfiction</th>\n",
       "      <th>religion_philosophy</th>\n",
       "      <th>romance</th>\n",
       "      <th>science</th>\n",
       "      <th>scifi_fantasy</th>\n",
       "      <th>self_help</th>\n",
       "      <th>sports</th>\n",
       "      <th>travel</th>\n",
       "    </tr>\n",
       "  </thead>\n",
       "  <tbody>\n",
       "    <tr>\n",
       "      <th>0</th>\n",
       "      <td>0.0</td>\n",
       "      <td>0.0</td>\n",
       "      <td>1</td>\n",
       "      <td>0.0</td>\n",
       "      <td>25968.0</td>\n",
       "      <td>0.0</td>\n",
       "      <td>0.0</td>\n",
       "      <td>382.0</td>\n",
       "      <td>0.0</td>\n",
       "      <td>13819.0</td>\n",
       "      <td>...</td>\n",
       "      <td>0.0</td>\n",
       "      <td>1441.0</td>\n",
       "      <td>0.0</td>\n",
       "      <td>0.0</td>\n",
       "      <td>3341.0</td>\n",
       "      <td>0.0</td>\n",
       "      <td>19608.0</td>\n",
       "      <td>0.0</td>\n",
       "      <td>0.0</td>\n",
       "      <td>0.0</td>\n",
       "    </tr>\n",
       "    <tr>\n",
       "      <th>1</th>\n",
       "      <td>0.0</td>\n",
       "      <td>0.0</td>\n",
       "      <td>2</td>\n",
       "      <td>0.0</td>\n",
       "      <td>16755.0</td>\n",
       "      <td>1898.0</td>\n",
       "      <td>0.0</td>\n",
       "      <td>397.0</td>\n",
       "      <td>0.0</td>\n",
       "      <td>13239.0</td>\n",
       "      <td>...</td>\n",
       "      <td>0.0</td>\n",
       "      <td>657.0</td>\n",
       "      <td>0.0</td>\n",
       "      <td>0.0</td>\n",
       "      <td>0.0</td>\n",
       "      <td>0.0</td>\n",
       "      <td>48401.0</td>\n",
       "      <td>0.0</td>\n",
       "      <td>0.0</td>\n",
       "      <td>0.0</td>\n",
       "    </tr>\n",
       "    <tr>\n",
       "      <th>2</th>\n",
       "      <td>0.0</td>\n",
       "      <td>0.0</td>\n",
       "      <td>3</td>\n",
       "      <td>0.0</td>\n",
       "      <td>16640.0</td>\n",
       "      <td>0.0</td>\n",
       "      <td>0.0</td>\n",
       "      <td>503.0</td>\n",
       "      <td>0.0</td>\n",
       "      <td>6298.0</td>\n",
       "      <td>...</td>\n",
       "      <td>0.0</td>\n",
       "      <td>462.0</td>\n",
       "      <td>0.0</td>\n",
       "      <td>0.0</td>\n",
       "      <td>716.0</td>\n",
       "      <td>0.0</td>\n",
       "      <td>19721.0</td>\n",
       "      <td>0.0</td>\n",
       "      <td>0.0</td>\n",
       "      <td>0.0</td>\n",
       "    </tr>\n",
       "    <tr>\n",
       "      <th>3</th>\n",
       "      <td>0.0</td>\n",
       "      <td>0.0</td>\n",
       "      <td>4</td>\n",
       "      <td>0.0</td>\n",
       "      <td>2436.0</td>\n",
       "      <td>31068.0</td>\n",
       "      <td>0.0</td>\n",
       "      <td>253.0</td>\n",
       "      <td>0.0</td>\n",
       "      <td>879.0</td>\n",
       "      <td>...</td>\n",
       "      <td>0.0</td>\n",
       "      <td>555.0</td>\n",
       "      <td>0.0</td>\n",
       "      <td>0.0</td>\n",
       "      <td>0.0</td>\n",
       "      <td>0.0</td>\n",
       "      <td>0.0</td>\n",
       "      <td>0.0</td>\n",
       "      <td>0.0</td>\n",
       "      <td>0.0</td>\n",
       "    </tr>\n",
       "    <tr>\n",
       "      <th>4</th>\n",
       "      <td>0.0</td>\n",
       "      <td>0.0</td>\n",
       "      <td>5</td>\n",
       "      <td>0.0</td>\n",
       "      <td>397.0</td>\n",
       "      <td>32061.0</td>\n",
       "      <td>0.0</td>\n",
       "      <td>0.0</td>\n",
       "      <td>0.0</td>\n",
       "      <td>15360.0</td>\n",
       "      <td>...</td>\n",
       "      <td>0.0</td>\n",
       "      <td>0.0</td>\n",
       "      <td>0.0</td>\n",
       "      <td>0.0</td>\n",
       "      <td>2090.0</td>\n",
       "      <td>0.0</td>\n",
       "      <td>0.0</td>\n",
       "      <td>0.0</td>\n",
       "      <td>0.0</td>\n",
       "      <td>0.0</td>\n",
       "    </tr>\n",
       "  </tbody>\n",
       "</table>\n",
       "<p>5 rows × 23 columns</p>\n",
       "</div>"
      ],
      "text/plain": [
       "   art_music  biography  book_id  business  children  classics  comics  \\\n",
       "0        0.0        0.0        1       0.0   25968.0       0.0     0.0   \n",
       "1        0.0        0.0        2       0.0   16755.0    1898.0     0.0   \n",
       "2        0.0        0.0        3       0.0   16640.0       0.0     0.0   \n",
       "3        0.0        0.0        4       0.0    2436.0   31068.0     0.0   \n",
       "4        0.0        0.0        5       0.0     397.0   32061.0     0.0   \n",
       "\n",
       "   contemporary  cookbooks  fiction   ...    humor  mystery  nonfiction  \\\n",
       "0         382.0        0.0  13819.0   ...      0.0   1441.0         0.0   \n",
       "1         397.0        0.0  13239.0   ...      0.0    657.0         0.0   \n",
       "2         503.0        0.0   6298.0   ...      0.0    462.0         0.0   \n",
       "3         253.0        0.0    879.0   ...      0.0    555.0         0.0   \n",
       "4           0.0        0.0  15360.0   ...      0.0      0.0         0.0   \n",
       "\n",
       "   religion_philosophy  romance  science  scifi_fantasy  self_help  sports  \\\n",
       "0                  0.0   3341.0      0.0        19608.0        0.0     0.0   \n",
       "1                  0.0      0.0      0.0        48401.0        0.0     0.0   \n",
       "2                  0.0    716.0      0.0        19721.0        0.0     0.0   \n",
       "3                  0.0      0.0      0.0            0.0        0.0     0.0   \n",
       "4                  0.0   2090.0      0.0            0.0        0.0     0.0   \n",
       "\n",
       "   travel  \n",
       "0     0.0  \n",
       "1     0.0  \n",
       "2     0.0  \n",
       "3     0.0  \n",
       "4     0.0  \n",
       "\n",
       "[5 rows x 23 columns]"
      ]
     },
     "execution_count": 100,
     "metadata": {},
     "output_type": "execute_result"
    }
   ],
   "source": [
    "books_genres.head()"
   ]
  },
  {
   "cell_type": "markdown",
   "metadata": {},
   "source": [
    "###### L1 Normalize By Row"
   ]
  },
  {
   "cell_type": "code",
   "execution_count": 101,
   "metadata": {
    "collapsed": true
   },
   "outputs": [],
   "source": [
    "new_genres = books_genres.drop('book_id', axis=1).columns"
   ]
  },
  {
   "cell_type": "code",
   "execution_count": 102,
   "metadata": {
    "collapsed": true
   },
   "outputs": [],
   "source": [
    "books_genres_norm = pd.DataFrame(Normalizer(norm='l1').fit_transform(books_genres.drop('book_id', axis=1)), columns=new_genres)"
   ]
  },
  {
   "cell_type": "code",
   "execution_count": 103,
   "metadata": {},
   "outputs": [
    {
     "data": {
      "text/html": [
       "<div>\n",
       "<style>\n",
       "    .dataframe thead tr:only-child th {\n",
       "        text-align: right;\n",
       "    }\n",
       "\n",
       "    .dataframe thead th {\n",
       "        text-align: left;\n",
       "    }\n",
       "\n",
       "    .dataframe tbody tr th {\n",
       "        vertical-align: top;\n",
       "    }\n",
       "</style>\n",
       "<table border=\"1\" class=\"dataframe\">\n",
       "  <thead>\n",
       "    <tr style=\"text-align: right;\">\n",
       "      <th></th>\n",
       "      <th>art_music</th>\n",
       "      <th>biography</th>\n",
       "      <th>business</th>\n",
       "      <th>children</th>\n",
       "      <th>classics</th>\n",
       "      <th>comics</th>\n",
       "      <th>contemporary</th>\n",
       "      <th>cookbooks</th>\n",
       "      <th>fiction</th>\n",
       "      <th>gay_lesbian</th>\n",
       "      <th>...</th>\n",
       "      <th>humor</th>\n",
       "      <th>mystery</th>\n",
       "      <th>nonfiction</th>\n",
       "      <th>religion_philosophy</th>\n",
       "      <th>romance</th>\n",
       "      <th>science</th>\n",
       "      <th>scifi_fantasy</th>\n",
       "      <th>self_help</th>\n",
       "      <th>sports</th>\n",
       "      <th>travel</th>\n",
       "    </tr>\n",
       "  </thead>\n",
       "  <tbody>\n",
       "    <tr>\n",
       "      <th>0</th>\n",
       "      <td>0.0</td>\n",
       "      <td>0.0</td>\n",
       "      <td>0.0</td>\n",
       "      <td>0.402237</td>\n",
       "      <td>0.000000</td>\n",
       "      <td>0.0</td>\n",
       "      <td>0.005917</td>\n",
       "      <td>0.0</td>\n",
       "      <td>0.214052</td>\n",
       "      <td>0.0</td>\n",
       "      <td>...</td>\n",
       "      <td>0.0</td>\n",
       "      <td>0.022321</td>\n",
       "      <td>0.0</td>\n",
       "      <td>0.0</td>\n",
       "      <td>0.051751</td>\n",
       "      <td>0.0</td>\n",
       "      <td>0.303722</td>\n",
       "      <td>0.0</td>\n",
       "      <td>0.0</td>\n",
       "      <td>0.0</td>\n",
       "    </tr>\n",
       "    <tr>\n",
       "      <th>1</th>\n",
       "      <td>0.0</td>\n",
       "      <td>0.0</td>\n",
       "      <td>0.0</td>\n",
       "      <td>0.205969</td>\n",
       "      <td>0.023332</td>\n",
       "      <td>0.0</td>\n",
       "      <td>0.004880</td>\n",
       "      <td>0.0</td>\n",
       "      <td>0.162747</td>\n",
       "      <td>0.0</td>\n",
       "      <td>...</td>\n",
       "      <td>0.0</td>\n",
       "      <td>0.008077</td>\n",
       "      <td>0.0</td>\n",
       "      <td>0.0</td>\n",
       "      <td>0.000000</td>\n",
       "      <td>0.0</td>\n",
       "      <td>0.594994</td>\n",
       "      <td>0.0</td>\n",
       "      <td>0.0</td>\n",
       "      <td>0.0</td>\n",
       "    </tr>\n",
       "    <tr>\n",
       "      <th>2</th>\n",
       "      <td>0.0</td>\n",
       "      <td>0.0</td>\n",
       "      <td>0.0</td>\n",
       "      <td>0.375282</td>\n",
       "      <td>0.000000</td>\n",
       "      <td>0.0</td>\n",
       "      <td>0.011344</td>\n",
       "      <td>0.0</td>\n",
       "      <td>0.142039</td>\n",
       "      <td>0.0</td>\n",
       "      <td>...</td>\n",
       "      <td>0.0</td>\n",
       "      <td>0.010419</td>\n",
       "      <td>0.0</td>\n",
       "      <td>0.0</td>\n",
       "      <td>0.016148</td>\n",
       "      <td>0.0</td>\n",
       "      <td>0.444768</td>\n",
       "      <td>0.0</td>\n",
       "      <td>0.0</td>\n",
       "      <td>0.0</td>\n",
       "    </tr>\n",
       "    <tr>\n",
       "      <th>3</th>\n",
       "      <td>0.0</td>\n",
       "      <td>0.0</td>\n",
       "      <td>0.0</td>\n",
       "      <td>0.060441</td>\n",
       "      <td>0.770842</td>\n",
       "      <td>0.0</td>\n",
       "      <td>0.006277</td>\n",
       "      <td>0.0</td>\n",
       "      <td>0.021809</td>\n",
       "      <td>0.0</td>\n",
       "      <td>...</td>\n",
       "      <td>0.0</td>\n",
       "      <td>0.013770</td>\n",
       "      <td>0.0</td>\n",
       "      <td>0.0</td>\n",
       "      <td>0.000000</td>\n",
       "      <td>0.0</td>\n",
       "      <td>0.000000</td>\n",
       "      <td>0.0</td>\n",
       "      <td>0.0</td>\n",
       "      <td>0.0</td>\n",
       "    </tr>\n",
       "    <tr>\n",
       "      <th>4</th>\n",
       "      <td>0.0</td>\n",
       "      <td>0.0</td>\n",
       "      <td>0.0</td>\n",
       "      <td>0.007591</td>\n",
       "      <td>0.612998</td>\n",
       "      <td>0.0</td>\n",
       "      <td>0.000000</td>\n",
       "      <td>0.0</td>\n",
       "      <td>0.293679</td>\n",
       "      <td>0.0</td>\n",
       "      <td>...</td>\n",
       "      <td>0.0</td>\n",
       "      <td>0.000000</td>\n",
       "      <td>0.0</td>\n",
       "      <td>0.0</td>\n",
       "      <td>0.039960</td>\n",
       "      <td>0.0</td>\n",
       "      <td>0.000000</td>\n",
       "      <td>0.0</td>\n",
       "      <td>0.0</td>\n",
       "      <td>0.0</td>\n",
       "    </tr>\n",
       "  </tbody>\n",
       "</table>\n",
       "<p>5 rows × 22 columns</p>\n",
       "</div>"
      ],
      "text/plain": [
       "   art_music  biography  business  children  classics  comics  contemporary  \\\n",
       "0        0.0        0.0       0.0  0.402237  0.000000     0.0      0.005917   \n",
       "1        0.0        0.0       0.0  0.205969  0.023332     0.0      0.004880   \n",
       "2        0.0        0.0       0.0  0.375282  0.000000     0.0      0.011344   \n",
       "3        0.0        0.0       0.0  0.060441  0.770842     0.0      0.006277   \n",
       "4        0.0        0.0       0.0  0.007591  0.612998     0.0      0.000000   \n",
       "\n",
       "   cookbooks   fiction  gay_lesbian   ...    humor   mystery  nonfiction  \\\n",
       "0        0.0  0.214052          0.0   ...      0.0  0.022321         0.0   \n",
       "1        0.0  0.162747          0.0   ...      0.0  0.008077         0.0   \n",
       "2        0.0  0.142039          0.0   ...      0.0  0.010419         0.0   \n",
       "3        0.0  0.021809          0.0   ...      0.0  0.013770         0.0   \n",
       "4        0.0  0.293679          0.0   ...      0.0  0.000000         0.0   \n",
       "\n",
       "   religion_philosophy   romance  science  scifi_fantasy  self_help  sports  \\\n",
       "0                  0.0  0.051751      0.0       0.303722        0.0     0.0   \n",
       "1                  0.0  0.000000      0.0       0.594994        0.0     0.0   \n",
       "2                  0.0  0.016148      0.0       0.444768        0.0     0.0   \n",
       "3                  0.0  0.000000      0.0       0.000000        0.0     0.0   \n",
       "4                  0.0  0.039960      0.0       0.000000        0.0     0.0   \n",
       "\n",
       "   travel  \n",
       "0     0.0  \n",
       "1     0.0  \n",
       "2     0.0  \n",
       "3     0.0  \n",
       "4     0.0  \n",
       "\n",
       "[5 rows x 22 columns]"
      ]
     },
     "execution_count": 103,
     "metadata": {},
     "output_type": "execute_result"
    }
   ],
   "source": [
    "books_genres_norm.head()"
   ]
  },
  {
   "cell_type": "markdown",
   "metadata": {},
   "source": [
    "###### Drop Values < 0.1"
   ]
  },
  {
   "cell_type": "code",
   "execution_count": 104,
   "metadata": {
    "collapsed": true
   },
   "outputs": [],
   "source": [
    "only_above_10 = books_genres_norm.where(books_genres_norm > 0.1, other=0)"
   ]
  },
  {
   "cell_type": "markdown",
   "metadata": {},
   "source": [
    "###### Normalize Again"
   ]
  },
  {
   "cell_type": "code",
   "execution_count": 105,
   "metadata": {
    "collapsed": true
   },
   "outputs": [],
   "source": [
    "books_genres_norm2 = pd.concat([books_genres.book_id, \n",
    "                                pd.DataFrame(Normalizer(norm='l1').fit_transform(only_above_10), \n",
    "                                             columns=new_genres)], axis=1)"
   ]
  },
  {
   "cell_type": "code",
   "execution_count": 106,
   "metadata": {},
   "outputs": [
    {
     "data": {
      "text/html": [
       "<div>\n",
       "<style>\n",
       "    .dataframe thead tr:only-child th {\n",
       "        text-align: right;\n",
       "    }\n",
       "\n",
       "    .dataframe thead th {\n",
       "        text-align: left;\n",
       "    }\n",
       "\n",
       "    .dataframe tbody tr th {\n",
       "        vertical-align: top;\n",
       "    }\n",
       "</style>\n",
       "<table border=\"1\" class=\"dataframe\">\n",
       "  <thead>\n",
       "    <tr style=\"text-align: right;\">\n",
       "      <th></th>\n",
       "      <th>book_id</th>\n",
       "      <th>art_music</th>\n",
       "      <th>biography</th>\n",
       "      <th>business</th>\n",
       "      <th>children</th>\n",
       "      <th>classics</th>\n",
       "      <th>comics</th>\n",
       "      <th>contemporary</th>\n",
       "      <th>cookbooks</th>\n",
       "      <th>fiction</th>\n",
       "      <th>...</th>\n",
       "      <th>humor</th>\n",
       "      <th>mystery</th>\n",
       "      <th>nonfiction</th>\n",
       "      <th>religion_philosophy</th>\n",
       "      <th>romance</th>\n",
       "      <th>science</th>\n",
       "      <th>scifi_fantasy</th>\n",
       "      <th>self_help</th>\n",
       "      <th>sports</th>\n",
       "      <th>travel</th>\n",
       "    </tr>\n",
       "  </thead>\n",
       "  <tbody>\n",
       "    <tr>\n",
       "      <th>0</th>\n",
       "      <td>1</td>\n",
       "      <td>0.0</td>\n",
       "      <td>0.0</td>\n",
       "      <td>0.0</td>\n",
       "      <td>0.437209</td>\n",
       "      <td>0.000000</td>\n",
       "      <td>0.0</td>\n",
       "      <td>0.0</td>\n",
       "      <td>0.0</td>\n",
       "      <td>0.232663</td>\n",
       "      <td>...</td>\n",
       "      <td>0.0</td>\n",
       "      <td>0.0</td>\n",
       "      <td>0.0</td>\n",
       "      <td>0.0</td>\n",
       "      <td>0.0</td>\n",
       "      <td>0.0</td>\n",
       "      <td>0.330129</td>\n",
       "      <td>0.0</td>\n",
       "      <td>0.0</td>\n",
       "      <td>0.0</td>\n",
       "    </tr>\n",
       "    <tr>\n",
       "      <th>1</th>\n",
       "      <td>2</td>\n",
       "      <td>0.0</td>\n",
       "      <td>0.0</td>\n",
       "      <td>0.0</td>\n",
       "      <td>0.213725</td>\n",
       "      <td>0.000000</td>\n",
       "      <td>0.0</td>\n",
       "      <td>0.0</td>\n",
       "      <td>0.0</td>\n",
       "      <td>0.168876</td>\n",
       "      <td>...</td>\n",
       "      <td>0.0</td>\n",
       "      <td>0.0</td>\n",
       "      <td>0.0</td>\n",
       "      <td>0.0</td>\n",
       "      <td>0.0</td>\n",
       "      <td>0.0</td>\n",
       "      <td>0.617399</td>\n",
       "      <td>0.0</td>\n",
       "      <td>0.0</td>\n",
       "      <td>0.0</td>\n",
       "    </tr>\n",
       "    <tr>\n",
       "      <th>2</th>\n",
       "      <td>3</td>\n",
       "      <td>0.0</td>\n",
       "      <td>0.0</td>\n",
       "      <td>0.0</td>\n",
       "      <td>0.390070</td>\n",
       "      <td>0.000000</td>\n",
       "      <td>0.0</td>\n",
       "      <td>0.0</td>\n",
       "      <td>0.0</td>\n",
       "      <td>0.147636</td>\n",
       "      <td>...</td>\n",
       "      <td>0.0</td>\n",
       "      <td>0.0</td>\n",
       "      <td>0.0</td>\n",
       "      <td>0.0</td>\n",
       "      <td>0.0</td>\n",
       "      <td>0.0</td>\n",
       "      <td>0.462294</td>\n",
       "      <td>0.0</td>\n",
       "      <td>0.0</td>\n",
       "      <td>0.0</td>\n",
       "    </tr>\n",
       "    <tr>\n",
       "      <th>3</th>\n",
       "      <td>4</td>\n",
       "      <td>0.0</td>\n",
       "      <td>0.0</td>\n",
       "      <td>0.0</td>\n",
       "      <td>0.000000</td>\n",
       "      <td>0.867749</td>\n",
       "      <td>0.0</td>\n",
       "      <td>0.0</td>\n",
       "      <td>0.0</td>\n",
       "      <td>0.000000</td>\n",
       "      <td>...</td>\n",
       "      <td>0.0</td>\n",
       "      <td>0.0</td>\n",
       "      <td>0.0</td>\n",
       "      <td>0.0</td>\n",
       "      <td>0.0</td>\n",
       "      <td>0.0</td>\n",
       "      <td>0.000000</td>\n",
       "      <td>0.0</td>\n",
       "      <td>0.0</td>\n",
       "      <td>0.0</td>\n",
       "    </tr>\n",
       "    <tr>\n",
       "      <th>4</th>\n",
       "      <td>5</td>\n",
       "      <td>0.0</td>\n",
       "      <td>0.0</td>\n",
       "      <td>0.0</td>\n",
       "      <td>0.000000</td>\n",
       "      <td>0.676093</td>\n",
       "      <td>0.0</td>\n",
       "      <td>0.0</td>\n",
       "      <td>0.0</td>\n",
       "      <td>0.323907</td>\n",
       "      <td>...</td>\n",
       "      <td>0.0</td>\n",
       "      <td>0.0</td>\n",
       "      <td>0.0</td>\n",
       "      <td>0.0</td>\n",
       "      <td>0.0</td>\n",
       "      <td>0.0</td>\n",
       "      <td>0.000000</td>\n",
       "      <td>0.0</td>\n",
       "      <td>0.0</td>\n",
       "      <td>0.0</td>\n",
       "    </tr>\n",
       "  </tbody>\n",
       "</table>\n",
       "<p>5 rows × 23 columns</p>\n",
       "</div>"
      ],
      "text/plain": [
       "   book_id  art_music  biography  business  children  classics  comics  \\\n",
       "0        1        0.0        0.0       0.0  0.437209  0.000000     0.0   \n",
       "1        2        0.0        0.0       0.0  0.213725  0.000000     0.0   \n",
       "2        3        0.0        0.0       0.0  0.390070  0.000000     0.0   \n",
       "3        4        0.0        0.0       0.0  0.000000  0.867749     0.0   \n",
       "4        5        0.0        0.0       0.0  0.000000  0.676093     0.0   \n",
       "\n",
       "   contemporary  cookbooks   fiction   ...    humor  mystery  nonfiction  \\\n",
       "0           0.0        0.0  0.232663   ...      0.0      0.0         0.0   \n",
       "1           0.0        0.0  0.168876   ...      0.0      0.0         0.0   \n",
       "2           0.0        0.0  0.147636   ...      0.0      0.0         0.0   \n",
       "3           0.0        0.0  0.000000   ...      0.0      0.0         0.0   \n",
       "4           0.0        0.0  0.323907   ...      0.0      0.0         0.0   \n",
       "\n",
       "   religion_philosophy  romance  science  scifi_fantasy  self_help  sports  \\\n",
       "0                  0.0      0.0      0.0       0.330129        0.0     0.0   \n",
       "1                  0.0      0.0      0.0       0.617399        0.0     0.0   \n",
       "2                  0.0      0.0      0.0       0.462294        0.0     0.0   \n",
       "3                  0.0      0.0      0.0       0.000000        0.0     0.0   \n",
       "4                  0.0      0.0      0.0       0.000000        0.0     0.0   \n",
       "\n",
       "   travel  \n",
       "0     0.0  \n",
       "1     0.0  \n",
       "2     0.0  \n",
       "3     0.0  \n",
       "4     0.0  \n",
       "\n",
       "[5 rows x 23 columns]"
      ]
     },
     "execution_count": 106,
     "metadata": {},
     "output_type": "execute_result"
    }
   ],
   "source": [
    "books_genres_norm2.head()"
   ]
  },
  {
   "cell_type": "markdown",
   "metadata": {},
   "source": [
    "###### Map to Ratings"
   ]
  },
  {
   "cell_type": "code",
   "execution_count": 107,
   "metadata": {
    "collapsed": true
   },
   "outputs": [],
   "source": [
    "ratings_genres = ratings.merge(books_genres_norm2, on='book_id', how='left').drop(['user_id', 'book_id', 'rating'], axis=1)"
   ]
  },
  {
   "cell_type": "code",
   "execution_count": 108,
   "metadata": {},
   "outputs": [
    {
     "data": {
      "text/plain": [
       "(5976695, 22)"
      ]
     },
     "execution_count": 108,
     "metadata": {},
     "output_type": "execute_result"
    }
   ],
   "source": [
    "ratings_genres.shape # n_ratings x n_genres"
   ]
  },
  {
   "cell_type": "code",
   "execution_count": 123,
   "metadata": {},
   "outputs": [
    {
     "data": {
      "text/plain": [
       "Index(['art_music', 'biography', 'business', 'children', 'classics', 'comics',\n",
       "       'contemporary', 'cookbooks', 'fiction', 'gay_lesbian', 'hist_fiction',\n",
       "       'history', 'humor', 'mystery', 'nonfiction', 'religion_philosophy',\n",
       "       'romance', 'science', 'scifi_fantasy', 'self_help', 'sports', 'travel'],\n",
       "      dtype='object')"
      ]
     },
     "execution_count": 123,
     "metadata": {},
     "output_type": "execute_result"
    }
   ],
   "source": [
    "ratings_genres.columns"
   ]
  },
  {
   "cell_type": "code",
   "execution_count": 109,
   "metadata": {},
   "outputs": [
    {
     "data": {
      "text/plain": [
       "5975780.000002879"
      ]
     },
     "execution_count": 109,
     "metadata": {},
     "output_type": "execute_result"
    }
   ],
   "source": [
    "ratings_genres.sum().sum() # sanity check - rounding errors?"
   ]
  },
  {
   "cell_type": "markdown",
   "metadata": {},
   "source": [
    "###### Make Sparse Matrix"
   ]
  },
  {
   "cell_type": "code",
   "execution_count": 110,
   "metadata": {
    "collapsed": true
   },
   "outputs": [],
   "source": [
    "genres_sparse = csc_matrix(ratings_genres)"
   ]
  },
  {
   "cell_type": "markdown",
   "metadata": {},
   "source": [
    "## Concatenate Everything!"
   ]
  },
  {
   "cell_type": "code",
   "execution_count": 111,
   "metadata": {
    "collapsed": true
   },
   "outputs": [],
   "source": [
    "def concatenate_csc_matrices_by_columns(matrix1, matrix2):\n",
    "    new_data = np.concatenate((matrix1.data, matrix2.data))\n",
    "    new_indices = np.concatenate((matrix1.indices, matrix2.indices))\n",
    "    new_ind_ptr = matrix2.indptr + len(matrix1.data)\n",
    "    new_ind_ptr = new_ind_ptr[1:]\n",
    "    new_ind_ptr = np.concatenate((matrix1.indptr, new_ind_ptr))\n",
    "\n",
    "    return csc_matrix((new_data, new_indices, new_ind_ptr))"
   ]
  },
  {
   "cell_type": "code",
   "execution_count": 112,
   "metadata": {
    "collapsed": true
   },
   "outputs": [],
   "source": [
    "temp1 = concatenate_csc_matrices_by_columns(users_dummies, book_dummies)\n",
    "temp2 = concatenate_csc_matrices_by_columns(temp1, authors_dummies)\n",
    "#temp3 = concatenate_csc_matrices_by_columns(temp2, language_dummies)\n",
    "temp3 = concatenate_csc_matrices_by_columns(temp2, language_dummies)\n",
    "temp4 = concatenate_csc_matrices_by_columns(temp3, years_sparse)\n",
    "temp5 = concatenate_csc_matrices_by_columns(temp4, nlp_sparse)\n",
    "all_features = concatenate_csc_matrices_by_columns(temp5, genres_sparse)\n",
    "#all_features = concatenate_csc_matrices_by_columns(temp4, genres_sparse)"
   ]
  },
  {
   "cell_type": "code",
   "execution_count": 113,
   "metadata": {},
   "outputs": [
    {
     "data": {
      "text/plain": [
       "68147"
      ]
     },
     "execution_count": 113,
     "metadata": {},
     "output_type": "execute_result"
    }
   ],
   "source": [
    "#n_users + n_books + n_authors + n_languages + 1 years column + 40 nlp features + n_genres\n",
    "53428 + 10000 + 4664 + 22 + 1 + 10 + 22\n",
    "#53428 + 10000 + 4664+22 + 1  + 22"
   ]
  },
  {
   "cell_type": "code",
   "execution_count": 114,
   "metadata": {},
   "outputs": [
    {
     "data": {
      "text/plain": [
       "(5976695, 68147)"
      ]
     },
     "execution_count": 114,
     "metadata": {},
     "output_type": "execute_result"
    }
   ],
   "source": [
    "all_features.shape # BOOM"
   ]
  },
  {
   "cell_type": "markdown",
   "metadata": {},
   "source": [
    "## Train/Test Sets"
   ]
  },
  {
   "cell_type": "code",
   "execution_count": 115,
   "metadata": {
    "collapsed": true
   },
   "outputs": [],
   "source": [
    "val_test_size = round(0.15 * all_features.shape[0])"
   ]
  },
  {
   "cell_type": "code",
   "execution_count": 116,
   "metadata": {
    "collapsed": true
   },
   "outputs": [],
   "source": [
    "X_temp, X_test, y_temp, y_test = train_test_split(all_features, y, test_size=val_test_size, random_state=42)"
   ]
  },
  {
   "cell_type": "code",
   "execution_count": 117,
   "metadata": {
    "collapsed": true
   },
   "outputs": [],
   "source": [
    "X_train, X_val, y_train, y_val = train_test_split(X_temp, y_temp, test_size=val_test_size, random_state=42)"
   ]
  },
  {
   "cell_type": "markdown",
   "metadata": {},
   "source": [
    "## Write Files"
   ]
  },
  {
   "cell_type": "code",
   "execution_count": 118,
   "metadata": {
    "collapsed": true
   },
   "outputs": [],
   "source": [
    "train_file = 'libfm_train_normnlp.txt'\n",
    "val_file = 'libfm_val_normnlp.txt'\n",
    "test_file = 'libfm_test_normnlp.txt'"
   ]
  },
  {
   "cell_type": "code",
   "execution_count": 119,
   "metadata": {
    "collapsed": true
   },
   "outputs": [],
   "source": [
    "with open(train_file, 'wb') as f:\n",
    "    dump_svmlight_file(X_train, y_train, f=f)"
   ]
  },
  {
   "cell_type": "code",
   "execution_count": 120,
   "metadata": {
    "collapsed": true
   },
   "outputs": [],
   "source": [
    "with open(val_file, 'wb') as f:\n",
    "    dump_svmlight_file(X_val, y_val, f=f)"
   ]
  },
  {
   "cell_type": "code",
   "execution_count": 121,
   "metadata": {
    "collapsed": true
   },
   "outputs": [],
   "source": [
    "with open(test_file, 'wb') as f:\n",
    "    dump_svmlight_file(X_test, y_test, f=f)"
   ]
  },
  {
   "cell_type": "markdown",
   "metadata": {},
   "source": [
    "## Calls to Generate All Feature Combinations\n",
    "The following section was used to generate feature combinations that would allow us to evaluate incremental value of each feature."
   ]
  },
  {
   "cell_type": "code",
   "execution_count": 122,
   "metadata": {
    "collapsed": true
   },
   "outputs": [],
   "source": [
    "# def generate_files(authors, language, years, nlp, genres, ending):\n",
    "#     feats = concatenate_csc_matrices_by_columns(users_dummies, book_dummies)\n",
    "#     if authors:\n",
    "#         feats = concatenate_csc_matrices_by_columns(feats, authors_dummies)\n",
    "#     if language:\n",
    "#         feats = concatenate_csc_matrices_by_columns(feats, language_dummies)\n",
    "#     if years:\n",
    "#         feats = concatenate_csc_matrices_by_columns(feats, years_sparse)\n",
    "#     if nlp:\n",
    "#         feats = concatenate_csc_matrices_by_columns(feats, nlp_sparse)\n",
    "#     if genres:\n",
    "#         feats = concatenate_csc_matrices_by_columns(feats, genres_sparse)\n",
    "    \n",
    "#     val_test_size = round(0.15 * feats.shape[0])\n",
    "#     X_temp, X_test, y_temp, y_test = train_test_split(feats, y, test_size=val_test_size, random_state=42)\n",
    "#     X_train, X_val, y_train, y_val = train_test_split(X_temp, y_temp, test_size=val_test_size, random_state=42)\n",
    "    \n",
    "#     train_file = 'libfm_train_{}.txt'.format(ending)\n",
    "#     val_file = 'libfm_val_{}.txt'.format(ending)\n",
    "#     test_file = 'libfm_test_{}.txt'.format(ending)\n",
    "    \n",
    "#     with open(train_file, 'wb') as f:\n",
    "#         dump_svmlight_file(X_train, y_train, f=f)\n",
    "    \n",
    "#     with open(val_file, 'wb') as f:\n",
    "#         dump_svmlight_file(X_val, y_val, f=f)\n",
    "    \n",
    "#     with open(test_file, 'wb') as f:\n",
    "#         dump_svmlight_file(X_test, y_test, f=f)"
   ]
  },
  {
   "cell_type": "code",
   "execution_count": 125,
   "metadata": {
    "collapsed": true
   },
   "outputs": [],
   "source": [
    "# generate_files(False,False,False,False,False,'solo')"
   ]
  },
  {
   "cell_type": "code",
   "execution_count": 126,
   "metadata": {
    "collapsed": true
   },
   "outputs": [],
   "source": [
    "# generate_files(True,False,False,False,False,'authors')"
   ]
  },
  {
   "cell_type": "code",
   "execution_count": 127,
   "metadata": {
    "collapsed": true
   },
   "outputs": [],
   "source": [
    "# generate_files(False,True,False,False,False,'language')"
   ]
  },
  {
   "cell_type": "code",
   "execution_count": 128,
   "metadata": {
    "collapsed": true
   },
   "outputs": [],
   "source": [
    "# generate_files(False,False,True,False,False,'years')"
   ]
  },
  {
   "cell_type": "code",
   "execution_count": 129,
   "metadata": {
    "collapsed": true
   },
   "outputs": [],
   "source": [
    "# generate_files(False,False,False,True,False,'nlp')"
   ]
  },
  {
   "cell_type": "code",
   "execution_count": 130,
   "metadata": {
    "collapsed": true
   },
   "outputs": [],
   "source": [
    "# generate_files(False,False,False,False,True,'genres')"
   ]
  }
 ],
 "metadata": {
  "anaconda-cloud": {},
  "kernelspec": {
   "display_name": "Python [conda root]",
   "language": "python",
   "name": "conda-root-py"
  },
  "language_info": {
   "codemirror_mode": {
    "name": "ipython",
    "version": 3
   },
   "file_extension": ".py",
   "mimetype": "text/x-python",
   "name": "python",
   "nbconvert_exporter": "python",
   "pygments_lexer": "ipython3",
   "version": "3.5.3"
  }
 },
 "nbformat": 4,
 "nbformat_minor": 1
}
