{
 "cells": [
  {
   "cell_type": "code",
   "execution_count": 2,
   "metadata": {
    "collapsed": true
   },
   "outputs": [],
   "source": [
    "import numpy as np\n",
    "import pandas as pd\n",
    "\n",
    "LIBFM_PATH = '~/Documents/libfm/bin/libFM'"
   ]
  },
  {
   "cell_type": "code",
   "execution_count": 3,
   "metadata": {
    "collapsed": true
   },
   "outputs": [],
   "source": [
    "def libFM(testing, training, validation, n_iter, rank, init_stdev, learn_rate):\n",
    "    outputfile=\"~/Documents/FM_results/output_{}_{}_{}.libfm\".format(r, init_stdev, learn_rate)\n",
    "    logfile=\"~/Documents/FM_results/log_{}_{}_{}.libfm\".format(r,init_stdev,learn_rate)\n",
    "    console_output = !$LIBFM_PATH -task r -method sgda -train $training -test $testing -validation $validation -iter $n_iter -dim '1,1,$rank' -out $outputfile -learn_rate $learn_rate -init_stdev $init_stdev -rlog $logfile\n",
    "    libfm_pred = pd.read_csv(logfile, sep='\\t')\n",
    "    return libfm_pred.rmse.min()"
   ]
  },
  {
   "cell_type": "code",
   "execution_count": null,
   "metadata": {},
   "outputs": [
    {
     "name": "stdout",
     "output_type": "stream",
     "text": [
      "RANK: 2 \t STDEV: 0.01 \t LEARNING RATE: 0.005\n",
      "MIN RMSE: 0.845994\n",
      "RANK: 2 \t STDEV: 0.01 \t LEARNING RATE: 0.01\n",
      "MIN RMSE: 0.855038\n",
      "RANK: 2 \t STDEV: 0.01 \t LEARNING RATE: 0.05\n"
     ]
    }
   ],
   "source": [
    "ranks=range(2,18,3)\n",
    "stdevs=[0.01,0.1,0.5,1,2.5,5]\n",
    "lrs=[0.005,0.01,0.05,0.1,0.5,1]\n",
    "\n",
    "ITERATIONS=20\n",
    "\n",
    "testing='/media/sf_part2/libfm_test_nonlp.txt'\n",
    "training='/media/sf_part2/libfm_train_nonlp.txt'\n",
    "validation='/media/sf_part2/libfm_val_nonlp.txt'\n",
    "\n",
    "results={}\n",
    "\n",
    "for r in ranks:\n",
    "    for s in stdevs:\n",
    "        for l in lrs:\n",
    "            print(\"RANK: {} \\t STDEV: {} \\t LEARNING RATE: {}\").format(r,s,l)\n",
    "            rmse=libFM(testing,training,validation,ITERATIONS,r,s,l)\n",
    "            results[(r,s,l)]=rmse\n",
    "            print(\"MIN RMSE: {}\".format(rmse))"
   ]
  }
 ],
 "metadata": {
  "kernelspec": {
   "display_name": "Python 2",
   "language": "python",
   "name": "python2"
  },
  "language_info": {
   "codemirror_mode": {
    "name": "ipython",
    "version": 2
   },
   "file_extension": ".py",
   "mimetype": "text/x-python",
   "name": "python",
   "nbconvert_exporter": "python",
   "pygments_lexer": "ipython2",
   "version": "2.7.14"
  }
 },
 "nbformat": 4,
 "nbformat_minor": 2
}
